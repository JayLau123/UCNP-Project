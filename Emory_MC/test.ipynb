{
 "cells": [
  {
   "cell_type": "code",
   "execution_count": 1,
   "metadata": {},
   "outputs": [
    {
     "name": "stdout",
     "output_type": "stream",
     "text": [
      "Successfully import:\n",
      "\n",
      "Tm_energy\n",
      "Tm_RME\n",
      "Tm_omega\n",
      "\n",
      "Successfully import: \n",
      "\n",
      "sorted_wavelength(energy_dict)\n",
      "find_ED_transition(energy_dict)\n",
      "find_MD_transition(energy_dict)\n",
      "\n",
      "Successfully import:\n",
      "\n",
      "class EnergyLevelDiagram(ion_name, energy_levels)\n",
      "class EnergyLevelDiagramArrow(ion_name, energy_levels, ED_transitions, MD_transitions)\n",
      "\n",
      "Successfully import:\n",
      "\n",
      "ED_cal(energy_dict, omega, RME_square, n)\n",
      "MD_cal(energy_dict, n)\n",
      "MPR_cal(energy_dict, W0, alpha, phonon)\n",
      "\n"
     ]
    }
   ],
   "source": [
    "from Tm_inf import *\n",
    "from Tm_Energy import *\n",
    "from Tm_EnergyLevelDiagram import *\n",
    "from Tm_RateCalculation import *\n",
    "from Tm_adjustable_parameter import *"
   ]
  },
  {
   "cell_type": "code",
   "execution_count": 2,
   "metadata": {},
   "outputs": [],
   "source": [
    "# manually input for Yb\n",
    "tag_Yb = {'c0':7e-39, # Yb-Yb resonant energy transfer\n",
    "          'Ws': 834,} # Yb ED+MD\n",
    "\n",
    "\n",
    "tag_Tm_ED = ED_cal(Tm_energy, Tm_omega, Tm_RME, n)\n",
    "tag_Tm_MD = MD_cal(Tm_energy, n)\n",
    "tag_Tm_mpr = MPR_cal(Tm_energy, W0, alpha, E_phonon)\n",
    "tag_default = tag_Tm_ED\n",
    "\n",
    "\n",
    "for key in tag_Yb:\n",
    "    tag_default[key] = tag_Yb[key]\n",
    "\n",
    "# MD+ED\n",
    "for key in tag_Tm_MD:\n",
    "    tag_default[key] = tag_default[key] + tag_Tm_MD[key]\n",
    "\n",
    "# MD+ED+MPR\n",
    "for key in tag_Tm_mpr:\n",
    "    tag_default[key] = tag_default[key] + tag_Tm_mpr[key]\n",
    "\n",
    "\n",
    "# tag_default\n"
   ]
  },
  {
   "cell_type": "code",
   "execution_count": 3,
   "metadata": {},
   "outputs": [],
   "source": [
    "from utils import *\n",
    "from Point_Tm import Point\n",
    "from Lattice_Tm import Lattice\n",
    "from EnergyTransfer_Tm import *\n",
    "from Simulator_Tm import Simulator"
   ]
  },
  {
   "cell_type": "code",
   "execution_count": 4,
   "metadata": {},
   "outputs": [
    {
     "name": "stdout",
     "output_type": "stream",
     "text": [
      "Running simulation for Tm concentration 0.15, power density 10000\n"
     ]
    },
    {
     "name": "stderr",
     "output_type": "stream",
     "text": [
      "100%|██████████| 3401/3401 [00:19<00:00, 174.52it/s]\n",
      "100%|██████████| 3401/3401 [00:27<00:00, 124.96it/s]\n",
      "100%|██████████| 3401/3401 [00:27<00:00, 122.32it/s]\n",
      "  3%|▎         | 3.247202947192909/100 [1:33:04<46:13:15, 1719.80s/it]     \n"
     ]
    },
    {
     "ename": "KeyboardInterrupt",
     "evalue": "",
     "output_type": "error",
     "traceback": [
      "\u001b[1;31m---------------------------------------------------------------------------\u001b[0m",
      "\u001b[1;31mKeyboardInterrupt\u001b[0m                         Traceback (most recent call last)",
      "Cell \u001b[1;32mIn[4], line 20\u001b[0m\n\u001b[0;32m     18\u001b[0m         my_lattice \u001b[38;5;241m=\u001b[39m Lattice(\u001b[38;5;241m1\u001b[39m\u001b[38;5;241m-\u001b[39mc, c, d, r0)  \u001b[38;5;66;03m# shell\u001b[39;00m\n\u001b[0;32m     19\u001b[0m         my_simulator \u001b[38;5;241m=\u001b[39m Simulator(my_lattice, tag\u001b[38;5;241m=\u001b[39mtag_default)\n\u001b[1;32m---> 20\u001b[0m         result \u001b[38;5;241m=\u001b[39m \u001b[43mmy_simulator\u001b[49m\u001b[38;5;241;43m.\u001b[39;49m\u001b[43msimulate\u001b[49m\u001b[43m(\u001b[49m\u001b[43mt1\u001b[49m\u001b[43m,\u001b[49m\u001b[43m \u001b[49m\u001b[43mt2\u001b[49m\u001b[43m)\u001b[49m  \u001b[38;5;66;03m# r is a dictionary from 'sim_stats'\u001b[39;00m\n\u001b[0;32m     22\u001b[0m \u001b[38;5;28mprint\u001b[39m(\u001b[38;5;124m'\u001b[39m\u001b[38;5;130;01m\\n\u001b[39;00m\u001b[38;5;124mAll progress have been finished.\u001b[39m\u001b[38;5;124m'\u001b[39m)\n",
      "File \u001b[1;32md:\\UCNP-project\\Emory_MC\\Simulator_Tm.py:424\u001b[0m, in \u001b[0;36mSimulator.simulate\u001b[1;34m(self, t1, t2)\u001b[0m\n\u001b[0;32m    420\u001b[0m \u001b[38;5;28;01mdef\u001b[39;00m \u001b[38;5;21msimulate\u001b[39m(\u001b[38;5;28mself\u001b[39m, t1, t2):\n\u001b[0;32m    421\u001b[0m \n\u001b[0;32m    422\u001b[0m     \u001b[38;5;66;03m## At 2500 steps, reach steady state\u001b[39;00m\n\u001b[1;32m--> 424\u001b[0m     \u001b[38;5;28mself\u001b[39m\u001b[38;5;241m.\u001b[39mstep(t1)\n\u001b[0;32m    425\u001b[0m     sim_stats \u001b[38;5;241m=\u001b[39m \u001b[38;5;28mself\u001b[39m\u001b[38;5;241m.\u001b[39mstep(t2\u001b[38;5;241m-\u001b[39mt1, emission\u001b[38;5;241m=\u001b[39m\u001b[38;5;28;01mTrue\u001b[39;00m)\n\u001b[0;32m    427\u001b[0m     \u001b[38;5;28;01mreturn\u001b[39;00m sim_stats\n",
      "File \u001b[1;32md:\\UCNP-project\\Emory_MC\\Simulator_Tm.py:99\u001b[0m, in \u001b[0;36mSimulator.step\u001b[1;34m(self, steps, emission)\u001b[0m\n\u001b[0;32m     96\u001b[0m \u001b[38;5;28;01mwith\u001b[39;00m tqdm(total\u001b[38;5;241m=\u001b[39m\u001b[38;5;241m100\u001b[39m) \u001b[38;5;28;01mas\u001b[39;00m pbar:\n\u001b[0;32m     97\u001b[0m     \u001b[38;5;28;01mwhile\u001b[39;00m (time_passed \u001b[38;5;241m<\u001b[39m steps):\n\u001b[1;32m---> 99\u001b[0m         transitions \u001b[38;5;241m=\u001b[39m np\u001b[38;5;241m.\u001b[39marray(\u001b[38;5;28mlist\u001b[39m(transition_table\u001b[38;5;241m.\u001b[39mkeys()))\n\u001b[0;32m    100\u001b[0m         rates \u001b[38;5;241m=\u001b[39m np\u001b[38;5;241m.\u001b[39marray(\u001b[38;5;28mlist\u001b[39m(transition_table\u001b[38;5;241m.\u001b[39mvalues()))\n\u001b[0;32m    101\u001b[0m         probabilities \u001b[38;5;241m=\u001b[39m rates \u001b[38;5;241m/\u001b[39m rates\u001b[38;5;241m.\u001b[39msum()\n",
      "\u001b[1;31mKeyboardInterrupt\u001b[0m: "
     ]
    }
   ],
   "source": [
    "Tm_conc = [0.15]\n",
    "power_density = [10000]\n",
    "\n",
    "t1 = 3000 * 10 ** (-6)\n",
    "t2 = 5000* 10 ** (-6)\n",
    "\n",
    "\n",
    "for i, c in enumerate(Tm_conc):\n",
    "\n",
    "\n",
    "    for p in power_density:\n",
    "        print(f\"Running simulation for Tm concentration {c}, power density {p}\")\n",
    "\n",
    "        # sigma from MC paper, SI \n",
    "        tag_default['laser'] = 0.058 * p\n",
    "        tag_default['laser_tm'] = 0.0084 * p       \n",
    "        \n",
    "        my_lattice = Lattice(1-c, c, d, r0)  # shell\n",
    "        my_simulator = Simulator(my_lattice, tag=tag_default)\n",
    "        result = my_simulator.simulate(t1, t2)  # r is a dictionary from 'sim_stats'\n",
    "\n",
    "print('\\nAll progress have been finished.')\n"
   ]
  },
  {
   "cell_type": "code",
   "execution_count": null,
   "metadata": {},
   "outputs": [],
   "source": [
    "import pickle\n",
    "with open('1sim.pkl', 'wb') as file:\n",
    "    pickle.dump(result, file)\n"
   ]
  },
  {
   "cell_type": "code",
   "execution_count": null,
   "metadata": {},
   "outputs": [],
   "source": []
  }
 ],
 "metadata": {
  "kernelspec": {
   "display_name": "Python 3",
   "language": "python",
   "name": "python3"
  },
  "language_info": {
   "codemirror_mode": {
    "name": "ipython",
    "version": 3
   },
   "file_extension": ".py",
   "mimetype": "text/x-python",
   "name": "python",
   "nbconvert_exporter": "python",
   "pygments_lexer": "ipython3",
   "version": "3.11.3"
  }
 },
 "nbformat": 4,
 "nbformat_minor": 2
}
