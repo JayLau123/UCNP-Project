{
 "cells": [
  {
   "cell_type": "markdown",
   "metadata": {},
   "source": [
    "# 1st step, calculate all rates"
   ]
  },
  {
   "cell_type": "code",
   "execution_count": 12,
   "metadata": {},
   "outputs": [],
   "source": [
    "from Tm_inf import *\n",
    "from Tm_Energy import *\n",
    "from Tm_EnergyLevelDiagram import *\n",
    "from Tm_RateCalculation import *\n",
    "from Tm_adjustable_parameter import *"
   ]
  },
  {
   "cell_type": "markdown",
   "metadata": {},
   "source": [
    "## 1. Input materials parameters"
   ]
  },
  {
   "cell_type": "markdown",
   "metadata": {},
   "source": [
    "### Have a check"
   ]
  },
  {
   "cell_type": "code",
   "execution_count": 13,
   "metadata": {},
   "outputs": [
    {
     "name": "stdout",
     "output_type": "stream",
     "text": [
      "12 66\n"
     ]
    }
   ],
   "source": [
    "print(len(Tm_energy), len(Tm_RME))"
   ]
  },
  {
   "cell_type": "markdown",
   "metadata": {},
   "source": [
    "## 2. Merge all rates together"
   ]
  },
  {
   "cell_type": "code",
   "execution_count": 14,
   "metadata": {},
   "outputs": [],
   "source": [
    "# manually input for Yb\n",
    "tag_Yb = {'c0':7e-39, # Yb-Yb resonant energy transfer\n",
    "          'Ws': 834,} # Yb ED+MD\n",
    "\n",
    "\n",
    "tag_Tm_ED = ED_cal(Tm_energy, Tm_omega, Tm_RME, n)\n",
    "tag_Tm_MD = MD_cal(Tm_energy, n)\n",
    "tag_Tm_mpr = MPR_cal(Tm_energy, W0, alpha, E_phonon)\n",
    "tag_default = tag_Tm_ED\n",
    "\n",
    "\n",
    "for key in tag_Yb:\n",
    "    tag_default[key] = tag_Yb[key]\n",
    "\n",
    "# MD+ED\n",
    "for key in tag_Tm_MD:\n",
    "    tag_default[key] = tag_default[key] + tag_Tm_MD[key]\n",
    "\n",
    "# MD+ED+MPR\n",
    "for key in tag_Tm_mpr:\n",
    "    tag_default[key] = tag_default[key] + tag_Tm_mpr[key]\n",
    "\n",
    "\n",
    "# tag_default\n"
   ]
  },
  {
   "cell_type": "code",
   "execution_count": 15,
   "metadata": {},
   "outputs": [
    {
     "data": {
      "text/plain": [
       "68"
      ]
     },
     "execution_count": 15,
     "metadata": {},
     "output_type": "execute_result"
    }
   ],
   "source": [
    "len(tag_default)"
   ]
  },
  {
   "cell_type": "markdown",
   "metadata": {},
   "source": [
    "# Progress file"
   ]
  },
  {
   "cell_type": "code",
   "execution_count": 16,
   "metadata": {},
   "outputs": [],
   "source": [
    "import os\n",
    "import pickle\n",
    "from datetime import datetime\n",
    "from time import sleep\n",
    "\n",
    "\n",
    "# load or initialize progress\n",
    "def load_or_initialize_progress(file_path):\n",
    "    if os.path.exists(file_path):\n",
    "        with open(file_path, 'rb') as f:\n",
    "            return pickle.load(f)\n",
    "    else:\n",
    "        return {}\n",
    "\n",
    "# save progress\n",
    "def save_progress(file_path, data):\n",
    "    with open(file_path, 'wb') as f:\n",
    "        pickle.dump(data, f)\n",
    "\n",
    "progress_folder = 'Yuxuan_data_files'\n",
    "if not os.path.exists(progress_folder):\n",
    "    os.makedirs(progress_folder)\n",
    "\n",
    "# unique filename\n",
    "current_date = datetime.now().strftime('%m_%d_%Y')\n",
    "base_filename = f'Progress_{current_date}'\n",
    "index = 1\n",
    "progress_filepath = os.path.join(progress_folder, f'{base_filename}_{index}.ipynb')\n",
    "    \n",
    "while os.path.exists(progress_filepath):\n",
    "    index += 1\n",
    "    progress_filepath = os.path.join(progress_folder, f'{base_filename}_{index}.ipynb')\n",
    "\n",
    "\n",
    "# The first time to run the code, the folder 'Chuanyu_data_files' will have a new file: 'myC_progress.pkl'\n",
    "# if there is no at least one combination finished, there would be no 'myC_progress.pkl' in the directory\n",
    "# check the progress data if the program is interruptted\n",
    "\n",
    "\n",
    "\"\"\"\n",
    "file_path = 'Yuxuan_data_files/myC_progress.pkl'\n",
    "\n",
    "with open(file_path, 'rb') as file:\n",
    "    progress_data = pickle.load(file)\n",
    "\n",
    "for key, value in progress_data.items():\n",
    "    print(key, value)\n",
    "\"\"\"\n",
    "\n",
    "# Load or initialize progress data\n",
    "# if progress_file_path doesn't exist, then return a {}\n",
    "# if progress_file_path exists, then return a progress_data, which is an incomplete myC\n",
    "# after interruption, run code and the the progress bar will start from the next combination\n",
    "# after finish, the progress file is large: ~60M\n",
    "\n",
    "myC = load_or_initialize_progress(progress_filepath)\n"
   ]
  },
  {
   "cell_type": "markdown",
   "metadata": {},
   "source": [
    "# Instruction file"
   ]
  },
  {
   "cell_type": "code",
   "execution_count": 17,
   "metadata": {},
   "outputs": [
    {
     "ename": "ModuleNotFoundError",
     "evalue": "No module named 'Tm_insturction_file'",
     "output_type": "error",
     "traceback": [
      "\u001b[1;31m---------------------------------------------------------------------------\u001b[0m",
      "\u001b[1;31mModuleNotFoundError\u001b[0m                       Traceback (most recent call last)",
      "Cell \u001b[1;32mIn[17], line 1\u001b[0m\n\u001b[1;32m----> 1\u001b[0m \u001b[38;5;28;01mfrom\u001b[39;00m \u001b[38;5;21;01mTm_insturction_file\u001b[39;00m \u001b[38;5;28;01mimport\u001b[39;00m \u001b[38;5;241m*\u001b[39m\n\u001b[0;32m      3\u001b[0m create_instruction_notebook(\u001b[38;5;124m'\u001b[39m\u001b[38;5;124mYuxuan_data_files\u001b[39m\u001b[38;5;124m'\u001b[39m, \u001b[38;5;124m'\u001b[39m\u001b[38;5;124mSaturationCurves_Tm.py\u001b[39m\u001b[38;5;124m'\u001b[39m, \u001b[38;5;124m'\u001b[39m\u001b[38;5;124mOptimalPercentage_Tm.py\u001b[39m\u001b[38;5;124m'\u001b[39m, \u001b[38;5;124m'\u001b[39m\u001b[38;5;124mPopulationEvolution_Tm.py\u001b[39m\u001b[38;5;124m'\u001b[39m)\n",
      "\u001b[1;31mModuleNotFoundError\u001b[0m: No module named 'Tm_insturction_file'"
     ]
    }
   ],
   "source": [
    "from Tm_insturction_file import *\n",
    "\n",
    "create_instruction_notebook('Yuxuan_data_files', 'SaturationCurves_Tm.py', 'OptimalPercentage_Tm.py', 'PopulationEvolution_Tm.py')\n"
   ]
  },
  {
   "cell_type": "code",
   "execution_count": 7,
   "metadata": {},
   "outputs": [
    {
     "name": "stdout",
     "output_type": "stream",
     "text": [
      "\n",
      "For red (705.0 nm to 850.0 nm):\n",
      "Number of selected transitions: 6\n",
      "\n",
      "For blue (400.0 nm to 510.0 nm):\n",
      "Number of selected transitions: 14\n"
     ]
    },
    {
     "data": {
      "text/plain": [
       "{'red': {'E9(1I6)E6(1G4)': 707,\n",
       "  'E8(3P0)E6(1G4)': 738,\n",
       "  'E7(1D2)E4(3F3)': 745,\n",
       "  'E6(1G4)E2(3H5)': 772,\n",
       "  'E7(1D2)E5(3F2)': 778,\n",
       "  'E3(3H4)E0(3H6)': 795},\n",
       " 'blue': {'E10(3P1)E3(3H4)': 423,\n",
       "  'E11(3P2)E4(3F3)': 423,\n",
       "  'E11(3P2)E5(3F2)': 433,\n",
       "  'E9(1I6)E3(3H4)': 439,\n",
       "  'E7(1D2)E1(3F4)': 450,\n",
       "  'E8(3P0)E3(3H4)': 451,\n",
       "  'E10(3P1)E4(3F3)': 459,\n",
       "  'E10(3P1)E5(3F2)': 471,\n",
       "  'E6(1G4)E0(3H6)': 472,\n",
       "  'E9(1I6)E4(3F3)': 478,\n",
       "  'E9(1I6)E5(3F2)': 492,\n",
       "  'E8(3P0)E4(3F3)': 493,\n",
       "  'E8(3P0)E5(3F2)': 507,\n",
       "  'E7(1D2)E2(3H5)': 509}}"
      ]
     },
     "execution_count": 7,
     "metadata": {},
     "output_type": "execute_result"
    }
   ],
   "source": [
    "find_Er_ED_transition = find_ED_transition(Tm_energy)\n",
    "find_Er_ED_transition "
   ]
  },
  {
   "cell_type": "markdown",
   "metadata": {},
   "source": [
    "# Execution"
   ]
  },
  {
   "cell_type": "code",
   "execution_count": 8,
   "metadata": {},
   "outputs": [
    {
     "name": "stdout",
     "output_type": "stream",
     "text": [
      "Running simulation for Tm concentration 0.15, power density 10000\n"
     ]
    },
    {
     "name": "stderr",
     "output_type": "stream",
     "text": [
      "100%|██████████| 3401/3401 [00:04<00:00, 737.15it/s]\n"
     ]
    },
    {
     "ename": "TypeError",
     "evalue": "Simulator.__init__() got multiple values for argument 'tag'",
     "output_type": "error",
     "traceback": [
      "\u001b[0;31m---------------------------------------------------------------------------\u001b[0m",
      "\u001b[0;31mTypeError\u001b[0m                                 Traceback (most recent call last)",
      "Cell \u001b[0;32mIn[8], line 78\u001b[0m\n\u001b[1;32m     75\u001b[0m tag_default[\u001b[38;5;124m'\u001b[39m\u001b[38;5;124mlaser_tm\u001b[39m\u001b[38;5;124m'\u001b[39m] \u001b[38;5;241m=\u001b[39m \u001b[38;5;241m0.0084\u001b[39m \u001b[38;5;241m*\u001b[39m p       \n\u001b[1;32m     77\u001b[0m my_lattice \u001b[38;5;241m=\u001b[39m Lattice(\u001b[38;5;241m1\u001b[39m\u001b[38;5;241m-\u001b[39mc, c, d, r0)  \u001b[38;5;66;03m# shell\u001b[39;00m\n\u001b[0;32m---> 78\u001b[0m my_simulator \u001b[38;5;241m=\u001b[39m Simulator(my_lattice, find_Er_ED_transition, tag\u001b[38;5;241m=\u001b[39mtag_default)\n\u001b[1;32m     79\u001b[0m result \u001b[38;5;241m=\u001b[39m my_simulator\u001b[38;5;241m.\u001b[39msimulate(t1, t2)  \u001b[38;5;66;03m# r is a dictionary from 'sim_stats'\u001b[39;00m\n\u001b[1;32m     81\u001b[0m \u001b[38;5;66;03m# Store result and save progress\u001b[39;00m\n",
      "\u001b[0;31mTypeError\u001b[0m: Simulator.__init__() got multiple values for argument 'tag'"
     ]
    }
   ],
   "source": [
    "from utils import *\n",
    "from Point_Tm import Point\n",
    "from Lattice_Tm import Lattice\n",
    "from EnergyTransfer_Tm import *\n",
    "from Simulator_Tm import Simulator\n",
    "\n",
    "# [0.04, 0.06, 0.08, 0.1, 0.12, 0.15, 0.2, 0.5]\n",
    "# [1, 5, 10, 20, 40, 80, 100, 200, 400, 800, 1000, 2000, 5000, 10000, 20000, 50000, 100000, 200000, 500000, 1000000, 2000000, 5000000, 10000000]\n",
    "\n",
    "# [0.02, 0.04, 0.08, 0.16], Yb = 0.2\n",
    "# [1, 5, 10, 20, 40, 80, 100, 200, 400, 800, 1000, 2000, 5000, 10000, 20000, 50000, 100000, 200000, 500000, 1000000, 2000000, 5000000, 10000000]\n",
    "\n",
    "\n",
    "# Er_conc=[0.02, 0.04, 0.06, 0.08, 0.1, 0.12, 0.15, 0.2, 0.25, 0.3, 0.35, 0.4, 0.45, 0.5, 0.55, 0.6]\n",
    "# Er_conc=[0.02, 0.04, 0.06, 0.08, 0.1, 0.12, 0.15, 0.2, 0.25, 0.3, 0.35, 0.4, 0.45, 0.5, 0.55, 0.6, 0.65, 0.7, 0.75, 0.8]\n",
    "# Er_conc=[0.02, 0.04, 0.06, 0.08, 0.1, 0.12, 0.15, 0.2, 0.25, 0.3, 0.35, 0.4, 0.45, 0.5]\n",
    "# Er_conc=[0.04, 0.06, 0.08, 0.1, 0.12, 0.15, 0.2, 0.5]\n",
    "# Yb_conc=0.2\n",
    "# power_density =  [10, 20, 40, 80, 1*10**2, 2*10**2, 4*10**2, 8*10**2, 1*10**3, 2*10**3, 4*10**3, 8*10**3, 1*10**4, 2*10**4, 4*10**4, 8*10**4, 1*10**5, 2*10**5, 4*10**5, 8*10**5, 1*10**6, 2*10**6, 4*10**6, 8*10**6, 1*10**7]\n",
    "\n",
    "\n",
    "# Er_conc=[0.02, 0.04, 0.06, 0.08, 0.1, 0.12, 0.15, 0.2, 0.25, 0.3, 0.35, 0.4, 0.45, 0.5, 0.55, 0.6]\n",
    "# Er_conc=[0.02, 0.04, 0.06, 0.08, 0.1, 0.12, 0.15, 0.2, 0.25, 0.3, 0.35, 0.4, 0.45, 0.5, 0.55, 0.6, 0.65, 0.7, 0.75, 0.8]\n",
    "# Er_conc=[0.02, 0.04, 0.06, 0.08, 0.1, 0.12, 0.15, 0.2, 0.25, 0.3, 0.35, 0.4, 0.45, 0.5]\n",
    "# Er_conc=[0.04, 0.06, 0.08, 0.1, 0.12, 0.15, 0.2, 0.5]\n",
    "# Yb_conc=0.2\n",
    "\n",
    "\n",
    "# Er_conc = [0.04, 0.06, 0.08, 0.1, 0.12, 0.15, 0.2, 0.5]\n",
    "# d_range = [8.0, 8.3, 8.0, 8.5, 8.0, 7.9, 8.2, 8.7]\n",
    "# power_density = [1232.21547757,  1869.76441851,  2826.08782992,  4419.96018226,\n",
    "#  7607.70488696, 10795.44959165, 13983.19429634, 17170.93900104,\n",
    "#  20358.68370573, 23546.42841042, 26734.17311511, 29921.91781981]\n",
    "\n",
    "\n",
    "# emitter_conc = [0.04, 0.06, 0.08, 0.1, 0.12, 0.15, 0.2, 0.5]\n",
    "# power_density = [1.2*10**3, 1.8*10**3, 2.8*10**3, 4.4*10**3, 5*10**3, 7.5*10**3, 1.1*10**4, 1.4*10**4, 1.7*10**4, 2*10**4, 2.3*10**4, 2.7*10**4, 3*10**4]\n",
    "\n",
    "\n",
    "\n",
    "# nanoparticle diameter: 8 nm, critical distance: 1 nm\n",
    "# d=8\n",
    "# shell=0\n",
    "# r0=1\n",
    "\n",
    "\n",
    "\n",
    "Tm_conc = [0.15]\n",
    "power_density = [10000]\n",
    "\n",
    "\n",
    "\n",
    "t1 = 7000\n",
    "t2 = 10000\n",
    "\n",
    "\n",
    "\n",
    "# Simulate and track progress\n",
    "\n",
    "for i, c in enumerate(Tm_conc):\n",
    "\n",
    "    # print(i)\n",
    "    # d=d_range[i]\n",
    "    # print(d)\n",
    "\n",
    "    if c not in myC:\n",
    "        myC[c] = {}\n",
    "\n",
    "    for p in power_density:\n",
    "        if p not in myC[c]:\n",
    "            print(f\"Running simulation for Tm concentration {c}, power density {p}\")\n",
    "\n",
    "            # sigma from MC paper, SI \n",
    "            tag_default['laser'] = 0.058 * p\n",
    "            tag_default['laser_tm'] = 0.0084 * p       \n",
    "            \n",
    "            my_lattice = Lattice(1-c, c, d, r0)  # shell\n",
    "            my_simulator = Simulator(my_lattice, tag=tag_default)\n",
    "            result = my_simulator.simulate(t1, t2)  # r is a dictionary from 'sim_stats'\n",
    "\n",
    "            # Store result and save progress\n",
    "            myC[c][p] = result\n",
    "            # store the current progress to the filepath\n",
    "            save_progress(progress_filepath, myC)\n",
    "\n",
    "            # Simulate time delay to represent real simulation time\n",
    "            sleep(1)\n",
    "\n",
    "print('\\nAll progress have been finished.')\n"
   ]
  },
  {
   "cell_type": "markdown",
   "metadata": {},
   "source": [
    "# Save all data from progress file"
   ]
  },
  {
   "cell_type": "code",
   "execution_count": 9,
   "metadata": {},
   "outputs": [
    {
     "name": "stdout",
     "output_type": "stream",
     "text": [
      "Data has been successfully saved to 'Chuanyu_data_files/myC_06_27_2024_1.pkl'\n",
      "\n"
     ]
    }
   ],
   "source": [
    "# after all the progress are finished\n",
    "# The first time to run the code, the folder 'Chuanyu_data_files' will have a new file: 'myC_05_06_2024_1.pkl', which store all data\n",
    "# The second time to run the code, the folder 'Chuanyu_data_files' will have a new file: 'myC_05_06_2024_2.pkl', which store all data\n",
    "\n",
    "from Tm_save_file import *\n",
    "\n",
    "saver = PickleSaver(base_name='myC', folder='Chuanyu_data_files')\n",
    "saver.save_data(myC)\n",
    "\n",
    "# # then, call the method with myC, to see the data structure\n",
    "# data_structure = saver.load_all_data()"
   ]
  },
  {
   "cell_type": "markdown",
   "metadata": {},
   "source": [
    "---\n",
    "### If you want to run the code again, firstly make sure you have run the code above to store the data:\n",
    "\n",
    "'''\n",
    "saver = PickleSaver(base_name='myC', folder='Chuanyu_data_files')\n",
    "saver.save_data(myC)b\n",
    "all_save_data = saver.load_all_data()\n",
    "'''\n",
    "#### In the same directory, there would be a new file: myC_05_08_2024_1, which save all data from this simulation\n",
    "#### Then you can detele the progress file and to run the code\n",
    "---"
   ]
  },
  {
   "cell_type": "code",
   "execution_count": null,
   "metadata": {},
   "outputs": [],
   "source": []
  },
  {
   "cell_type": "code",
   "execution_count": null,
   "metadata": {},
   "outputs": [],
   "source": []
  },
  {
   "cell_type": "code",
   "execution_count": null,
   "metadata": {},
   "outputs": [],
   "source": []
  },
  {
   "cell_type": "code",
   "execution_count": null,
   "metadata": {},
   "outputs": [],
   "source": []
  },
  {
   "cell_type": "code",
   "execution_count": null,
   "metadata": {},
   "outputs": [],
   "source": []
  }
 ],
 "metadata": {
  "kernelspec": {
   "display_name": "base",
   "language": "python",
   "name": "python3"
  },
  "language_info": {
   "codemirror_mode": {
    "name": "ipython",
    "version": 3
   },
   "file_extension": ".py",
   "mimetype": "text/x-python",
   "name": "python",
   "nbconvert_exporter": "python",
   "pygments_lexer": "ipython3",
   "version": "3.11.3"
  },
  "orig_nbformat": 4
 },
 "nbformat": 4,
 "nbformat_minor": 2
}
