{
 "cells": [
  {
   "cell_type": "markdown",
   "id": "c586764d",
   "metadata": {},
   "source": [
    "# Guide for Dataset - 10_02_2024_1\n",
    "\n"
   ]
  },
  {
   "cell_type": "code",
   "execution_count": null,
   "id": "943f247a",
   "metadata": {},
   "outputs": [],
   "source": [
    "import pickle\n",
    "import os\n",
    "from datetime import datetime\n",
    "import plotly.graph_objects as go\n",
    "import nbformat as nbf\n",
    "                            \n",
    "\n",
    "\n",
    "# Load the data\n",
    "\n",
    "filepath = f'myC_10_02_2024_1.pkl'\n",
    "with open(filepath, 'rb') as f:\n",
    "    data = pickle.load(f)\n",
    "\n",
    "print(\"data loaded successfully\")\n",
    "\n"
   ]
  },
  {
   "cell_type": "code",
   "execution_count": null,
   "id": "03c907df",
   "metadata": {},
   "outputs": [],
   "source": [
    "\n",
    "\n",
    "# check the percentages and power density\n",
    "\n",
    "percentages = sorted(data.keys())\n",
    "power_densities = sorted({k for subdict in data.values() for k in subdict.keys()})\n",
    "print('Percentages:', percentages)\n",
    "print('Power Densities:', sorted(power_densities))\n",
    "\n",
    "    "
   ]
  },
  {
   "cell_type": "code",
   "execution_count": null,
   "id": "3cb26f79",
   "metadata": {},
   "outputs": [],
   "source": [
    "\n",
    "\n",
    "KEY1 = []\n",
    "KEY2 = []\n",
    "\n",
    "for key1 in data:\n",
    "    KEY1.append(key1)\n",
    "print(f'All percentages = {KEY1}')\n",
    "\n",
    "for value1 in data.values():\n",
    "    for key2 in value1:\n",
    "        KEY2.append(key2)\n",
    "    break \n",
    "print(f'For each percentage, all power densities = {KEY2}')\n",
    "\n",
    "unique_third_keys = set()\n",
    "print('For each combination of Percentage+Power density, the accessible data:')\n",
    "for value1 in data.values():\n",
    "    for value2 in value1.values():\n",
    "        for key3, value3 in value2.items():\n",
    "            if key3 not in unique_third_keys:\n",
    "                unique_third_keys.add(key3)\n",
    "                print(f'key3 = {key3}, value3 = {value3}')\n",
    "\n",
    "    "
   ]
  },
  {
   "cell_type": "code",
   "execution_count": null,
   "id": "2a4d5395",
   "metadata": {},
   "outputs": [],
   "source": [
    "# Import the SaturationPlot class from the SaturationCurves module\n",
    "from OptimalPercentage_Tm import SaturationPlot\n",
    "\n",
    "# Generate the saturation curves plot\n",
    "plot = SaturationPlot(data)\n",
    "plot.generate_plot(output_file='saturation_plot.html')\n"
   ]
  },
  {
   "cell_type": "code",
   "execution_count": null,
   "id": "5d5bb53d",
   "metadata": {},
   "outputs": [],
   "source": [
    "# Import the SinglePowerDensityPlot class from the OptimalPercentage module\n",
    "from PopulationEvolution_Tm import SinglePowerDensityPlot\n",
    "\n",
    "\n",
    "# Provide a list of available power densities\n",
    "available_power_densities = sorted({k for subdict in data.values() for k in subdict.keys()})\n",
    "print(f'Available power densities: {available_power_densities}')\n",
    "\n",
    "# Prompt the user to select a power density\n",
    "selected_power_density = float(input(f'Input a power density from the above options: '))\n",
    "\n",
    "# Generate the single power density plot\n",
    "single_plot = SinglePowerDensityPlot(data, selected_power_density)\n",
    "single_plot.generate_plot(output_file='single_power_density_plot.html')\n"
   ]
  },
  {
   "cell_type": "code",
   "execution_count": null,
   "id": "d0a8009b",
   "metadata": {},
   "outputs": [],
   "source": [
    "# Import the PopulationEvolutionPlot class from the PopulationEvolution module\n",
    "from PopulationEvolution import PopulationEvolutionPlot\n",
    "\n",
    "# Provide a list of available percentages\n",
    "\n",
    "available_percentages = sorted(data.keys())\n",
    "print(f'Available percentages: {available_percentages}')\n",
    "# Prompt the user to select a percentage\n",
    "percentage = float(input(f'Input a percentage from the above options: '))\n",
    "\n",
    "available_power_densities = sorted({k for k in data[percentage].keys()})\n",
    "print(f'Available power densities for percentage {percentage}: {available_power_densities}')\n",
    "# Prompt the user to select a power density\n",
    "power_density = float(input(f'Input a power density from the above options: '))\n",
    "\n",
    "\n",
    "# Generate the population evolution plot\n",
    "pop_plot = PopulationEvolutionPlot(data, percentage, power_density)\n",
    "pop_plot.generate_plot(output_file='population_evolution_plot.html')\n"
   ]
  }
 ],
 "metadata": {},
 "nbformat": 4,
 "nbformat_minor": 5
}
