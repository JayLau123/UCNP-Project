{
 "cells": [
  {
   "cell_type": "code",
   "execution_count": 4,
   "metadata": {},
   "outputs": [],
   "source": [
    "import pickle \n",
    "filepath = f'myC_10_03_2024_{1}.pkl'\n",
    "with open(filepath, 'rb') as f:\n",
    "    data = pickle.load(f)"
   ]
  },
  {
   "cell_type": "code",
   "execution_count": 15,
   "metadata": {},
   "outputs": [
    {
     "data": {
      "text/plain": [
       "dict_keys(['NIR_microsecond', 'blue_microsecond', 'NIR_avg', 'blue_avg', 'NIR_blue_ratio', 'NIR_blue_total_avg', 'NIR30_avg_pop', 'NIR62_avg_pop', 'NIR74_avg_pop', 'NIR75_avg_pop', 'NIR86_avg_pop', 'NIR96_avg_pop', 'NIR_avg_pop', 'blue60_avg_pop', 'blue71_avg_pop', 'blue72_avg_pop', 'blue83_avg_pop', 'blue84_avg_pop', 'blue85_avg_pop', 'blue93_avg_pop', 'blue94_avg_pop', 'blue95_avg_pop', 'blue10_3_avg_pop', 'blue10_4_avg_pop', 'blue10_5_avg_pop', 'blue11_4_avg_pop', 'blue11_5_avg_pop', 'blue_avg_pop', 'NIR_blue_ratio_pop', 'NIR_blue_total_avg_pop'])"
      ]
     },
     "execution_count": 15,
     "metadata": {},
     "output_type": "execute_result"
    }
   ],
   "source": [
    "data[0.04][1000].keys()"
   ]
  },
  {
   "cell_type": "code",
   "execution_count": 32,
   "metadata": {},
   "outputs": [
    {
     "data": {
      "text/plain": [
       "20000"
      ]
     },
     "execution_count": 32,
     "metadata": {},
     "output_type": "execute_result"
    }
   ],
   "source": [
    "len(data[0.04][1000]['blue_microsecond'])"
   ]
  },
  {
   "cell_type": "code",
   "execution_count": 33,
   "metadata": {},
   "outputs": [
    {
     "data": {
      "text/plain": [
       "8"
      ]
     },
     "execution_count": 33,
     "metadata": {},
     "output_type": "execute_result"
    }
   ],
   "source": [
    "sum(data[0.04][1000]['blue_microsecond'])"
   ]
  },
  {
   "cell_type": "code",
   "execution_count": 37,
   "metadata": {},
   "outputs": [
    {
     "data": {
      "application/vnd.plotly.v1+json": {
       "config": {
        "plotlyServerURL": "https://plot.ly"
       },
       "data": [
        {
         "line": {
          "color": "rgb(0, 0, 255)"
         },
         "marker": {
          "color": "rgb(0, 0, 255)"
         },
         "mode": "lines+markers",
         "name": "0.04 Tm",
         "type": "scatter",
         "x": [
          1000,
          3000,
          10000,
          30000,
          100000,
          300000
         ],
         "y": [
          47999.99999999999,
          68000,
          72000,
          79500,
          84499.99999999999,
          69000
         ]
        },
        {
         "line": {
          "color": "rgb(42, 0, 212)"
         },
         "marker": {
          "color": "rgb(42, 0, 212)"
         },
         "mode": "lines+markers",
         "name": "0.06 Tm",
         "type": "scatter",
         "x": [
          1000,
          3000,
          10000,
          30000,
          100000,
          300000
         ],
         "y": [
          30000,
          81499.99999999999,
          106500,
          108500,
          117000,
          99000.00000000001
         ]
        },
        {
         "line": {
          "color": "rgb(85, 0, 170)"
         },
         "marker": {
          "color": "rgb(85, 0, 170)"
         },
         "mode": "lines+markers",
         "name": "0.08 Tm",
         "type": "scatter",
         "x": [
          1000,
          3000,
          10000,
          30000,
          100000,
          300000
         ],
         "y": [
          35500,
          70000,
          102000.00000000001,
          131500,
          150500,
          147000
         ]
        },
        {
         "line": {
          "color": "rgb(127, 0, 127)"
         },
         "marker": {
          "color": "rgb(127, 0, 127)"
         },
         "mode": "lines+markers",
         "name": "0.1 Tm",
         "type": "scatter",
         "x": [
          1000,
          3000,
          10000,
          30000,
          100000,
          300000
         ],
         "y": [
          29500,
          74500,
          114500,
          151500,
          162000,
          181000.00000000003
         ]
        },
        {
         "line": {
          "color": "rgb(170, 0, 85)"
         },
         "marker": {
          "color": "rgb(170, 0, 85)"
         },
         "mode": "lines+markers",
         "name": "0.12 Tm",
         "type": "scatter",
         "x": [
          1000,
          3000,
          10000,
          30000,
          100000,
          300000
         ],
         "y": [
          27000,
          64000,
          120000,
          170000,
          184500,
          197500
         ]
        },
        {
         "line": {
          "color": "rgb(212, 0, 42)"
         },
         "marker": {
          "color": "rgb(212, 0, 42)"
         },
         "mode": "lines+markers",
         "name": "0.15 Tm",
         "type": "scatter",
         "x": [
          1000,
          3000,
          10000,
          30000,
          100000,
          300000
         ],
         "y": [
          21000,
          57500,
          110500.00000000001,
          174500,
          222000,
          238000.00000000003
         ]
        },
        {
         "line": {
          "color": "rgb(255, 0, 0)"
         },
         "marker": {
          "color": "rgb(255, 0, 0)"
         },
         "mode": "lines+markers",
         "name": "0.2 Tm",
         "type": "scatter",
         "x": [
          1000,
          3000,
          10000,
          30000,
          100000,
          300000
         ],
         "y": [
          17500,
          51000.00000000001,
          99500,
          171000,
          258500,
          295500
         ]
        }
       ],
       "layout": {
        "height": 600,
        "template": {
         "data": {
          "bar": [
           {
            "error_x": {
             "color": "#2a3f5f"
            },
            "error_y": {
             "color": "#2a3f5f"
            },
            "marker": {
             "line": {
              "color": "#E5ECF6",
              "width": 0.5
             },
             "pattern": {
              "fillmode": "overlay",
              "size": 10,
              "solidity": 0.2
             }
            },
            "type": "bar"
           }
          ],
          "barpolar": [
           {
            "marker": {
             "line": {
              "color": "#E5ECF6",
              "width": 0.5
             },
             "pattern": {
              "fillmode": "overlay",
              "size": 10,
              "solidity": 0.2
             }
            },
            "type": "barpolar"
           }
          ],
          "carpet": [
           {
            "aaxis": {
             "endlinecolor": "#2a3f5f",
             "gridcolor": "white",
             "linecolor": "white",
             "minorgridcolor": "white",
             "startlinecolor": "#2a3f5f"
            },
            "baxis": {
             "endlinecolor": "#2a3f5f",
             "gridcolor": "white",
             "linecolor": "white",
             "minorgridcolor": "white",
             "startlinecolor": "#2a3f5f"
            },
            "type": "carpet"
           }
          ],
          "choropleth": [
           {
            "colorbar": {
             "outlinewidth": 0,
             "ticks": ""
            },
            "type": "choropleth"
           }
          ],
          "contour": [
           {
            "colorbar": {
             "outlinewidth": 0,
             "ticks": ""
            },
            "colorscale": [
             [
              0,
              "#0d0887"
             ],
             [
              0.1111111111111111,
              "#46039f"
             ],
             [
              0.2222222222222222,
              "#7201a8"
             ],
             [
              0.3333333333333333,
              "#9c179e"
             ],
             [
              0.4444444444444444,
              "#bd3786"
             ],
             [
              0.5555555555555556,
              "#d8576b"
             ],
             [
              0.6666666666666666,
              "#ed7953"
             ],
             [
              0.7777777777777778,
              "#fb9f3a"
             ],
             [
              0.8888888888888888,
              "#fdca26"
             ],
             [
              1,
              "#f0f921"
             ]
            ],
            "type": "contour"
           }
          ],
          "contourcarpet": [
           {
            "colorbar": {
             "outlinewidth": 0,
             "ticks": ""
            },
            "type": "contourcarpet"
           }
          ],
          "heatmap": [
           {
            "colorbar": {
             "outlinewidth": 0,
             "ticks": ""
            },
            "colorscale": [
             [
              0,
              "#0d0887"
             ],
             [
              0.1111111111111111,
              "#46039f"
             ],
             [
              0.2222222222222222,
              "#7201a8"
             ],
             [
              0.3333333333333333,
              "#9c179e"
             ],
             [
              0.4444444444444444,
              "#bd3786"
             ],
             [
              0.5555555555555556,
              "#d8576b"
             ],
             [
              0.6666666666666666,
              "#ed7953"
             ],
             [
              0.7777777777777778,
              "#fb9f3a"
             ],
             [
              0.8888888888888888,
              "#fdca26"
             ],
             [
              1,
              "#f0f921"
             ]
            ],
            "type": "heatmap"
           }
          ],
          "heatmapgl": [
           {
            "colorbar": {
             "outlinewidth": 0,
             "ticks": ""
            },
            "colorscale": [
             [
              0,
              "#0d0887"
             ],
             [
              0.1111111111111111,
              "#46039f"
             ],
             [
              0.2222222222222222,
              "#7201a8"
             ],
             [
              0.3333333333333333,
              "#9c179e"
             ],
             [
              0.4444444444444444,
              "#bd3786"
             ],
             [
              0.5555555555555556,
              "#d8576b"
             ],
             [
              0.6666666666666666,
              "#ed7953"
             ],
             [
              0.7777777777777778,
              "#fb9f3a"
             ],
             [
              0.8888888888888888,
              "#fdca26"
             ],
             [
              1,
              "#f0f921"
             ]
            ],
            "type": "heatmapgl"
           }
          ],
          "histogram": [
           {
            "marker": {
             "pattern": {
              "fillmode": "overlay",
              "size": 10,
              "solidity": 0.2
             }
            },
            "type": "histogram"
           }
          ],
          "histogram2d": [
           {
            "colorbar": {
             "outlinewidth": 0,
             "ticks": ""
            },
            "colorscale": [
             [
              0,
              "#0d0887"
             ],
             [
              0.1111111111111111,
              "#46039f"
             ],
             [
              0.2222222222222222,
              "#7201a8"
             ],
             [
              0.3333333333333333,
              "#9c179e"
             ],
             [
              0.4444444444444444,
              "#bd3786"
             ],
             [
              0.5555555555555556,
              "#d8576b"
             ],
             [
              0.6666666666666666,
              "#ed7953"
             ],
             [
              0.7777777777777778,
              "#fb9f3a"
             ],
             [
              0.8888888888888888,
              "#fdca26"
             ],
             [
              1,
              "#f0f921"
             ]
            ],
            "type": "histogram2d"
           }
          ],
          "histogram2dcontour": [
           {
            "colorbar": {
             "outlinewidth": 0,
             "ticks": ""
            },
            "colorscale": [
             [
              0,
              "#0d0887"
             ],
             [
              0.1111111111111111,
              "#46039f"
             ],
             [
              0.2222222222222222,
              "#7201a8"
             ],
             [
              0.3333333333333333,
              "#9c179e"
             ],
             [
              0.4444444444444444,
              "#bd3786"
             ],
             [
              0.5555555555555556,
              "#d8576b"
             ],
             [
              0.6666666666666666,
              "#ed7953"
             ],
             [
              0.7777777777777778,
              "#fb9f3a"
             ],
             [
              0.8888888888888888,
              "#fdca26"
             ],
             [
              1,
              "#f0f921"
             ]
            ],
            "type": "histogram2dcontour"
           }
          ],
          "mesh3d": [
           {
            "colorbar": {
             "outlinewidth": 0,
             "ticks": ""
            },
            "type": "mesh3d"
           }
          ],
          "parcoords": [
           {
            "line": {
             "colorbar": {
              "outlinewidth": 0,
              "ticks": ""
             }
            },
            "type": "parcoords"
           }
          ],
          "pie": [
           {
            "automargin": true,
            "type": "pie"
           }
          ],
          "scatter": [
           {
            "fillpattern": {
             "fillmode": "overlay",
             "size": 10,
             "solidity": 0.2
            },
            "type": "scatter"
           }
          ],
          "scatter3d": [
           {
            "line": {
             "colorbar": {
              "outlinewidth": 0,
              "ticks": ""
             }
            },
            "marker": {
             "colorbar": {
              "outlinewidth": 0,
              "ticks": ""
             }
            },
            "type": "scatter3d"
           }
          ],
          "scattercarpet": [
           {
            "marker": {
             "colorbar": {
              "outlinewidth": 0,
              "ticks": ""
             }
            },
            "type": "scattercarpet"
           }
          ],
          "scattergeo": [
           {
            "marker": {
             "colorbar": {
              "outlinewidth": 0,
              "ticks": ""
             }
            },
            "type": "scattergeo"
           }
          ],
          "scattergl": [
           {
            "marker": {
             "colorbar": {
              "outlinewidth": 0,
              "ticks": ""
             }
            },
            "type": "scattergl"
           }
          ],
          "scattermapbox": [
           {
            "marker": {
             "colorbar": {
              "outlinewidth": 0,
              "ticks": ""
             }
            },
            "type": "scattermapbox"
           }
          ],
          "scatterpolar": [
           {
            "marker": {
             "colorbar": {
              "outlinewidth": 0,
              "ticks": ""
             }
            },
            "type": "scatterpolar"
           }
          ],
          "scatterpolargl": [
           {
            "marker": {
             "colorbar": {
              "outlinewidth": 0,
              "ticks": ""
             }
            },
            "type": "scatterpolargl"
           }
          ],
          "scatterternary": [
           {
            "marker": {
             "colorbar": {
              "outlinewidth": 0,
              "ticks": ""
             }
            },
            "type": "scatterternary"
           }
          ],
          "surface": [
           {
            "colorbar": {
             "outlinewidth": 0,
             "ticks": ""
            },
            "colorscale": [
             [
              0,
              "#0d0887"
             ],
             [
              0.1111111111111111,
              "#46039f"
             ],
             [
              0.2222222222222222,
              "#7201a8"
             ],
             [
              0.3333333333333333,
              "#9c179e"
             ],
             [
              0.4444444444444444,
              "#bd3786"
             ],
             [
              0.5555555555555556,
              "#d8576b"
             ],
             [
              0.6666666666666666,
              "#ed7953"
             ],
             [
              0.7777777777777778,
              "#fb9f3a"
             ],
             [
              0.8888888888888888,
              "#fdca26"
             ],
             [
              1,
              "#f0f921"
             ]
            ],
            "type": "surface"
           }
          ],
          "table": [
           {
            "cells": {
             "fill": {
              "color": "#EBF0F8"
             },
             "line": {
              "color": "white"
             }
            },
            "header": {
             "fill": {
              "color": "#C8D4E3"
             },
             "line": {
              "color": "white"
             }
            },
            "type": "table"
           }
          ]
         },
         "layout": {
          "annotationdefaults": {
           "arrowcolor": "#2a3f5f",
           "arrowhead": 0,
           "arrowwidth": 1
          },
          "autotypenumbers": "strict",
          "coloraxis": {
           "colorbar": {
            "outlinewidth": 0,
            "ticks": ""
           }
          },
          "colorscale": {
           "diverging": [
            [
             0,
             "#8e0152"
            ],
            [
             0.1,
             "#c51b7d"
            ],
            [
             0.2,
             "#de77ae"
            ],
            [
             0.3,
             "#f1b6da"
            ],
            [
             0.4,
             "#fde0ef"
            ],
            [
             0.5,
             "#f7f7f7"
            ],
            [
             0.6,
             "#e6f5d0"
            ],
            [
             0.7,
             "#b8e186"
            ],
            [
             0.8,
             "#7fbc41"
            ],
            [
             0.9,
             "#4d9221"
            ],
            [
             1,
             "#276419"
            ]
           ],
           "sequential": [
            [
             0,
             "#0d0887"
            ],
            [
             0.1111111111111111,
             "#46039f"
            ],
            [
             0.2222222222222222,
             "#7201a8"
            ],
            [
             0.3333333333333333,
             "#9c179e"
            ],
            [
             0.4444444444444444,
             "#bd3786"
            ],
            [
             0.5555555555555556,
             "#d8576b"
            ],
            [
             0.6666666666666666,
             "#ed7953"
            ],
            [
             0.7777777777777778,
             "#fb9f3a"
            ],
            [
             0.8888888888888888,
             "#fdca26"
            ],
            [
             1,
             "#f0f921"
            ]
           ],
           "sequentialminus": [
            [
             0,
             "#0d0887"
            ],
            [
             0.1111111111111111,
             "#46039f"
            ],
            [
             0.2222222222222222,
             "#7201a8"
            ],
            [
             0.3333333333333333,
             "#9c179e"
            ],
            [
             0.4444444444444444,
             "#bd3786"
            ],
            [
             0.5555555555555556,
             "#d8576b"
            ],
            [
             0.6666666666666666,
             "#ed7953"
            ],
            [
             0.7777777777777778,
             "#fb9f3a"
            ],
            [
             0.8888888888888888,
             "#fdca26"
            ],
            [
             1,
             "#f0f921"
            ]
           ]
          },
          "colorway": [
           "#636efa",
           "#EF553B",
           "#00cc96",
           "#ab63fa",
           "#FFA15A",
           "#19d3f3",
           "#FF6692",
           "#B6E880",
           "#FF97FF",
           "#FECB52"
          ],
          "font": {
           "color": "#2a3f5f"
          },
          "geo": {
           "bgcolor": "white",
           "lakecolor": "white",
           "landcolor": "#E5ECF6",
           "showlakes": true,
           "showland": true,
           "subunitcolor": "white"
          },
          "hoverlabel": {
           "align": "left"
          },
          "hovermode": "closest",
          "mapbox": {
           "style": "light"
          },
          "paper_bgcolor": "white",
          "plot_bgcolor": "#E5ECF6",
          "polar": {
           "angularaxis": {
            "gridcolor": "white",
            "linecolor": "white",
            "ticks": ""
           },
           "bgcolor": "#E5ECF6",
           "radialaxis": {
            "gridcolor": "white",
            "linecolor": "white",
            "ticks": ""
           }
          },
          "scene": {
           "xaxis": {
            "backgroundcolor": "#E5ECF6",
            "gridcolor": "white",
            "gridwidth": 2,
            "linecolor": "white",
            "showbackground": true,
            "ticks": "",
            "zerolinecolor": "white"
           },
           "yaxis": {
            "backgroundcolor": "#E5ECF6",
            "gridcolor": "white",
            "gridwidth": 2,
            "linecolor": "white",
            "showbackground": true,
            "ticks": "",
            "zerolinecolor": "white"
           },
           "zaxis": {
            "backgroundcolor": "#E5ECF6",
            "gridcolor": "white",
            "gridwidth": 2,
            "linecolor": "white",
            "showbackground": true,
            "ticks": "",
            "zerolinecolor": "white"
           }
          },
          "shapedefaults": {
           "line": {
            "color": "#2a3f5f"
           }
          },
          "ternary": {
           "aaxis": {
            "gridcolor": "white",
            "linecolor": "white",
            "ticks": ""
           },
           "baxis": {
            "gridcolor": "white",
            "linecolor": "white",
            "ticks": ""
           },
           "bgcolor": "#E5ECF6",
           "caxis": {
            "gridcolor": "white",
            "linecolor": "white",
            "ticks": ""
           }
          },
          "title": {
           "x": 0.05
          },
          "xaxis": {
           "automargin": true,
           "gridcolor": "white",
           "linecolor": "white",
           "ticks": "",
           "title": {
            "standoff": 15
           },
           "zerolinecolor": "white",
           "zerolinewidth": 2
          },
          "yaxis": {
           "automargin": true,
           "gridcolor": "white",
           "linecolor": "white",
           "ticks": "",
           "title": {
            "standoff": 15
           },
           "zerolinecolor": "white",
           "zerolinewidth": 2
          }
         }
        },
        "title": {
         "text": "NIR vs Power Density (Simulation)"
        },
        "width": 600,
        "xaxis": {
         "title": {
          "text": "Power Density (W/cm^2)"
         },
         "type": "log"
        },
        "yaxis": {
         "title": {
          "text": "NIR Emission Intensity (PPS)"
         },
         "type": "log"
        }
       }
      }
     },
     "metadata": {},
     "output_type": "display_data"
    }
   ],
   "source": [
    "import numpy as np\n",
    "import plotly.graph_objs as go\n",
    "\n",
    "\n",
    "power_densities = [1000, 3000, 10000, 30000, 100000, 300000]\n",
    "\n",
    "# Create colormap gradient\n",
    "colors = np.linspace(0, 1, len(data))\n",
    "\n",
    "# Create traces for red emission\n",
    "traces_red = []\n",
    "for i, (concentration, data_c) in enumerate(data.items()):\n",
    "    filtered_x = []\n",
    "    filtered_y = []\n",
    "    for intensity, data_i in data_c.items():\n",
    "        # if intensity > 50*10**3:\n",
    "        #     break\n",
    "\n",
    "        filtered_x.append(intensity)\n",
    "        filtered_y.append(sum(data_i['NIR_microsecond'])/20000*10**7)\n",
    "    \n",
    "    color = colors[i]\n",
    "    trace_red = go.Scatter(\n",
    "        x=filtered_x,  # Use the filtered x values\n",
    "        y=filtered_y,  # Use the filtered y values\n",
    "        mode='lines+markers',\n",
    "        name=f'{concentration} Tm',\n",
    "        line=dict(color=f'rgb({int(color * 255)}, 0, {int((1 - color) * 255)})'),\n",
    "        marker=dict(color=f'rgb({int(color * 255)}, 0, {int((1 - color) * 255)})')\n",
    "    )\n",
    "    traces_red.append(trace_red)\n",
    "\n",
    "# Create layout for red emission\n",
    "layout_red = go.Layout(\n",
    "    title='NIR vs Power Density (Simulation)',\n",
    "    xaxis=dict(title='Power Density (W/cm^2)', type='log'),\n",
    "    yaxis=dict(title='NIR Emission Intensity (PPS)', type='log'),\n",
    "    width=600,\n",
    "    height=600\n",
    ")\n",
    "\n",
    "# Create red figure\n",
    "fig_red = go.Figure(data=traces_red, layout=layout_red)\n",
    "\n",
    "# Show red plot\n",
    "fig_red.show()\n"
   ]
  },
  {
   "cell_type": "code",
   "execution_count": 38,
   "metadata": {},
   "outputs": [
    {
     "data": {
      "application/vnd.plotly.v1+json": {
       "config": {
        "plotlyServerURL": "https://plot.ly"
       },
       "data": [
        {
         "line": {
          "color": "rgb(0, 0, 255)"
         },
         "marker": {
          "color": "rgb(0, 0, 255)"
         },
         "mode": "lines+markers",
         "name": "0.04 Tm",
         "type": "scatter",
         "x": [
          1000,
          3000,
          10000,
          30000,
          100000,
          300000
         ],
         "y": [
          4000,
          39000,
          121500,
          229500.00000000003,
          315500,
          395500
         ]
        },
        {
         "line": {
          "color": "rgb(0, 42, 212)"
         },
         "marker": {
          "color": "rgb(0, 42, 212)"
         },
         "mode": "lines+markers",
         "name": "0.06 Tm",
         "type": "scatter",
         "x": [
          1000,
          3000,
          10000,
          30000,
          100000,
          300000
         ],
         "y": [
          2000,
          24500,
          128000,
          311500,
          506000,
          662000
         ]
        },
        {
         "line": {
          "color": "rgb(0, 85, 170)"
         },
         "marker": {
          "color": "rgb(0, 85, 170)"
         },
         "mode": "lines+markers",
         "name": "0.08 Tm",
         "type": "scatter",
         "x": [
          1000,
          3000,
          10000,
          30000,
          100000,
          300000
         ],
         "y": [
          2000,
          20500,
          139500,
          362500,
          641500,
          888500
         ]
        },
        {
         "line": {
          "color": "rgb(0, 127, 127)"
         },
         "marker": {
          "color": "rgb(0, 127, 127)"
         },
         "mode": "lines+markers",
         "name": "0.1 Tm",
         "type": "scatter",
         "x": [
          1000,
          3000,
          10000,
          30000,
          100000,
          300000
         ],
         "y": [
          1000,
          20500,
          115999.99999999999,
          384500,
          777500,
          1122500
         ]
        },
        {
         "line": {
          "color": "rgb(0, 170, 85)"
         },
         "marker": {
          "color": "rgb(0, 170, 85)"
         },
         "mode": "lines+markers",
         "name": "0.12 Tm",
         "type": "scatter",
         "x": [
          1000,
          3000,
          10000,
          30000,
          100000,
          300000
         ],
         "y": [
          4500,
          15500,
          111000,
          394000,
          932999.9999999999,
          1371000
         ]
        },
        {
         "line": {
          "color": "rgb(0, 212, 42)"
         },
         "marker": {
          "color": "rgb(0, 212, 42)"
         },
         "mode": "lines+markers",
         "name": "0.15 Tm",
         "type": "scatter",
         "x": [
          1000,
          3000,
          10000,
          30000,
          100000,
          300000
         ],
         "y": [
          3500,
          12500,
          101500,
          374000,
          1006500,
          1670500
         ]
        },
        {
         "line": {
          "color": "rgb(0, 255, 0)"
         },
         "marker": {
          "color": "rgb(0, 255, 0)"
         },
         "mode": "lines+markers",
         "name": "0.2 Tm",
         "type": "scatter",
         "x": [
          1000,
          3000,
          10000,
          30000,
          100000,
          300000
         ],
         "y": [
          500,
          12500,
          83000,
          349500,
          1104500,
          2085500.0000000002
         ]
        }
       ],
       "layout": {
        "height": 600,
        "template": {
         "data": {
          "bar": [
           {
            "error_x": {
             "color": "#2a3f5f"
            },
            "error_y": {
             "color": "#2a3f5f"
            },
            "marker": {
             "line": {
              "color": "#E5ECF6",
              "width": 0.5
             },
             "pattern": {
              "fillmode": "overlay",
              "size": 10,
              "solidity": 0.2
             }
            },
            "type": "bar"
           }
          ],
          "barpolar": [
           {
            "marker": {
             "line": {
              "color": "#E5ECF6",
              "width": 0.5
             },
             "pattern": {
              "fillmode": "overlay",
              "size": 10,
              "solidity": 0.2
             }
            },
            "type": "barpolar"
           }
          ],
          "carpet": [
           {
            "aaxis": {
             "endlinecolor": "#2a3f5f",
             "gridcolor": "white",
             "linecolor": "white",
             "minorgridcolor": "white",
             "startlinecolor": "#2a3f5f"
            },
            "baxis": {
             "endlinecolor": "#2a3f5f",
             "gridcolor": "white",
             "linecolor": "white",
             "minorgridcolor": "white",
             "startlinecolor": "#2a3f5f"
            },
            "type": "carpet"
           }
          ],
          "choropleth": [
           {
            "colorbar": {
             "outlinewidth": 0,
             "ticks": ""
            },
            "type": "choropleth"
           }
          ],
          "contour": [
           {
            "colorbar": {
             "outlinewidth": 0,
             "ticks": ""
            },
            "colorscale": [
             [
              0,
              "#0d0887"
             ],
             [
              0.1111111111111111,
              "#46039f"
             ],
             [
              0.2222222222222222,
              "#7201a8"
             ],
             [
              0.3333333333333333,
              "#9c179e"
             ],
             [
              0.4444444444444444,
              "#bd3786"
             ],
             [
              0.5555555555555556,
              "#d8576b"
             ],
             [
              0.6666666666666666,
              "#ed7953"
             ],
             [
              0.7777777777777778,
              "#fb9f3a"
             ],
             [
              0.8888888888888888,
              "#fdca26"
             ],
             [
              1,
              "#f0f921"
             ]
            ],
            "type": "contour"
           }
          ],
          "contourcarpet": [
           {
            "colorbar": {
             "outlinewidth": 0,
             "ticks": ""
            },
            "type": "contourcarpet"
           }
          ],
          "heatmap": [
           {
            "colorbar": {
             "outlinewidth": 0,
             "ticks": ""
            },
            "colorscale": [
             [
              0,
              "#0d0887"
             ],
             [
              0.1111111111111111,
              "#46039f"
             ],
             [
              0.2222222222222222,
              "#7201a8"
             ],
             [
              0.3333333333333333,
              "#9c179e"
             ],
             [
              0.4444444444444444,
              "#bd3786"
             ],
             [
              0.5555555555555556,
              "#d8576b"
             ],
             [
              0.6666666666666666,
              "#ed7953"
             ],
             [
              0.7777777777777778,
              "#fb9f3a"
             ],
             [
              0.8888888888888888,
              "#fdca26"
             ],
             [
              1,
              "#f0f921"
             ]
            ],
            "type": "heatmap"
           }
          ],
          "heatmapgl": [
           {
            "colorbar": {
             "outlinewidth": 0,
             "ticks": ""
            },
            "colorscale": [
             [
              0,
              "#0d0887"
             ],
             [
              0.1111111111111111,
              "#46039f"
             ],
             [
              0.2222222222222222,
              "#7201a8"
             ],
             [
              0.3333333333333333,
              "#9c179e"
             ],
             [
              0.4444444444444444,
              "#bd3786"
             ],
             [
              0.5555555555555556,
              "#d8576b"
             ],
             [
              0.6666666666666666,
              "#ed7953"
             ],
             [
              0.7777777777777778,
              "#fb9f3a"
             ],
             [
              0.8888888888888888,
              "#fdca26"
             ],
             [
              1,
              "#f0f921"
             ]
            ],
            "type": "heatmapgl"
           }
          ],
          "histogram": [
           {
            "marker": {
             "pattern": {
              "fillmode": "overlay",
              "size": 10,
              "solidity": 0.2
             }
            },
            "type": "histogram"
           }
          ],
          "histogram2d": [
           {
            "colorbar": {
             "outlinewidth": 0,
             "ticks": ""
            },
            "colorscale": [
             [
              0,
              "#0d0887"
             ],
             [
              0.1111111111111111,
              "#46039f"
             ],
             [
              0.2222222222222222,
              "#7201a8"
             ],
             [
              0.3333333333333333,
              "#9c179e"
             ],
             [
              0.4444444444444444,
              "#bd3786"
             ],
             [
              0.5555555555555556,
              "#d8576b"
             ],
             [
              0.6666666666666666,
              "#ed7953"
             ],
             [
              0.7777777777777778,
              "#fb9f3a"
             ],
             [
              0.8888888888888888,
              "#fdca26"
             ],
             [
              1,
              "#f0f921"
             ]
            ],
            "type": "histogram2d"
           }
          ],
          "histogram2dcontour": [
           {
            "colorbar": {
             "outlinewidth": 0,
             "ticks": ""
            },
            "colorscale": [
             [
              0,
              "#0d0887"
             ],
             [
              0.1111111111111111,
              "#46039f"
             ],
             [
              0.2222222222222222,
              "#7201a8"
             ],
             [
              0.3333333333333333,
              "#9c179e"
             ],
             [
              0.4444444444444444,
              "#bd3786"
             ],
             [
              0.5555555555555556,
              "#d8576b"
             ],
             [
              0.6666666666666666,
              "#ed7953"
             ],
             [
              0.7777777777777778,
              "#fb9f3a"
             ],
             [
              0.8888888888888888,
              "#fdca26"
             ],
             [
              1,
              "#f0f921"
             ]
            ],
            "type": "histogram2dcontour"
           }
          ],
          "mesh3d": [
           {
            "colorbar": {
             "outlinewidth": 0,
             "ticks": ""
            },
            "type": "mesh3d"
           }
          ],
          "parcoords": [
           {
            "line": {
             "colorbar": {
              "outlinewidth": 0,
              "ticks": ""
             }
            },
            "type": "parcoords"
           }
          ],
          "pie": [
           {
            "automargin": true,
            "type": "pie"
           }
          ],
          "scatter": [
           {
            "fillpattern": {
             "fillmode": "overlay",
             "size": 10,
             "solidity": 0.2
            },
            "type": "scatter"
           }
          ],
          "scatter3d": [
           {
            "line": {
             "colorbar": {
              "outlinewidth": 0,
              "ticks": ""
             }
            },
            "marker": {
             "colorbar": {
              "outlinewidth": 0,
              "ticks": ""
             }
            },
            "type": "scatter3d"
           }
          ],
          "scattercarpet": [
           {
            "marker": {
             "colorbar": {
              "outlinewidth": 0,
              "ticks": ""
             }
            },
            "type": "scattercarpet"
           }
          ],
          "scattergeo": [
           {
            "marker": {
             "colorbar": {
              "outlinewidth": 0,
              "ticks": ""
             }
            },
            "type": "scattergeo"
           }
          ],
          "scattergl": [
           {
            "marker": {
             "colorbar": {
              "outlinewidth": 0,
              "ticks": ""
             }
            },
            "type": "scattergl"
           }
          ],
          "scattermapbox": [
           {
            "marker": {
             "colorbar": {
              "outlinewidth": 0,
              "ticks": ""
             }
            },
            "type": "scattermapbox"
           }
          ],
          "scatterpolar": [
           {
            "marker": {
             "colorbar": {
              "outlinewidth": 0,
              "ticks": ""
             }
            },
            "type": "scatterpolar"
           }
          ],
          "scatterpolargl": [
           {
            "marker": {
             "colorbar": {
              "outlinewidth": 0,
              "ticks": ""
             }
            },
            "type": "scatterpolargl"
           }
          ],
          "scatterternary": [
           {
            "marker": {
             "colorbar": {
              "outlinewidth": 0,
              "ticks": ""
             }
            },
            "type": "scatterternary"
           }
          ],
          "surface": [
           {
            "colorbar": {
             "outlinewidth": 0,
             "ticks": ""
            },
            "colorscale": [
             [
              0,
              "#0d0887"
             ],
             [
              0.1111111111111111,
              "#46039f"
             ],
             [
              0.2222222222222222,
              "#7201a8"
             ],
             [
              0.3333333333333333,
              "#9c179e"
             ],
             [
              0.4444444444444444,
              "#bd3786"
             ],
             [
              0.5555555555555556,
              "#d8576b"
             ],
             [
              0.6666666666666666,
              "#ed7953"
             ],
             [
              0.7777777777777778,
              "#fb9f3a"
             ],
             [
              0.8888888888888888,
              "#fdca26"
             ],
             [
              1,
              "#f0f921"
             ]
            ],
            "type": "surface"
           }
          ],
          "table": [
           {
            "cells": {
             "fill": {
              "color": "#EBF0F8"
             },
             "line": {
              "color": "white"
             }
            },
            "header": {
             "fill": {
              "color": "#C8D4E3"
             },
             "line": {
              "color": "white"
             }
            },
            "type": "table"
           }
          ]
         },
         "layout": {
          "annotationdefaults": {
           "arrowcolor": "#2a3f5f",
           "arrowhead": 0,
           "arrowwidth": 1
          },
          "autotypenumbers": "strict",
          "coloraxis": {
           "colorbar": {
            "outlinewidth": 0,
            "ticks": ""
           }
          },
          "colorscale": {
           "diverging": [
            [
             0,
             "#8e0152"
            ],
            [
             0.1,
             "#c51b7d"
            ],
            [
             0.2,
             "#de77ae"
            ],
            [
             0.3,
             "#f1b6da"
            ],
            [
             0.4,
             "#fde0ef"
            ],
            [
             0.5,
             "#f7f7f7"
            ],
            [
             0.6,
             "#e6f5d0"
            ],
            [
             0.7,
             "#b8e186"
            ],
            [
             0.8,
             "#7fbc41"
            ],
            [
             0.9,
             "#4d9221"
            ],
            [
             1,
             "#276419"
            ]
           ],
           "sequential": [
            [
             0,
             "#0d0887"
            ],
            [
             0.1111111111111111,
             "#46039f"
            ],
            [
             0.2222222222222222,
             "#7201a8"
            ],
            [
             0.3333333333333333,
             "#9c179e"
            ],
            [
             0.4444444444444444,
             "#bd3786"
            ],
            [
             0.5555555555555556,
             "#d8576b"
            ],
            [
             0.6666666666666666,
             "#ed7953"
            ],
            [
             0.7777777777777778,
             "#fb9f3a"
            ],
            [
             0.8888888888888888,
             "#fdca26"
            ],
            [
             1,
             "#f0f921"
            ]
           ],
           "sequentialminus": [
            [
             0,
             "#0d0887"
            ],
            [
             0.1111111111111111,
             "#46039f"
            ],
            [
             0.2222222222222222,
             "#7201a8"
            ],
            [
             0.3333333333333333,
             "#9c179e"
            ],
            [
             0.4444444444444444,
             "#bd3786"
            ],
            [
             0.5555555555555556,
             "#d8576b"
            ],
            [
             0.6666666666666666,
             "#ed7953"
            ],
            [
             0.7777777777777778,
             "#fb9f3a"
            ],
            [
             0.8888888888888888,
             "#fdca26"
            ],
            [
             1,
             "#f0f921"
            ]
           ]
          },
          "colorway": [
           "#636efa",
           "#EF553B",
           "#00cc96",
           "#ab63fa",
           "#FFA15A",
           "#19d3f3",
           "#FF6692",
           "#B6E880",
           "#FF97FF",
           "#FECB52"
          ],
          "font": {
           "color": "#2a3f5f"
          },
          "geo": {
           "bgcolor": "white",
           "lakecolor": "white",
           "landcolor": "#E5ECF6",
           "showlakes": true,
           "showland": true,
           "subunitcolor": "white"
          },
          "hoverlabel": {
           "align": "left"
          },
          "hovermode": "closest",
          "mapbox": {
           "style": "light"
          },
          "paper_bgcolor": "white",
          "plot_bgcolor": "#E5ECF6",
          "polar": {
           "angularaxis": {
            "gridcolor": "white",
            "linecolor": "white",
            "ticks": ""
           },
           "bgcolor": "#E5ECF6",
           "radialaxis": {
            "gridcolor": "white",
            "linecolor": "white",
            "ticks": ""
           }
          },
          "scene": {
           "xaxis": {
            "backgroundcolor": "#E5ECF6",
            "gridcolor": "white",
            "gridwidth": 2,
            "linecolor": "white",
            "showbackground": true,
            "ticks": "",
            "zerolinecolor": "white"
           },
           "yaxis": {
            "backgroundcolor": "#E5ECF6",
            "gridcolor": "white",
            "gridwidth": 2,
            "linecolor": "white",
            "showbackground": true,
            "ticks": "",
            "zerolinecolor": "white"
           },
           "zaxis": {
            "backgroundcolor": "#E5ECF6",
            "gridcolor": "white",
            "gridwidth": 2,
            "linecolor": "white",
            "showbackground": true,
            "ticks": "",
            "zerolinecolor": "white"
           }
          },
          "shapedefaults": {
           "line": {
            "color": "#2a3f5f"
           }
          },
          "ternary": {
           "aaxis": {
            "gridcolor": "white",
            "linecolor": "white",
            "ticks": ""
           },
           "baxis": {
            "gridcolor": "white",
            "linecolor": "white",
            "ticks": ""
           },
           "bgcolor": "#E5ECF6",
           "caxis": {
            "gridcolor": "white",
            "linecolor": "white",
            "ticks": ""
           }
          },
          "title": {
           "x": 0.05
          },
          "xaxis": {
           "automargin": true,
           "gridcolor": "white",
           "linecolor": "white",
           "ticks": "",
           "title": {
            "standoff": 15
           },
           "zerolinecolor": "white",
           "zerolinewidth": 2
          },
          "yaxis": {
           "automargin": true,
           "gridcolor": "white",
           "linecolor": "white",
           "ticks": "",
           "title": {
            "standoff": 15
           },
           "zerolinecolor": "white",
           "zerolinewidth": 2
          }
         }
        },
        "title": {
         "text": "Blue vs Power Density (Simulation)"
        },
        "width": 600,
        "xaxis": {
         "title": {
          "text": "Power Density (W/cm^2)"
         },
         "type": "log"
        },
        "yaxis": {
         "title": {
          "text": "Blue Emission Intensity (PPS)"
         },
         "type": "log"
        }
       }
      }
     },
     "metadata": {},
     "output_type": "display_data"
    }
   ],
   "source": [
    "# Create traces for blue emission\n",
    "traces_blue = []\n",
    "\n",
    "for i, (concentration, data_c) in enumerate(data.items()):\n",
    "    filtered_x = []\n",
    "    filtered_y = []\n",
    "    for intensity, data_i in data_c.items():\n",
    "        # if intensity > 50*10**3:\n",
    "        #     break\n",
    "        filtered_x.append(intensity)\n",
    "        filtered_y.append(sum(data_i['blue_microsecond'])/20000*10**7)\n",
    "\n",
    "    color = colors[i]\n",
    "    trace_blue = go.Scatter(\n",
    "        x=filtered_x,\n",
    "        y=filtered_y,\n",
    "        mode='lines+markers',\n",
    "        name=f'{concentration} Tm',\n",
    "        line=dict(color=f'rgb(0, {int(color * 255)}, {int((1 - color) * 255)})'),\n",
    "        marker=dict(color=f'rgb(0, {int(color * 255)}, {int((1 - color) * 255)})')\n",
    "    )\n",
    "    traces_blue.append(trace_blue)\n",
    "\n",
    "# Create layout for blue emission\n",
    "layout_blue = go.Layout(\n",
    "    title='Blue vs Power Density (Simulation)',\n",
    "    xaxis=dict(title='Power Density (W/cm^2)', type='log'),\n",
    "    yaxis=dict(title='Blue Emission Intensity (PPS)', type='log'),\n",
    "    width=600,\n",
    "    height=600\n",
    ")\n",
    "\n",
    "# Create blue figure\n",
    "fig_blue = go.Figure(data=traces_blue, layout=layout_blue)\n",
    "\n",
    "# Show blue plot\n",
    "fig_blue.show()"
   ]
  },
  {
   "cell_type": "code",
   "execution_count": null,
   "metadata": {},
   "outputs": [],
   "source": []
  },
  {
   "cell_type": "code",
   "execution_count": 46,
   "metadata": {},
   "outputs": [],
   "source": [
    "P980_values = [1.2*10**3, 1.8*10**3, 2.8*10**3, 4.4*10**3, 5*10**3, 6*10**3, 7.5*10**3, 9.1*10**3, 1.1*10**4, 1.4*10**4, 1.7*10**4, 2*10**4, 2.3*10**4, 2.7*10**4, 3*10**4]\n",
    "\n",
    "P980_values8 = [1.8*10**3, 2.8*10**3, 4.4*10**3, 5*10**3, 6*10**3, 7.5*10**3, 9.1*10**3, 1.1*10**4, 1.4*10**4, 1.7*10**4, 2*10**4, 2.3*10**4, 2.7*10**4, 3*10**4]\n",
    "\n",
    "P980_values10 = [2.8*10**3, 4.4*10**3, 5*10**3, 6*10**3, 7.5*10**3, 9.1*10**3, 1.1*10**4, 1.4*10**4, 1.7*10**4, 2*10**4, 2.3*10**4, 2.7*10**4, 3*10**4]\n",
    "\n",
    "P980_values1215 = [4.4*10**3, 5*10**3, 6*10**3, 7.5*10**3, 9.1*10**3, 1.1*10**4, 1.4*10**4, 1.7*10**4, 2*10**4, 2.3*10**4, 2.7*10**4, 3*10**4]\n",
    "\n",
    "P980_values50 = [1.2*10**3, 1.8*10**3, 2.8*10**3, 4.4*10**3, 7.5*10**3, 1.1*10**4, 1.4*10**4, 1.7*10**4, 2*10**4, 2.3*10**4, 2.7*10**4, 3*10**4]\n",
    "\n",
    "\n",
    "\n",
    "blue4 = [2*10, 1.1*10**2, 8*10**2, 1.6*10**3, 2*10**3, 2.2*10**3, 2.8*10**3, 3*10**3, 3*10**3, 3.5*10**3, 3.6*10**3, 4*10**3, 4.2*10**3, 4.3*10**3, 4.4*10**3]\n",
    "blue6 = [2, 1.4*10, 1.1*10**2, 1.2*10**3, 1.5*10**3, 2*10**3, 2.5*10**3, 3*10**3, 3.4*10**3, 4*10**3, 4.5*10**3, 5*10**3, 5.4*10**3, 5.5*10**3, 5.6*10**3]\n",
    "blue8 = [5, 3*10, 6*10**2, 8*10**2, 1.1*10**3, 1.6*10**3, 2.2*10**3, 2.5*10**3, 3*10**3, 3.5*10**3, 4*10**3, 4.5*10**3, 5*10**3, 5.5*10**3]\n",
    "blue10 = [4.5, 4.5*10, 1.1*10**2, 2.4*10**2, 5.5*10**2, 8.5*10**2, 1.1*10**3, 1.5*10**3, 2*10**3, 2.4*10**3, 2.6*10**3, 3.2*10**3, 3.5*10**3]\n",
    "blue12 = [1.2*10, 2.8*10, 4*10, 1.2*10**2, 2.2*10**2, 2*10**2, 6.5*10**2, 8*10**2, 1.4*10**3, 1.5*10**3, 1.6*10**3, 2*10**3]\n",
    "blue15 = [3, 7.5, 2.5*10, 9*10, 2.3*10**2, 2.5*10**2, 5.4*10**2, 7.5*10**2, 9*10**2, 1*10**3, 1.2*10**3, 1.4*10**3]\n",
    "\n",
    "blue_6_values = [blue4, blue6, blue8, blue10, blue12, blue15]\n",
    "P980_6_blue = [P980_values, P980_values, P980_values8, P980_values10, P980_values1215, P980_values1215]\n",
    "\n",
    "\n",
    "NIR4 = [1.2*10**3, 1.6*10**3, 2.7*10**3, 3*10**3, 3.2*10**3, 3.5*10**3, 3.8*10**3, 4*10**3, 3.7*10**3, 3.7*10**3, 3.9*10**3, 4*10**3, 4*10**3, 4*10**3, 4*10**3]\n",
    "NIR6 = [5.8*10**2, 1.2*10**3, 2.1*10**3, 4.5*10**3, 5*10**3, 5.5*10**3, 6*10**3, 7*10**3, 6.9*10**3, 7*10**3, 7*10**3, 7.1*10**3, 7*10**3, 7*10**3, 7*10**3]\n",
    "NIR8 = [2.5*10**2, 5.5*10**2, 1.2*10**3, 2.5*10**3, 3*10**3, 3.4*10**3, 3.6*10**3, 4.4*10**3, 4.8*10**3, 5*10**3, 5.1*10**3, 5.5*10**3, 6*10**3, 6.5*10**3, 7*10**3]\n",
    "NIR10 = [1.1*10**2, 2.5*10**2, 7*10**2, 1.8*10**3, 2.4*10**3, 2.8*10**3, 3.8*10**3, 4.5*10**3, 5*10**3, 5.1*10**3, 5.2*10**3, 5.5*10**3, 6*10**3, 6.5*10**3, 7*10**3]\n",
    "NIR12 = [4*10, 1*10**2, 1.8*10**2, 6*10**2, 8*10**2, 1.4*10**3, 1.9*10**3, 2.5*10**3, 3*10**3, 4*10**3, 4.5*10**3, 4.5*10**3, 4.1*10**3, 4.2*10**3, 4.2*10**3]\n",
    "NIR15 = [3*10, 6*10, 1.4*10**2, 6*10**2, 8*10**2, 1.4*10**3, 2*10**3, 2.6*10**3, 3.5*10**3, 4*10**3, 4.5*10**3, 4.9*10**3, 5*10**3, 5*10**3, 5*10**3]\n",
    "NIR50 = [3, 6.5, 10, 2.4*10, 5.5*10, 1*10**2, 1.4*10**2, 1.5*10**2, 2.5*10**2, 3.1*10**2, 4.2*10**2, 5.2*10**2]\n",
    "\n",
    "NIR_7_values = [NIR4, NIR6, NIR8, NIR10, NIR12, NIR15, NIR50]\n",
    "P980_7_NIR = [P980_values, P980_values, P980_values, P980_values, P980_values, P980_values, P980_values50]\n"
   ]
  },
  {
   "cell_type": "code",
   "execution_count": 47,
   "metadata": {},
   "outputs": [
    {
     "data": {
      "application/vnd.plotly.v1+json": {
       "config": {
        "plotlyServerURL": "https://plot.ly"
       },
       "data": [
        {
         "line": {
          "color": "rgb(0, 0, 255)"
         },
         "marker": {
          "color": "rgb(0, 0, 255)"
         },
         "mode": "lines+markers",
         "name": "4% Tm",
         "type": "scatter",
         "x": [
          1200,
          1800,
          2800,
          4400,
          5000,
          6000,
          7500,
          9100,
          11000,
          14000,
          17000,
          20000,
          23000,
          27000,
          30000
         ],
         "y": [
          1200,
          1600,
          2700,
          3000,
          3200,
          3500,
          3800,
          4000,
          3700,
          3700,
          3900,
          4000,
          4000,
          4000,
          4000
         ]
        },
        {
         "line": {
          "color": "rgb(51, 0, 204)"
         },
         "marker": {
          "color": "rgb(51, 0, 204)"
         },
         "mode": "lines+markers",
         "name": "6% Tm",
         "type": "scatter",
         "x": [
          1200,
          1800,
          2800,
          4400,
          5000,
          6000,
          7500,
          9100,
          11000,
          14000,
          17000,
          20000,
          23000,
          27000,
          30000
         ],
         "y": [
          580,
          1200,
          2100,
          4500,
          5000,
          5500,
          6000,
          7000,
          6900,
          7000,
          7000,
          7100,
          7000,
          7000,
          7000
         ]
        },
        {
         "line": {
          "color": "rgb(102, 0, 153)"
         },
         "marker": {
          "color": "rgb(102, 0, 153)"
         },
         "mode": "lines+markers",
         "name": "8% Tm",
         "type": "scatter",
         "x": [
          1200,
          1800,
          2800,
          4400,
          5000,
          6000,
          7500,
          9100,
          11000,
          14000,
          17000,
          20000,
          23000,
          27000,
          30000
         ],
         "y": [
          250,
          550,
          1200,
          2500,
          3000,
          3400,
          3600,
          4400,
          4800,
          5000,
          5100,
          5500,
          6000,
          6500,
          7000
         ]
        },
        {
         "line": {
          "color": "rgb(153, 0, 101)"
         },
         "marker": {
          "color": "rgb(153, 0, 101)"
         },
         "mode": "lines+markers",
         "name": "10% Tm",
         "type": "scatter",
         "x": [
          1200,
          1800,
          2800,
          4400,
          5000,
          6000,
          7500,
          9100,
          11000,
          14000,
          17000,
          20000,
          23000,
          27000,
          30000
         ],
         "y": [
          110.00000000000001,
          250,
          700,
          1800,
          2400,
          2800,
          3800,
          4500,
          5000,
          5100,
          5200,
          5500,
          6000,
          6500,
          7000
         ]
        },
        {
         "line": {
          "color": "rgb(204, 0, 50)"
         },
         "marker": {
          "color": "rgb(204, 0, 50)"
         },
         "mode": "lines+markers",
         "name": "12% Tm",
         "type": "scatter",
         "x": [
          1200,
          1800,
          2800,
          4400,
          5000,
          6000,
          7500,
          9100,
          11000,
          14000,
          17000,
          20000,
          23000,
          27000,
          30000
         ],
         "y": [
          40,
          100,
          180,
          600,
          800,
          1400,
          1900,
          2500,
          3000,
          4000,
          4500,
          4500,
          4100,
          4200,
          4200
         ]
        },
        {
         "line": {
          "color": "rgb(255, 0, 0)"
         },
         "marker": {
          "color": "rgb(255, 0, 0)"
         },
         "mode": "lines+markers",
         "name": "15% Tm",
         "type": "scatter",
         "x": [
          1200,
          1800,
          2800,
          4400,
          5000,
          6000,
          7500,
          9100,
          11000,
          14000,
          17000,
          20000,
          23000,
          27000,
          30000
         ],
         "y": [
          30,
          60,
          140,
          600,
          800,
          1400,
          2000,
          2600,
          3500,
          4000,
          4500,
          4900,
          5000,
          5000,
          5000
         ]
        }
       ],
       "layout": {
        "height": 600,
        "template": {
         "data": {
          "bar": [
           {
            "error_x": {
             "color": "#2a3f5f"
            },
            "error_y": {
             "color": "#2a3f5f"
            },
            "marker": {
             "line": {
              "color": "#E5ECF6",
              "width": 0.5
             },
             "pattern": {
              "fillmode": "overlay",
              "size": 10,
              "solidity": 0.2
             }
            },
            "type": "bar"
           }
          ],
          "barpolar": [
           {
            "marker": {
             "line": {
              "color": "#E5ECF6",
              "width": 0.5
             },
             "pattern": {
              "fillmode": "overlay",
              "size": 10,
              "solidity": 0.2
             }
            },
            "type": "barpolar"
           }
          ],
          "carpet": [
           {
            "aaxis": {
             "endlinecolor": "#2a3f5f",
             "gridcolor": "white",
             "linecolor": "white",
             "minorgridcolor": "white",
             "startlinecolor": "#2a3f5f"
            },
            "baxis": {
             "endlinecolor": "#2a3f5f",
             "gridcolor": "white",
             "linecolor": "white",
             "minorgridcolor": "white",
             "startlinecolor": "#2a3f5f"
            },
            "type": "carpet"
           }
          ],
          "choropleth": [
           {
            "colorbar": {
             "outlinewidth": 0,
             "ticks": ""
            },
            "type": "choropleth"
           }
          ],
          "contour": [
           {
            "colorbar": {
             "outlinewidth": 0,
             "ticks": ""
            },
            "colorscale": [
             [
              0,
              "#0d0887"
             ],
             [
              0.1111111111111111,
              "#46039f"
             ],
             [
              0.2222222222222222,
              "#7201a8"
             ],
             [
              0.3333333333333333,
              "#9c179e"
             ],
             [
              0.4444444444444444,
              "#bd3786"
             ],
             [
              0.5555555555555556,
              "#d8576b"
             ],
             [
              0.6666666666666666,
              "#ed7953"
             ],
             [
              0.7777777777777778,
              "#fb9f3a"
             ],
             [
              0.8888888888888888,
              "#fdca26"
             ],
             [
              1,
              "#f0f921"
             ]
            ],
            "type": "contour"
           }
          ],
          "contourcarpet": [
           {
            "colorbar": {
             "outlinewidth": 0,
             "ticks": ""
            },
            "type": "contourcarpet"
           }
          ],
          "heatmap": [
           {
            "colorbar": {
             "outlinewidth": 0,
             "ticks": ""
            },
            "colorscale": [
             [
              0,
              "#0d0887"
             ],
             [
              0.1111111111111111,
              "#46039f"
             ],
             [
              0.2222222222222222,
              "#7201a8"
             ],
             [
              0.3333333333333333,
              "#9c179e"
             ],
             [
              0.4444444444444444,
              "#bd3786"
             ],
             [
              0.5555555555555556,
              "#d8576b"
             ],
             [
              0.6666666666666666,
              "#ed7953"
             ],
             [
              0.7777777777777778,
              "#fb9f3a"
             ],
             [
              0.8888888888888888,
              "#fdca26"
             ],
             [
              1,
              "#f0f921"
             ]
            ],
            "type": "heatmap"
           }
          ],
          "heatmapgl": [
           {
            "colorbar": {
             "outlinewidth": 0,
             "ticks": ""
            },
            "colorscale": [
             [
              0,
              "#0d0887"
             ],
             [
              0.1111111111111111,
              "#46039f"
             ],
             [
              0.2222222222222222,
              "#7201a8"
             ],
             [
              0.3333333333333333,
              "#9c179e"
             ],
             [
              0.4444444444444444,
              "#bd3786"
             ],
             [
              0.5555555555555556,
              "#d8576b"
             ],
             [
              0.6666666666666666,
              "#ed7953"
             ],
             [
              0.7777777777777778,
              "#fb9f3a"
             ],
             [
              0.8888888888888888,
              "#fdca26"
             ],
             [
              1,
              "#f0f921"
             ]
            ],
            "type": "heatmapgl"
           }
          ],
          "histogram": [
           {
            "marker": {
             "pattern": {
              "fillmode": "overlay",
              "size": 10,
              "solidity": 0.2
             }
            },
            "type": "histogram"
           }
          ],
          "histogram2d": [
           {
            "colorbar": {
             "outlinewidth": 0,
             "ticks": ""
            },
            "colorscale": [
             [
              0,
              "#0d0887"
             ],
             [
              0.1111111111111111,
              "#46039f"
             ],
             [
              0.2222222222222222,
              "#7201a8"
             ],
             [
              0.3333333333333333,
              "#9c179e"
             ],
             [
              0.4444444444444444,
              "#bd3786"
             ],
             [
              0.5555555555555556,
              "#d8576b"
             ],
             [
              0.6666666666666666,
              "#ed7953"
             ],
             [
              0.7777777777777778,
              "#fb9f3a"
             ],
             [
              0.8888888888888888,
              "#fdca26"
             ],
             [
              1,
              "#f0f921"
             ]
            ],
            "type": "histogram2d"
           }
          ],
          "histogram2dcontour": [
           {
            "colorbar": {
             "outlinewidth": 0,
             "ticks": ""
            },
            "colorscale": [
             [
              0,
              "#0d0887"
             ],
             [
              0.1111111111111111,
              "#46039f"
             ],
             [
              0.2222222222222222,
              "#7201a8"
             ],
             [
              0.3333333333333333,
              "#9c179e"
             ],
             [
              0.4444444444444444,
              "#bd3786"
             ],
             [
              0.5555555555555556,
              "#d8576b"
             ],
             [
              0.6666666666666666,
              "#ed7953"
             ],
             [
              0.7777777777777778,
              "#fb9f3a"
             ],
             [
              0.8888888888888888,
              "#fdca26"
             ],
             [
              1,
              "#f0f921"
             ]
            ],
            "type": "histogram2dcontour"
           }
          ],
          "mesh3d": [
           {
            "colorbar": {
             "outlinewidth": 0,
             "ticks": ""
            },
            "type": "mesh3d"
           }
          ],
          "parcoords": [
           {
            "line": {
             "colorbar": {
              "outlinewidth": 0,
              "ticks": ""
             }
            },
            "type": "parcoords"
           }
          ],
          "pie": [
           {
            "automargin": true,
            "type": "pie"
           }
          ],
          "scatter": [
           {
            "fillpattern": {
             "fillmode": "overlay",
             "size": 10,
             "solidity": 0.2
            },
            "type": "scatter"
           }
          ],
          "scatter3d": [
           {
            "line": {
             "colorbar": {
              "outlinewidth": 0,
              "ticks": ""
             }
            },
            "marker": {
             "colorbar": {
              "outlinewidth": 0,
              "ticks": ""
             }
            },
            "type": "scatter3d"
           }
          ],
          "scattercarpet": [
           {
            "marker": {
             "colorbar": {
              "outlinewidth": 0,
              "ticks": ""
             }
            },
            "type": "scattercarpet"
           }
          ],
          "scattergeo": [
           {
            "marker": {
             "colorbar": {
              "outlinewidth": 0,
              "ticks": ""
             }
            },
            "type": "scattergeo"
           }
          ],
          "scattergl": [
           {
            "marker": {
             "colorbar": {
              "outlinewidth": 0,
              "ticks": ""
             }
            },
            "type": "scattergl"
           }
          ],
          "scattermapbox": [
           {
            "marker": {
             "colorbar": {
              "outlinewidth": 0,
              "ticks": ""
             }
            },
            "type": "scattermapbox"
           }
          ],
          "scatterpolar": [
           {
            "marker": {
             "colorbar": {
              "outlinewidth": 0,
              "ticks": ""
             }
            },
            "type": "scatterpolar"
           }
          ],
          "scatterpolargl": [
           {
            "marker": {
             "colorbar": {
              "outlinewidth": 0,
              "ticks": ""
             }
            },
            "type": "scatterpolargl"
           }
          ],
          "scatterternary": [
           {
            "marker": {
             "colorbar": {
              "outlinewidth": 0,
              "ticks": ""
             }
            },
            "type": "scatterternary"
           }
          ],
          "surface": [
           {
            "colorbar": {
             "outlinewidth": 0,
             "ticks": ""
            },
            "colorscale": [
             [
              0,
              "#0d0887"
             ],
             [
              0.1111111111111111,
              "#46039f"
             ],
             [
              0.2222222222222222,
              "#7201a8"
             ],
             [
              0.3333333333333333,
              "#9c179e"
             ],
             [
              0.4444444444444444,
              "#bd3786"
             ],
             [
              0.5555555555555556,
              "#d8576b"
             ],
             [
              0.6666666666666666,
              "#ed7953"
             ],
             [
              0.7777777777777778,
              "#fb9f3a"
             ],
             [
              0.8888888888888888,
              "#fdca26"
             ],
             [
              1,
              "#f0f921"
             ]
            ],
            "type": "surface"
           }
          ],
          "table": [
           {
            "cells": {
             "fill": {
              "color": "#EBF0F8"
             },
             "line": {
              "color": "white"
             }
            },
            "header": {
             "fill": {
              "color": "#C8D4E3"
             },
             "line": {
              "color": "white"
             }
            },
            "type": "table"
           }
          ]
         },
         "layout": {
          "annotationdefaults": {
           "arrowcolor": "#2a3f5f",
           "arrowhead": 0,
           "arrowwidth": 1
          },
          "autotypenumbers": "strict",
          "coloraxis": {
           "colorbar": {
            "outlinewidth": 0,
            "ticks": ""
           }
          },
          "colorscale": {
           "diverging": [
            [
             0,
             "#8e0152"
            ],
            [
             0.1,
             "#c51b7d"
            ],
            [
             0.2,
             "#de77ae"
            ],
            [
             0.3,
             "#f1b6da"
            ],
            [
             0.4,
             "#fde0ef"
            ],
            [
             0.5,
             "#f7f7f7"
            ],
            [
             0.6,
             "#e6f5d0"
            ],
            [
             0.7,
             "#b8e186"
            ],
            [
             0.8,
             "#7fbc41"
            ],
            [
             0.9,
             "#4d9221"
            ],
            [
             1,
             "#276419"
            ]
           ],
           "sequential": [
            [
             0,
             "#0d0887"
            ],
            [
             0.1111111111111111,
             "#46039f"
            ],
            [
             0.2222222222222222,
             "#7201a8"
            ],
            [
             0.3333333333333333,
             "#9c179e"
            ],
            [
             0.4444444444444444,
             "#bd3786"
            ],
            [
             0.5555555555555556,
             "#d8576b"
            ],
            [
             0.6666666666666666,
             "#ed7953"
            ],
            [
             0.7777777777777778,
             "#fb9f3a"
            ],
            [
             0.8888888888888888,
             "#fdca26"
            ],
            [
             1,
             "#f0f921"
            ]
           ],
           "sequentialminus": [
            [
             0,
             "#0d0887"
            ],
            [
             0.1111111111111111,
             "#46039f"
            ],
            [
             0.2222222222222222,
             "#7201a8"
            ],
            [
             0.3333333333333333,
             "#9c179e"
            ],
            [
             0.4444444444444444,
             "#bd3786"
            ],
            [
             0.5555555555555556,
             "#d8576b"
            ],
            [
             0.6666666666666666,
             "#ed7953"
            ],
            [
             0.7777777777777778,
             "#fb9f3a"
            ],
            [
             0.8888888888888888,
             "#fdca26"
            ],
            [
             1,
             "#f0f921"
            ]
           ]
          },
          "colorway": [
           "#636efa",
           "#EF553B",
           "#00cc96",
           "#ab63fa",
           "#FFA15A",
           "#19d3f3",
           "#FF6692",
           "#B6E880",
           "#FF97FF",
           "#FECB52"
          ],
          "font": {
           "color": "#2a3f5f"
          },
          "geo": {
           "bgcolor": "white",
           "lakecolor": "white",
           "landcolor": "#E5ECF6",
           "showlakes": true,
           "showland": true,
           "subunitcolor": "white"
          },
          "hoverlabel": {
           "align": "left"
          },
          "hovermode": "closest",
          "mapbox": {
           "style": "light"
          },
          "paper_bgcolor": "white",
          "plot_bgcolor": "#E5ECF6",
          "polar": {
           "angularaxis": {
            "gridcolor": "white",
            "linecolor": "white",
            "ticks": ""
           },
           "bgcolor": "#E5ECF6",
           "radialaxis": {
            "gridcolor": "white",
            "linecolor": "white",
            "ticks": ""
           }
          },
          "scene": {
           "xaxis": {
            "backgroundcolor": "#E5ECF6",
            "gridcolor": "white",
            "gridwidth": 2,
            "linecolor": "white",
            "showbackground": true,
            "ticks": "",
            "zerolinecolor": "white"
           },
           "yaxis": {
            "backgroundcolor": "#E5ECF6",
            "gridcolor": "white",
            "gridwidth": 2,
            "linecolor": "white",
            "showbackground": true,
            "ticks": "",
            "zerolinecolor": "white"
           },
           "zaxis": {
            "backgroundcolor": "#E5ECF6",
            "gridcolor": "white",
            "gridwidth": 2,
            "linecolor": "white",
            "showbackground": true,
            "ticks": "",
            "zerolinecolor": "white"
           }
          },
          "shapedefaults": {
           "line": {
            "color": "#2a3f5f"
           }
          },
          "ternary": {
           "aaxis": {
            "gridcolor": "white",
            "linecolor": "white",
            "ticks": ""
           },
           "baxis": {
            "gridcolor": "white",
            "linecolor": "white",
            "ticks": ""
           },
           "bgcolor": "#E5ECF6",
           "caxis": {
            "gridcolor": "white",
            "linecolor": "white",
            "ticks": ""
           }
          },
          "title": {
           "x": 0.05
          },
          "xaxis": {
           "automargin": true,
           "gridcolor": "white",
           "linecolor": "white",
           "ticks": "",
           "title": {
            "standoff": 15
           },
           "zerolinecolor": "white",
           "zerolinewidth": 2
          },
          "yaxis": {
           "automargin": true,
           "gridcolor": "white",
           "linecolor": "white",
           "ticks": "",
           "title": {
            "standoff": 15
           },
           "zerolinecolor": "white",
           "zerolinewidth": 2
          }
         }
        },
        "title": {
         "text": "NIR vs Power Density (Experiment)"
        },
        "width": 600,
        "xaxis": {
         "title": {
          "text": "Power Density (W/cm^2)"
         },
         "type": "log"
        },
        "yaxis": {
         "title": {
          "text": "NIR Emission Intensity (PPS)"
         },
         "type": "log"
        }
       }
      }
     },
     "metadata": {},
     "output_type": "display_data"
    }
   ],
   "source": [
    "NIR_values = [NIR4, NIR6, NIR8, NIR10, NIR12, NIR15]\n",
    "P980_7_NIR = [P980_values, P980_values, P980_values, P980_values, P980_values, P980_values ]\n",
    "colors = np.linspace(0, 1, len(NIR_values))\n",
    "\n",
    "traces_red = []\n",
    "concentrations = ['4%', '6%', '8%', '10%', '12%', '15%']\n",
    "\n",
    "for i in range(len(NIR_values)):\n",
    "    color = colors[i]\n",
    "    trace_red = go.Scatter(x=P980_7_NIR[i], y=NIR_values[i], mode='lines+markers', name=f'{concentrations[i]} Tm', \n",
    "                             line=dict(color=f'rgb({int(color * 255)}, 0, {int((1 - color) * 255)})'),\n",
    "                             marker=dict(color=f'rgb({int(color * 255)}, 0, {int((1 - color) * 255)})'))\n",
    "    traces_red.append(trace_red)\n",
    "\n",
    "layout_red = go.Layout(\n",
    "    title='NIR vs Power Density (Experiment)',\n",
    "    xaxis=dict(title='Power Density (W/cm^2)', type='log'),\n",
    "    yaxis=dict(title='NIR Emission Intensity (PPS)', type='log'),\n",
    "    width=600,\n",
    "    height=600\n",
    ")\n",
    "\n",
    "# Create red figure\n",
    "fig_red = go.Figure(data=traces_red, layout=layout_red)\n",
    "\n",
    "# Show red plot\n",
    "fig_red.show()"
   ]
  },
  {
   "cell_type": "code",
   "execution_count": 49,
   "metadata": {},
   "outputs": [
    {
     "data": {
      "application/vnd.plotly.v1+json": {
       "config": {
        "plotlyServerURL": "https://plot.ly"
       },
       "data": [
        {
         "line": {
          "color": "rgb(0, 0, 255)"
         },
         "marker": {
          "color": "rgb(0, 0, 255)"
         },
         "mode": "lines+markers",
         "name": "4% Tm",
         "type": "scatter",
         "x": [
          1200,
          1800,
          2800,
          4400,
          5000,
          6000,
          7500,
          9100,
          11000,
          14000,
          17000,
          20000,
          23000,
          27000,
          30000
         ],
         "y": [
          20,
          110.00000000000001,
          800,
          1600,
          2000,
          2200,
          2800,
          3000,
          3000,
          3500,
          3600,
          4000,
          4200,
          4300,
          4400
         ]
        },
        {
         "line": {
          "color": "rgb(0, 51, 204)"
         },
         "marker": {
          "color": "rgb(0, 51, 204)"
         },
         "mode": "lines+markers",
         "name": "6% Tm",
         "type": "scatter",
         "x": [
          1200,
          1800,
          2800,
          4400,
          5000,
          6000,
          7500,
          9100,
          11000,
          14000,
          17000,
          20000,
          23000,
          27000,
          30000
         ],
         "y": [
          2,
          14,
          110.00000000000001,
          1200,
          1500,
          2000,
          2500,
          3000,
          3400,
          4000,
          4500,
          5000,
          5400,
          5500,
          5600
         ]
        },
        {
         "line": {
          "color": "rgb(0, 102, 153)"
         },
         "marker": {
          "color": "rgb(0, 102, 153)"
         },
         "mode": "lines+markers",
         "name": "8% Tm",
         "type": "scatter",
         "x": [
          1800,
          2800,
          4400,
          5000,
          6000,
          7500,
          9100,
          11000,
          14000,
          17000,
          20000,
          23000,
          27000,
          30000
         ],
         "y": [
          5,
          30,
          600,
          800,
          1100,
          1600,
          2200,
          2500,
          3000,
          3500,
          4000,
          4500,
          5000,
          5500
         ]
        },
        {
         "line": {
          "color": "rgb(0, 153, 101)"
         },
         "marker": {
          "color": "rgb(0, 153, 101)"
         },
         "mode": "lines+markers",
         "name": "10% Tm",
         "type": "scatter",
         "x": [
          2800,
          4400,
          5000,
          6000,
          7500,
          9100,
          11000,
          14000,
          17000,
          20000,
          23000,
          27000,
          30000
         ],
         "y": [
          4.5,
          45,
          110.00000000000001,
          240,
          550,
          850,
          1100,
          1500,
          2000,
          2400,
          2600,
          3200,
          3500
         ]
        },
        {
         "line": {
          "color": "rgb(0, 204, 50)"
         },
         "marker": {
          "color": "rgb(0, 204, 50)"
         },
         "mode": "lines+markers",
         "name": "12% Tm",
         "type": "scatter",
         "x": [
          4400,
          5000,
          6000,
          7500,
          9100,
          11000,
          14000,
          17000,
          20000,
          23000,
          27000,
          30000
         ],
         "y": [
          12,
          28,
          40,
          120,
          220.00000000000003,
          200,
          650,
          800,
          1400,
          1500,
          1600,
          2000
         ]
        },
        {
         "line": {
          "color": "rgb(0, 255, 0)"
         },
         "marker": {
          "color": "rgb(0, 255, 0)"
         },
         "mode": "lines+markers",
         "name": "15% Tm",
         "type": "scatter",
         "x": [
          4400,
          5000,
          6000,
          7500,
          9100,
          11000,
          14000,
          17000,
          20000,
          23000,
          27000,
          30000
         ],
         "y": [
          3,
          7.5,
          25,
          90,
          229.99999999999997,
          250,
          540,
          750,
          900,
          1000,
          1200,
          1400
         ]
        }
       ],
       "layout": {
        "height": 600,
        "template": {
         "data": {
          "bar": [
           {
            "error_x": {
             "color": "#2a3f5f"
            },
            "error_y": {
             "color": "#2a3f5f"
            },
            "marker": {
             "line": {
              "color": "#E5ECF6",
              "width": 0.5
             },
             "pattern": {
              "fillmode": "overlay",
              "size": 10,
              "solidity": 0.2
             }
            },
            "type": "bar"
           }
          ],
          "barpolar": [
           {
            "marker": {
             "line": {
              "color": "#E5ECF6",
              "width": 0.5
             },
             "pattern": {
              "fillmode": "overlay",
              "size": 10,
              "solidity": 0.2
             }
            },
            "type": "barpolar"
           }
          ],
          "carpet": [
           {
            "aaxis": {
             "endlinecolor": "#2a3f5f",
             "gridcolor": "white",
             "linecolor": "white",
             "minorgridcolor": "white",
             "startlinecolor": "#2a3f5f"
            },
            "baxis": {
             "endlinecolor": "#2a3f5f",
             "gridcolor": "white",
             "linecolor": "white",
             "minorgridcolor": "white",
             "startlinecolor": "#2a3f5f"
            },
            "type": "carpet"
           }
          ],
          "choropleth": [
           {
            "colorbar": {
             "outlinewidth": 0,
             "ticks": ""
            },
            "type": "choropleth"
           }
          ],
          "contour": [
           {
            "colorbar": {
             "outlinewidth": 0,
             "ticks": ""
            },
            "colorscale": [
             [
              0,
              "#0d0887"
             ],
             [
              0.1111111111111111,
              "#46039f"
             ],
             [
              0.2222222222222222,
              "#7201a8"
             ],
             [
              0.3333333333333333,
              "#9c179e"
             ],
             [
              0.4444444444444444,
              "#bd3786"
             ],
             [
              0.5555555555555556,
              "#d8576b"
             ],
             [
              0.6666666666666666,
              "#ed7953"
             ],
             [
              0.7777777777777778,
              "#fb9f3a"
             ],
             [
              0.8888888888888888,
              "#fdca26"
             ],
             [
              1,
              "#f0f921"
             ]
            ],
            "type": "contour"
           }
          ],
          "contourcarpet": [
           {
            "colorbar": {
             "outlinewidth": 0,
             "ticks": ""
            },
            "type": "contourcarpet"
           }
          ],
          "heatmap": [
           {
            "colorbar": {
             "outlinewidth": 0,
             "ticks": ""
            },
            "colorscale": [
             [
              0,
              "#0d0887"
             ],
             [
              0.1111111111111111,
              "#46039f"
             ],
             [
              0.2222222222222222,
              "#7201a8"
             ],
             [
              0.3333333333333333,
              "#9c179e"
             ],
             [
              0.4444444444444444,
              "#bd3786"
             ],
             [
              0.5555555555555556,
              "#d8576b"
             ],
             [
              0.6666666666666666,
              "#ed7953"
             ],
             [
              0.7777777777777778,
              "#fb9f3a"
             ],
             [
              0.8888888888888888,
              "#fdca26"
             ],
             [
              1,
              "#f0f921"
             ]
            ],
            "type": "heatmap"
           }
          ],
          "heatmapgl": [
           {
            "colorbar": {
             "outlinewidth": 0,
             "ticks": ""
            },
            "colorscale": [
             [
              0,
              "#0d0887"
             ],
             [
              0.1111111111111111,
              "#46039f"
             ],
             [
              0.2222222222222222,
              "#7201a8"
             ],
             [
              0.3333333333333333,
              "#9c179e"
             ],
             [
              0.4444444444444444,
              "#bd3786"
             ],
             [
              0.5555555555555556,
              "#d8576b"
             ],
             [
              0.6666666666666666,
              "#ed7953"
             ],
             [
              0.7777777777777778,
              "#fb9f3a"
             ],
             [
              0.8888888888888888,
              "#fdca26"
             ],
             [
              1,
              "#f0f921"
             ]
            ],
            "type": "heatmapgl"
           }
          ],
          "histogram": [
           {
            "marker": {
             "pattern": {
              "fillmode": "overlay",
              "size": 10,
              "solidity": 0.2
             }
            },
            "type": "histogram"
           }
          ],
          "histogram2d": [
           {
            "colorbar": {
             "outlinewidth": 0,
             "ticks": ""
            },
            "colorscale": [
             [
              0,
              "#0d0887"
             ],
             [
              0.1111111111111111,
              "#46039f"
             ],
             [
              0.2222222222222222,
              "#7201a8"
             ],
             [
              0.3333333333333333,
              "#9c179e"
             ],
             [
              0.4444444444444444,
              "#bd3786"
             ],
             [
              0.5555555555555556,
              "#d8576b"
             ],
             [
              0.6666666666666666,
              "#ed7953"
             ],
             [
              0.7777777777777778,
              "#fb9f3a"
             ],
             [
              0.8888888888888888,
              "#fdca26"
             ],
             [
              1,
              "#f0f921"
             ]
            ],
            "type": "histogram2d"
           }
          ],
          "histogram2dcontour": [
           {
            "colorbar": {
             "outlinewidth": 0,
             "ticks": ""
            },
            "colorscale": [
             [
              0,
              "#0d0887"
             ],
             [
              0.1111111111111111,
              "#46039f"
             ],
             [
              0.2222222222222222,
              "#7201a8"
             ],
             [
              0.3333333333333333,
              "#9c179e"
             ],
             [
              0.4444444444444444,
              "#bd3786"
             ],
             [
              0.5555555555555556,
              "#d8576b"
             ],
             [
              0.6666666666666666,
              "#ed7953"
             ],
             [
              0.7777777777777778,
              "#fb9f3a"
             ],
             [
              0.8888888888888888,
              "#fdca26"
             ],
             [
              1,
              "#f0f921"
             ]
            ],
            "type": "histogram2dcontour"
           }
          ],
          "mesh3d": [
           {
            "colorbar": {
             "outlinewidth": 0,
             "ticks": ""
            },
            "type": "mesh3d"
           }
          ],
          "parcoords": [
           {
            "line": {
             "colorbar": {
              "outlinewidth": 0,
              "ticks": ""
             }
            },
            "type": "parcoords"
           }
          ],
          "pie": [
           {
            "automargin": true,
            "type": "pie"
           }
          ],
          "scatter": [
           {
            "fillpattern": {
             "fillmode": "overlay",
             "size": 10,
             "solidity": 0.2
            },
            "type": "scatter"
           }
          ],
          "scatter3d": [
           {
            "line": {
             "colorbar": {
              "outlinewidth": 0,
              "ticks": ""
             }
            },
            "marker": {
             "colorbar": {
              "outlinewidth": 0,
              "ticks": ""
             }
            },
            "type": "scatter3d"
           }
          ],
          "scattercarpet": [
           {
            "marker": {
             "colorbar": {
              "outlinewidth": 0,
              "ticks": ""
             }
            },
            "type": "scattercarpet"
           }
          ],
          "scattergeo": [
           {
            "marker": {
             "colorbar": {
              "outlinewidth": 0,
              "ticks": ""
             }
            },
            "type": "scattergeo"
           }
          ],
          "scattergl": [
           {
            "marker": {
             "colorbar": {
              "outlinewidth": 0,
              "ticks": ""
             }
            },
            "type": "scattergl"
           }
          ],
          "scattermapbox": [
           {
            "marker": {
             "colorbar": {
              "outlinewidth": 0,
              "ticks": ""
             }
            },
            "type": "scattermapbox"
           }
          ],
          "scatterpolar": [
           {
            "marker": {
             "colorbar": {
              "outlinewidth": 0,
              "ticks": ""
             }
            },
            "type": "scatterpolar"
           }
          ],
          "scatterpolargl": [
           {
            "marker": {
             "colorbar": {
              "outlinewidth": 0,
              "ticks": ""
             }
            },
            "type": "scatterpolargl"
           }
          ],
          "scatterternary": [
           {
            "marker": {
             "colorbar": {
              "outlinewidth": 0,
              "ticks": ""
             }
            },
            "type": "scatterternary"
           }
          ],
          "surface": [
           {
            "colorbar": {
             "outlinewidth": 0,
             "ticks": ""
            },
            "colorscale": [
             [
              0,
              "#0d0887"
             ],
             [
              0.1111111111111111,
              "#46039f"
             ],
             [
              0.2222222222222222,
              "#7201a8"
             ],
             [
              0.3333333333333333,
              "#9c179e"
             ],
             [
              0.4444444444444444,
              "#bd3786"
             ],
             [
              0.5555555555555556,
              "#d8576b"
             ],
             [
              0.6666666666666666,
              "#ed7953"
             ],
             [
              0.7777777777777778,
              "#fb9f3a"
             ],
             [
              0.8888888888888888,
              "#fdca26"
             ],
             [
              1,
              "#f0f921"
             ]
            ],
            "type": "surface"
           }
          ],
          "table": [
           {
            "cells": {
             "fill": {
              "color": "#EBF0F8"
             },
             "line": {
              "color": "white"
             }
            },
            "header": {
             "fill": {
              "color": "#C8D4E3"
             },
             "line": {
              "color": "white"
             }
            },
            "type": "table"
           }
          ]
         },
         "layout": {
          "annotationdefaults": {
           "arrowcolor": "#2a3f5f",
           "arrowhead": 0,
           "arrowwidth": 1
          },
          "autotypenumbers": "strict",
          "coloraxis": {
           "colorbar": {
            "outlinewidth": 0,
            "ticks": ""
           }
          },
          "colorscale": {
           "diverging": [
            [
             0,
             "#8e0152"
            ],
            [
             0.1,
             "#c51b7d"
            ],
            [
             0.2,
             "#de77ae"
            ],
            [
             0.3,
             "#f1b6da"
            ],
            [
             0.4,
             "#fde0ef"
            ],
            [
             0.5,
             "#f7f7f7"
            ],
            [
             0.6,
             "#e6f5d0"
            ],
            [
             0.7,
             "#b8e186"
            ],
            [
             0.8,
             "#7fbc41"
            ],
            [
             0.9,
             "#4d9221"
            ],
            [
             1,
             "#276419"
            ]
           ],
           "sequential": [
            [
             0,
             "#0d0887"
            ],
            [
             0.1111111111111111,
             "#46039f"
            ],
            [
             0.2222222222222222,
             "#7201a8"
            ],
            [
             0.3333333333333333,
             "#9c179e"
            ],
            [
             0.4444444444444444,
             "#bd3786"
            ],
            [
             0.5555555555555556,
             "#d8576b"
            ],
            [
             0.6666666666666666,
             "#ed7953"
            ],
            [
             0.7777777777777778,
             "#fb9f3a"
            ],
            [
             0.8888888888888888,
             "#fdca26"
            ],
            [
             1,
             "#f0f921"
            ]
           ],
           "sequentialminus": [
            [
             0,
             "#0d0887"
            ],
            [
             0.1111111111111111,
             "#46039f"
            ],
            [
             0.2222222222222222,
             "#7201a8"
            ],
            [
             0.3333333333333333,
             "#9c179e"
            ],
            [
             0.4444444444444444,
             "#bd3786"
            ],
            [
             0.5555555555555556,
             "#d8576b"
            ],
            [
             0.6666666666666666,
             "#ed7953"
            ],
            [
             0.7777777777777778,
             "#fb9f3a"
            ],
            [
             0.8888888888888888,
             "#fdca26"
            ],
            [
             1,
             "#f0f921"
            ]
           ]
          },
          "colorway": [
           "#636efa",
           "#EF553B",
           "#00cc96",
           "#ab63fa",
           "#FFA15A",
           "#19d3f3",
           "#FF6692",
           "#B6E880",
           "#FF97FF",
           "#FECB52"
          ],
          "font": {
           "color": "#2a3f5f"
          },
          "geo": {
           "bgcolor": "white",
           "lakecolor": "white",
           "landcolor": "#E5ECF6",
           "showlakes": true,
           "showland": true,
           "subunitcolor": "white"
          },
          "hoverlabel": {
           "align": "left"
          },
          "hovermode": "closest",
          "mapbox": {
           "style": "light"
          },
          "paper_bgcolor": "white",
          "plot_bgcolor": "#E5ECF6",
          "polar": {
           "angularaxis": {
            "gridcolor": "white",
            "linecolor": "white",
            "ticks": ""
           },
           "bgcolor": "#E5ECF6",
           "radialaxis": {
            "gridcolor": "white",
            "linecolor": "white",
            "ticks": ""
           }
          },
          "scene": {
           "xaxis": {
            "backgroundcolor": "#E5ECF6",
            "gridcolor": "white",
            "gridwidth": 2,
            "linecolor": "white",
            "showbackground": true,
            "ticks": "",
            "zerolinecolor": "white"
           },
           "yaxis": {
            "backgroundcolor": "#E5ECF6",
            "gridcolor": "white",
            "gridwidth": 2,
            "linecolor": "white",
            "showbackground": true,
            "ticks": "",
            "zerolinecolor": "white"
           },
           "zaxis": {
            "backgroundcolor": "#E5ECF6",
            "gridcolor": "white",
            "gridwidth": 2,
            "linecolor": "white",
            "showbackground": true,
            "ticks": "",
            "zerolinecolor": "white"
           }
          },
          "shapedefaults": {
           "line": {
            "color": "#2a3f5f"
           }
          },
          "ternary": {
           "aaxis": {
            "gridcolor": "white",
            "linecolor": "white",
            "ticks": ""
           },
           "baxis": {
            "gridcolor": "white",
            "linecolor": "white",
            "ticks": ""
           },
           "bgcolor": "#E5ECF6",
           "caxis": {
            "gridcolor": "white",
            "linecolor": "white",
            "ticks": ""
           }
          },
          "title": {
           "x": 0.05
          },
          "xaxis": {
           "automargin": true,
           "gridcolor": "white",
           "linecolor": "white",
           "ticks": "",
           "title": {
            "standoff": 15
           },
           "zerolinecolor": "white",
           "zerolinewidth": 2
          },
          "yaxis": {
           "automargin": true,
           "gridcolor": "white",
           "linecolor": "white",
           "ticks": "",
           "title": {
            "standoff": 15
           },
           "zerolinecolor": "white",
           "zerolinewidth": 2
          }
         }
        },
        "title": {
         "text": "Blue vs Power Density (Experiment)"
        },
        "width": 600,
        "xaxis": {
         "title": {
          "text": "Power Density (W/cm^2)"
         },
         "type": "log"
        },
        "yaxis": {
         "title": {
          "text": "Blue Emission Intensity (PPS)"
         },
         "type": "log"
        }
       }
      }
     },
     "metadata": {},
     "output_type": "display_data"
    }
   ],
   "source": [
    "blue_6_values = [blue4, blue6, blue8, blue10, blue12, blue15]\n",
    "P980_6_blue = [P980_values, P980_values, P980_values8, P980_values10, P980_values1215, P980_values1215]\n",
    "colors = np.linspace(0, 1, len(NIR_values))\n",
    "\n",
    "traces_red = []\n",
    "concentrations = ['4%', '6%', '8%', '10%', '12%', '15%']\n",
    "\n",
    "for i in range(len(NIR_values)):\n",
    "    color = colors[i]\n",
    "    trace_red = go.Scatter(x=P980_6_blue[i], y=blue_6_values[i], mode='lines+markers', name=f'{concentrations[i]} Tm', \n",
    "                             line=dict(color=f'rgb(0, {int(color * 255)}, {int((1 - color) * 255)})'),\n",
    "                             marker=dict(color=f'rgb(0, {int(color * 255)}, {int((1 - color) * 255)})'))\n",
    "    traces_red.append(trace_red)\n",
    "\n",
    "layout_red = go.Layout(\n",
    "    title='Blue vs Power Density (Experiment)',\n",
    "    xaxis=dict(title='Power Density (W/cm^2)', type='log'),\n",
    "    yaxis=dict(title='Blue Emission Intensity (PPS)', type='log'),\n",
    "    width=600,\n",
    "    height=600\n",
    ")\n",
    "\n",
    "# Create red figure\n",
    "fig_red = go.Figure(data=traces_red, layout=layout_red)\n",
    "\n",
    "# Show red plot\n",
    "fig_red.show()"
   ]
  },
  {
   "cell_type": "code",
   "execution_count": null,
   "metadata": {},
   "outputs": [],
   "source": []
  }
 ],
 "metadata": {
  "kernelspec": {
   "display_name": "Python 3",
   "language": "python",
   "name": "python3"
  },
  "language_info": {
   "codemirror_mode": {
    "name": "ipython",
    "version": 3
   },
   "file_extension": ".py",
   "mimetype": "text/x-python",
   "name": "python",
   "nbconvert_exporter": "python",
   "pygments_lexer": "ipython3",
   "version": "3.12.6"
  }
 },
 "nbformat": 4,
 "nbformat_minor": 2
}
