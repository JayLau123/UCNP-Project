{
 "cells": [
  {
   "cell_type": "markdown",
   "metadata": {},
   "source": [
    "# 1st step, calculate all rates"
   ]
  },
  {
   "cell_type": "code",
   "execution_count": 1,
   "metadata": {},
   "outputs": [
    {
     "name": "stdout",
     "output_type": "stream",
     "text": [
      "Successfully import:\n",
      "\n",
      "Tm_energy\n",
      "Tm_RME\n",
      "Tm_omega\n",
      "\n",
      "Successfully import: \n",
      "\n",
      "sorted_wavelength(energy_dict)\n",
      "find_ED_transition(energy_dict)\n",
      "find_MD_transition(energy_dict)\n",
      "\n",
      "Successfully import:\n",
      "\n",
      "class EnergyLevelDiagram(ion_name, energy_levels)\n",
      "class EnergyLevelDiagramArrow(ion_name, energy_levels, ED_transitions, MD_transitions)\n",
      "\n",
      "Successfully import:\n",
      "\n",
      "ED_cal(energy_dict, omega, RME_square, n)\n",
      "MD_cal(energy_dict, n)\n",
      "MPR_cal(energy_dict, W0, alpha, phonon)\n",
      "\n"
     ]
    }
   ],
   "source": [
    "from Tm_inf import *\n",
    "from Tm_Energy import *\n",
    "from Tm_EnergyLevelDiagram import *\n",
    "from Tm_RateCalculation import *\n",
    "from Tm_adjustable_parameter import *"
   ]
  },
  {
   "cell_type": "markdown",
   "metadata": {},
   "source": [
    "## 1. Input materials parameters"
   ]
  },
  {
   "cell_type": "markdown",
   "metadata": {},
   "source": [
    "### Have a check"
   ]
  },
  {
   "cell_type": "code",
   "execution_count": 2,
   "metadata": {},
   "outputs": [
    {
     "name": "stdout",
     "output_type": "stream",
     "text": [
      "12 66\n"
     ]
    }
   ],
   "source": [
    "print(len(Tm_energy), len(Tm_RME))"
   ]
  },
  {
   "cell_type": "markdown",
   "metadata": {},
   "source": [
    "## 2. Merge all rates together"
   ]
  },
  {
   "cell_type": "code",
   "execution_count": 3,
   "metadata": {},
   "outputs": [],
   "source": [
    "# manually input for Yb\n",
    "tag_Yb = {'c0':7e-39, # Yb-Yb resonant energy transfer\n",
    "          'Ws': 834,} # Yb ED+MD\n",
    "\n",
    "\n",
    "tag_Tm_ED = ED_cal(Tm_energy, Tm_omega, Tm_RME, n)\n",
    "tag_Tm_MD = MD_cal(Tm_energy, n)\n",
    "tag_Tm_mpr = MPR_cal(Tm_energy, W0, alpha, E_phonon)\n",
    "tag_default = tag_Tm_ED\n",
    "\n",
    "\n",
    "for key in tag_Yb:\n",
    "    tag_default[key] = tag_Yb[key]\n",
    "\n",
    "# MD+ED\n",
    "for key in tag_Tm_MD:\n",
    "    tag_default[key] = tag_default[key] + tag_Tm_MD[key]\n",
    "\n",
    "# MD+ED+MPR\n",
    "for key in tag_Tm_mpr:\n",
    "    tag_default[key] = tag_default[key] + tag_Tm_mpr[key]\n",
    "\n",
    "\n",
    "# tag_default\n"
   ]
  },
  {
   "cell_type": "code",
   "execution_count": 4,
   "metadata": {},
   "outputs": [
    {
     "data": {
      "text/plain": [
       "68"
      ]
     },
     "execution_count": 4,
     "metadata": {},
     "output_type": "execute_result"
    }
   ],
   "source": [
    "len(tag_default)"
   ]
  },
  {
   "cell_type": "markdown",
   "metadata": {},
   "source": [
    "# Progress file"
   ]
  },
  {
   "cell_type": "code",
   "execution_count": 5,
   "metadata": {},
   "outputs": [],
   "source": [
    "import os\n",
    "import pickle\n",
    "from datetime import datetime\n",
    "from time import sleep\n",
    "\n",
    "\n",
    "# load or initialize progress\n",
    "def load_or_initialize_progress(file_path):\n",
    "    if os.path.exists(file_path):\n",
    "        with open(file_path, 'rb') as f:\n",
    "            return pickle.load(f)\n",
    "    else:\n",
    "        return {}\n",
    "\n",
    "# save progress\n",
    "def save_progress(file_path, data):\n",
    "    with open(file_path, 'wb') as f:\n",
    "        pickle.dump(data, f)\n",
    "\n",
    "progress_folder = 'Yuxuan_data_files'\n",
    "if not os.path.exists(progress_folder):\n",
    "    os.makedirs(progress_folder)\n",
    "\n",
    "# unique filename\n",
    "current_date = datetime.now().strftime('%m_%d_%Y')\n",
    "base_filename = f'Progress_{current_date}'\n",
    "index = 1\n",
    "progress_filepath = os.path.join(progress_folder, f'{base_filename}_{index}.ipynb')\n",
    "    \n",
    "while os.path.exists(progress_filepath):\n",
    "    index += 1\n",
    "    progress_filepath = os.path.join(progress_folder, f'{base_filename}_{index}.ipynb')\n",
    "\n",
    "\n",
    "# The first time to run the code, the folder 'Yuxuan_data_files' will have a new file: 'myC_progress.pkl'\n",
    "# if there is no at least one combination finished, there would be no 'myC_progress.pkl' in the directory\n",
    "# check the progress data if the program is interruptted\n",
    "\n",
    "\n",
    "\"\"\"\n",
    "file_path = 'Yuxuan_data_files/myC_progress.pkl'\n",
    "\n",
    "with open(file_path, 'rb') as file:\n",
    "    progress_data = pickle.load(file)\n",
    "\n",
    "for key, value in progress_data.items():\n",
    "    print(key, value)\n",
    "\"\"\"\n",
    "\n",
    "# Load or initialize progress data\n",
    "# if progress_file_path doesn't exist, then return a {}\n",
    "# if progress_file_path exists, then return a progress_data, which is an incomplete myC\n",
    "# after interruption, run code and the the progress bar will start from the next combination\n",
    "# after finish, the progress file is large: ~60M\n",
    "\n",
    "myC = load_or_initialize_progress(progress_filepath)\n"
   ]
  },
  {
   "cell_type": "markdown",
   "metadata": {},
   "source": [
    "# Instruction file"
   ]
  },
  {
   "cell_type": "code",
   "execution_count": 6,
   "metadata": {},
   "outputs": [
    {
     "name": "stdout",
     "output_type": "stream",
     "text": [
      "Instruction notebook has been successfully saved to 'Yuxuan_data_files\\Guide_10_02_2024_1.ipynb'\n",
      "\n"
     ]
    }
   ],
   "source": [
    "from Tm_insturction_file import *\n",
    "\n",
    "create_instruction_notebook('Yuxuan_data_files', 'SaturationCurves_Tm.py', 'OptimalPercentage_Tm.py', 'PopulationEvolution_Tm.py')\n"
   ]
  },
  {
   "cell_type": "markdown",
   "metadata": {},
   "source": [
    "# Execution"
   ]
  },
  {
   "cell_type": "code",
   "execution_count": 7,
   "metadata": {},
   "outputs": [
    {
     "name": "stdout",
     "output_type": "stream",
     "text": [
      "Running simulation for Tm concentration 0.04, power density 1000\n"
     ]
    },
    {
     "name": "stderr",
     "output_type": "stream",
     "text": [
      "100%|██████████| 3401/3401 [00:09<00:00, 371.87it/s]\n",
      "100%|██████████| 3401/3401 [00:09<00:00, 374.83it/s]\n",
      "100%|██████████| 3401/3401 [00:09<00:00, 373.45it/s]\n",
      "100%|██████████| 40000/40000 [05:09<00:00, 129.33it/s]\n",
      "100%|██████████| 20000/20000 [02:14<00:00, 148.88it/s]\n",
      "c:\\Users\\zhengyux\\AppData\\Local\\Programs\\Python\\Python312\\Lib\\site-packages\\numpy\\_core\\fromnumeric.py:3904: RuntimeWarning: Mean of empty slice.\n",
      "  return _methods._mean(a, axis=axis, dtype=dtype,\n",
      "c:\\Users\\zhengyux\\AppData\\Local\\Programs\\Python\\Python312\\Lib\\site-packages\\numpy\\_core\\_methods.py:147: RuntimeWarning: invalid value encountered in scalar divide\n",
      "  ret = ret.dtype.type(ret / rcount)\n"
     ]
    },
    {
     "name": "stdout",
     "output_type": "stream",
     "text": [
      "Running simulation for Tm concentration 0.04, power density 3000\n"
     ]
    },
    {
     "name": "stderr",
     "output_type": "stream",
     "text": [
      "100%|██████████| 3401/3401 [00:10<00:00, 324.66it/s]\n",
      "100%|██████████| 3401/3401 [00:10<00:00, 316.61it/s]\n",
      "100%|██████████| 3401/3401 [00:10<00:00, 312.82it/s]\n",
      "100%|██████████| 40000/40000 [11:32<00:00, 57.78it/s]\n",
      "100%|██████████| 20000/20000 [06:20<00:00, 52.51it/s]\n"
     ]
    },
    {
     "name": "stdout",
     "output_type": "stream",
     "text": [
      "Running simulation for Tm concentration 0.04, power density 10000\n"
     ]
    },
    {
     "name": "stderr",
     "output_type": "stream",
     "text": [
      "100%|██████████| 3401/3401 [00:13<00:00, 248.41it/s]\n",
      "100%|██████████| 3401/3401 [00:13<00:00, 248.41it/s]\n",
      "100%|██████████| 3401/3401 [00:13<00:00, 250.09it/s]\n",
      "100%|██████████| 40000/40000 [25:34<00:00, 26.07it/s]\n",
      "100%|██████████| 20000/20000 [14:16<00:00, 23.34it/s]\n"
     ]
    },
    {
     "name": "stdout",
     "output_type": "stream",
     "text": [
      "Running simulation for Tm concentration 0.04, power density 30000\n"
     ]
    },
    {
     "name": "stderr",
     "output_type": "stream",
     "text": [
      "100%|██████████| 3401/3401 [00:13<00:00, 253.00it/s]\n",
      "100%|██████████| 3401/3401 [00:13<00:00, 255.51it/s]\n",
      "100%|██████████| 3401/3401 [00:13<00:00, 256.41it/s]\n",
      "100%|██████████| 40000/40000 [36:49<00:00, 18.11it/s]\n",
      "100%|██████████| 20000/20000 [19:49<00:00, 16.82it/s]\n"
     ]
    },
    {
     "name": "stdout",
     "output_type": "stream",
     "text": [
      "Running simulation for Tm concentration 0.04, power density 100000\n"
     ]
    },
    {
     "name": "stderr",
     "output_type": "stream",
     "text": [
      "100%|██████████| 3401/3401 [00:13<00:00, 259.13it/s]\n",
      "100%|██████████| 3401/3401 [00:13<00:00, 257.06it/s]\n",
      "100%|██████████| 3401/3401 [00:13<00:00, 251.47it/s]\n",
      "100%|██████████| 40000/40000 [42:51<00:00, 15.56it/s]\n",
      "100%|██████████| 20000/20000 [22:29<00:00, 14.82it/s]\n"
     ]
    },
    {
     "name": "stdout",
     "output_type": "stream",
     "text": [
      "Running simulation for Tm concentration 0.04, power density 300000\n"
     ]
    },
    {
     "name": "stderr",
     "output_type": "stream",
     "text": [
      "100%|██████████| 3401/3401 [00:16<00:00, 204.64it/s]\n",
      "100%|██████████| 3401/3401 [00:15<00:00, 216.15it/s]\n",
      "100%|██████████| 3401/3401 [00:14<00:00, 229.27it/s]\n",
      "100%|██████████| 40000/40000 [43:59<00:00, 15.15it/s]\n",
      "100%|██████████| 20000/20000 [22:49<00:00, 14.61it/s]\n"
     ]
    },
    {
     "name": "stdout",
     "output_type": "stream",
     "text": [
      "Running simulation for Tm concentration 0.06, power density 1000\n"
     ]
    },
    {
     "name": "stderr",
     "output_type": "stream",
     "text": [
      "100%|██████████| 3401/3401 [00:13<00:00, 248.47it/s]\n",
      "100%|██████████| 3401/3401 [00:13<00:00, 253.06it/s]\n",
      "100%|██████████| 3401/3401 [00:13<00:00, 255.91it/s]\n",
      "100%|██████████| 40000/40000 [05:17<00:00, 125.91it/s]\n",
      "100%|██████████| 20000/20000 [02:43<00:00, 122.68it/s]\n"
     ]
    },
    {
     "name": "stdout",
     "output_type": "stream",
     "text": [
      "Running simulation for Tm concentration 0.06, power density 3000\n"
     ]
    },
    {
     "name": "stderr",
     "output_type": "stream",
     "text": [
      "100%|██████████| 3401/3401 [00:13<00:00, 257.28it/s]\n",
      "100%|██████████| 3401/3401 [00:13<00:00, 252.06it/s]\n",
      "100%|██████████| 3401/3401 [00:13<00:00, 261.00it/s]\n",
      "100%|██████████| 40000/40000 [09:15<00:00, 72.03it/s] \n",
      "100%|██████████| 20000/20000 [04:52<00:00, 68.28it/s]\n"
     ]
    },
    {
     "name": "stdout",
     "output_type": "stream",
     "text": [
      "Running simulation for Tm concentration 0.06, power density 10000\n"
     ]
    },
    {
     "name": "stderr",
     "output_type": "stream",
     "text": [
      "100%|██████████| 3401/3401 [00:13<00:00, 250.36it/s]\n",
      "100%|██████████| 3401/3401 [00:14<00:00, 242.82it/s]\n",
      "100%|██████████| 3401/3401 [00:13<00:00, 248.85it/s]\n",
      "100%|██████████| 40000/40000 [20:22<00:00, 32.71it/s]\n",
      "100%|██████████| 20000/20000 [10:44<00:00, 31.05it/s]\n"
     ]
    },
    {
     "name": "stdout",
     "output_type": "stream",
     "text": [
      "Running simulation for Tm concentration 0.06, power density 30000\n"
     ]
    },
    {
     "name": "stderr",
     "output_type": "stream",
     "text": [
      "100%|██████████| 3401/3401 [00:13<00:00, 250.15it/s]\n",
      "100%|██████████| 3401/3401 [00:13<00:00, 251.07it/s]\n",
      "100%|██████████| 3401/3401 [00:13<00:00, 255.03it/s]\n",
      "100%|██████████| 40000/40000 [31:54<00:00, 20.90it/s]\n",
      "100%|██████████| 20000/20000 [17:19<00:00, 19.24it/s]\n"
     ]
    },
    {
     "name": "stdout",
     "output_type": "stream",
     "text": [
      "Running simulation for Tm concentration 0.06, power density 100000\n"
     ]
    },
    {
     "name": "stderr",
     "output_type": "stream",
     "text": [
      "100%|██████████| 3401/3401 [00:13<00:00, 250.42it/s]\n",
      "100%|██████████| 3401/3401 [00:13<00:00, 254.88it/s]\n",
      "100%|██████████| 3401/3401 [00:13<00:00, 260.99it/s]\n",
      "100%|██████████| 40000/40000 [43:36<00:00, 15.29it/s]\n",
      "100%|██████████| 20000/20000 [22:56<00:00, 14.53it/s]\n"
     ]
    },
    {
     "name": "stdout",
     "output_type": "stream",
     "text": [
      "Running simulation for Tm concentration 0.06, power density 300000\n"
     ]
    },
    {
     "name": "stderr",
     "output_type": "stream",
     "text": [
      "100%|██████████| 3401/3401 [00:13<00:00, 251.34it/s]\n",
      "100%|██████████| 3401/3401 [00:13<00:00, 253.24it/s]\n",
      "100%|██████████| 3401/3401 [00:13<00:00, 254.55it/s]\n",
      "100%|██████████| 40000/40000 [45:57<00:00, 14.50it/s] \n",
      "100%|██████████| 20000/20000 [23:52<00:00, 13.96it/s]\n"
     ]
    },
    {
     "name": "stdout",
     "output_type": "stream",
     "text": [
      "Running simulation for Tm concentration 0.08, power density 1000\n"
     ]
    },
    {
     "name": "stderr",
     "output_type": "stream",
     "text": [
      "100%|██████████| 3401/3401 [00:13<00:00, 253.13it/s]\n",
      "100%|██████████| 3401/3401 [00:13<00:00, 249.27it/s]\n",
      "100%|██████████| 3401/3401 [00:13<00:00, 253.30it/s]\n",
      "100%|██████████| 40000/40000 [05:06<00:00, 130.35it/s]\n",
      "100%|██████████| 20000/20000 [02:40<00:00, 124.63it/s]\n"
     ]
    },
    {
     "name": "stdout",
     "output_type": "stream",
     "text": [
      "Running simulation for Tm concentration 0.08, power density 3000\n"
     ]
    },
    {
     "name": "stderr",
     "output_type": "stream",
     "text": [
      "100%|██████████| 3401/3401 [00:13<00:00, 255.62it/s]\n",
      "100%|██████████| 3401/3401 [00:13<00:00, 254.76it/s]\n",
      "100%|██████████| 3401/3401 [00:13<00:00, 261.37it/s]\n",
      "100%|██████████| 40000/40000 [08:06<00:00, 82.24it/s] \n",
      "100%|██████████| 20000/20000 [04:34<00:00, 72.77it/s] \n"
     ]
    },
    {
     "name": "stdout",
     "output_type": "stream",
     "text": [
      "Running simulation for Tm concentration 0.08, power density 10000\n"
     ]
    },
    {
     "name": "stderr",
     "output_type": "stream",
     "text": [
      "100%|██████████| 3401/3401 [00:20<00:00, 168.92it/s]\n",
      "100%|██████████| 3401/3401 [00:09<00:00, 348.81it/s]\n",
      "100%|██████████| 3401/3401 [00:09<00:00, 361.25it/s]\n",
      "100%|██████████| 40000/40000 [12:41<00:00, 52.52it/s]\n",
      "100%|██████████| 20000/20000 [07:01<00:00, 47.50it/s]\n"
     ]
    },
    {
     "name": "stdout",
     "output_type": "stream",
     "text": [
      "Running simulation for Tm concentration 0.08, power density 30000\n"
     ]
    },
    {
     "name": "stderr",
     "output_type": "stream",
     "text": [
      "100%|██████████| 3401/3401 [00:11<00:00, 308.25it/s]\n",
      "100%|██████████| 3401/3401 [00:11<00:00, 301.66it/s]\n",
      "100%|██████████| 3401/3401 [00:11<00:00, 308.91it/s]\n",
      "100%|██████████| 40000/40000 [30:56<00:00, 21.55it/s]\n",
      "100%|██████████| 20000/20000 [14:42<00:00, 22.67it/s]\n"
     ]
    },
    {
     "name": "stdout",
     "output_type": "stream",
     "text": [
      "Running simulation for Tm concentration 0.08, power density 100000\n"
     ]
    },
    {
     "name": "stderr",
     "output_type": "stream",
     "text": [
      "100%|██████████| 3401/3401 [00:25<00:00, 132.72it/s]\n",
      "100%|██████████| 3401/3401 [00:26<00:00, 128.20it/s]\n",
      "100%|██████████| 3401/3401 [00:25<00:00, 133.67it/s]\n",
      "100%|██████████| 40000/40000 [44:14<00:00, 15.07it/s] \n",
      "100%|██████████| 20000/20000 [22:03<00:00, 15.11it/s]\n"
     ]
    },
    {
     "name": "stdout",
     "output_type": "stream",
     "text": [
      "Running simulation for Tm concentration 0.08, power density 300000\n"
     ]
    },
    {
     "name": "stderr",
     "output_type": "stream",
     "text": [
      "100%|██████████| 3401/3401 [00:13<00:00, 253.49it/s]\n",
      "100%|██████████| 3401/3401 [00:13<00:00, 249.51it/s]\n",
      "100%|██████████| 3401/3401 [00:13<00:00, 255.01it/s]\n",
      "100%|██████████| 40000/40000 [48:41<00:00, 13.69it/s]\n",
      "100%|██████████| 20000/20000 [25:33<00:00, 13.04it/s]\n"
     ]
    },
    {
     "name": "stdout",
     "output_type": "stream",
     "text": [
      "Running simulation for Tm concentration 0.1, power density 1000\n"
     ]
    },
    {
     "name": "stderr",
     "output_type": "stream",
     "text": [
      "100%|██████████| 3401/3401 [00:13<00:00, 252.86it/s]\n",
      "100%|██████████| 3401/3401 [00:13<00:00, 245.58it/s]\n",
      "100%|██████████| 3401/3401 [00:13<00:00, 249.77it/s]\n",
      "100%|██████████| 40000/40000 [05:15<00:00, 126.65it/s]\n",
      "100%|██████████| 20000/20000 [02:45<00:00, 120.88it/s]\n"
     ]
    },
    {
     "name": "stdout",
     "output_type": "stream",
     "text": [
      "Running simulation for Tm concentration 0.1, power density 3000\n"
     ]
    },
    {
     "name": "stderr",
     "output_type": "stream",
     "text": [
      "100%|██████████| 3401/3401 [00:13<00:00, 247.31it/s]\n",
      "100%|██████████| 3401/3401 [00:13<00:00, 250.50it/s]\n",
      "100%|██████████| 3401/3401 [00:13<00:00, 251.83it/s]\n",
      "100%|██████████| 40000/40000 [07:47<00:00, 85.55it/s] \n",
      "100%|██████████| 20000/20000 [04:09<00:00, 80.11it/s]\n"
     ]
    },
    {
     "name": "stdout",
     "output_type": "stream",
     "text": [
      "Running simulation for Tm concentration 0.1, power density 10000\n"
     ]
    },
    {
     "name": "stderr",
     "output_type": "stream",
     "text": [
      "100%|██████████| 3401/3401 [00:13<00:00, 245.00it/s]\n",
      "100%|██████████| 3401/3401 [00:13<00:00, 249.41it/s]\n",
      "100%|██████████| 3401/3401 [00:13<00:00, 252.16it/s]\n",
      "100%|██████████| 40000/40000 [14:54<00:00, 44.70it/s]\n",
      "100%|██████████| 20000/20000 [07:58<00:00, 41.80it/s]\n"
     ]
    },
    {
     "name": "stdout",
     "output_type": "stream",
     "text": [
      "Running simulation for Tm concentration 0.1, power density 30000\n"
     ]
    },
    {
     "name": "stderr",
     "output_type": "stream",
     "text": [
      "100%|██████████| 3401/3401 [00:13<00:00, 251.07it/s]\n",
      "100%|██████████| 3401/3401 [00:13<00:00, 256.04it/s]\n",
      "100%|██████████| 3401/3401 [00:13<00:00, 252.48it/s]\n",
      "100%|██████████| 40000/40000 [26:34<00:00, 25.08it/s]\n",
      "100%|██████████| 20000/20000 [14:21<00:00, 23.21it/s]\n"
     ]
    },
    {
     "name": "stdout",
     "output_type": "stream",
     "text": [
      "Running simulation for Tm concentration 0.1, power density 100000\n"
     ]
    },
    {
     "name": "stderr",
     "output_type": "stream",
     "text": [
      "100%|██████████| 3401/3401 [00:13<00:00, 244.92it/s]\n",
      "100%|██████████| 3401/3401 [00:13<00:00, 247.68it/s]\n",
      "100%|██████████| 3401/3401 [00:13<00:00, 250.83it/s]\n",
      "100%|██████████| 40000/40000 [40:04<00:00, 16.64it/s]\n",
      "100%|██████████| 20000/20000 [19:05<00:00, 17.46it/s]\n"
     ]
    },
    {
     "name": "stdout",
     "output_type": "stream",
     "text": [
      "Running simulation for Tm concentration 0.1, power density 300000\n"
     ]
    },
    {
     "name": "stderr",
     "output_type": "stream",
     "text": [
      "100%|██████████| 3401/3401 [00:11<00:00, 304.07it/s]\n",
      "100%|██████████| 3401/3401 [00:11<00:00, 297.07it/s]\n",
      "100%|██████████| 3401/3401 [00:11<00:00, 302.91it/s]\n",
      "100%|██████████| 40000/40000 [50:31<00:00, 13.20it/s]\n",
      "100%|██████████| 20000/20000 [43:17<00:00,  7.70it/s]\n"
     ]
    },
    {
     "name": "stdout",
     "output_type": "stream",
     "text": [
      "Running simulation for Tm concentration 0.12, power density 1000\n"
     ]
    },
    {
     "name": "stderr",
     "output_type": "stream",
     "text": [
      "100%|██████████| 3401/3401 [00:09<00:00, 348.08it/s]\n",
      "100%|██████████| 3401/3401 [00:11<00:00, 300.44it/s]\n",
      "100%|██████████| 3401/3401 [00:10<00:00, 317.98it/s]\n",
      "100%|██████████| 40000/40000 [04:22<00:00, 152.21it/s]\n",
      "100%|██████████| 20000/20000 [02:15<00:00, 147.99it/s]\n"
     ]
    },
    {
     "name": "stdout",
     "output_type": "stream",
     "text": [
      "Running simulation for Tm concentration 0.12, power density 3000\n"
     ]
    },
    {
     "name": "stderr",
     "output_type": "stream",
     "text": [
      "100%|██████████| 3401/3401 [00:11<00:00, 289.95it/s]\n",
      "100%|██████████| 3401/3401 [00:10<00:00, 311.11it/s]\n",
      "100%|██████████| 3401/3401 [00:10<00:00, 316.11it/s]\n",
      "100%|██████████| 40000/40000 [06:35<00:00, 101.23it/s]\n",
      "100%|██████████| 20000/20000 [03:40<00:00, 90.73it/s] \n"
     ]
    },
    {
     "name": "stdout",
     "output_type": "stream",
     "text": [
      "Running simulation for Tm concentration 0.12, power density 10000\n"
     ]
    },
    {
     "name": "stderr",
     "output_type": "stream",
     "text": [
      "100%|██████████| 3401/3401 [00:12<00:00, 266.15it/s]\n",
      "100%|██████████| 3401/3401 [00:12<00:00, 264.57it/s]\n",
      "100%|██████████| 3401/3401 [00:12<00:00, 275.24it/s]\n",
      "100%|██████████| 40000/40000 [12:07<00:00, 54.98it/s]\n",
      "100%|██████████| 20000/20000 [06:35<00:00, 50.53it/s]\n"
     ]
    },
    {
     "name": "stdout",
     "output_type": "stream",
     "text": [
      "Running simulation for Tm concentration 0.12, power density 30000\n"
     ]
    },
    {
     "name": "stderr",
     "output_type": "stream",
     "text": [
      "100%|██████████| 3401/3401 [00:11<00:00, 286.07it/s]\n",
      "100%|██████████| 3401/3401 [00:12<00:00, 276.19it/s]\n",
      "100%|██████████| 3401/3401 [00:12<00:00, 275.13it/s]\n",
      "100%|██████████| 40000/40000 [21:52<00:00, 30.47it/s]\n",
      "100%|██████████| 20000/20000 [11:44<00:00, 28.41it/s]\n"
     ]
    },
    {
     "name": "stdout",
     "output_type": "stream",
     "text": [
      "Running simulation for Tm concentration 0.12, power density 100000\n"
     ]
    },
    {
     "name": "stderr",
     "output_type": "stream",
     "text": [
      "100%|██████████| 3401/3401 [00:11<00:00, 283.96it/s]\n",
      "100%|██████████| 3401/3401 [00:12<00:00, 275.62it/s]\n",
      "100%|██████████| 3401/3401 [00:12<00:00, 280.73it/s]\n",
      "100%|██████████| 40000/40000 [37:08<00:00, 17.95it/s]\n",
      "100%|██████████| 20000/20000 [23:10<00:00, 14.38it/s]\n"
     ]
    },
    {
     "name": "stdout",
     "output_type": "stream",
     "text": [
      "Running simulation for Tm concentration 0.12, power density 300000\n"
     ]
    },
    {
     "name": "stderr",
     "output_type": "stream",
     "text": [
      "100%|██████████| 3401/3401 [00:14<00:00, 232.95it/s]\n",
      "100%|██████████| 3401/3401 [00:15<00:00, 225.09it/s]\n",
      "100%|██████████| 3401/3401 [00:14<00:00, 232.84it/s]\n",
      "100%|██████████| 40000/40000 [53:07<00:00, 12.55it/s] \n",
      "100%|██████████| 20000/20000 [25:17<00:00, 13.18it/s]\n"
     ]
    },
    {
     "name": "stdout",
     "output_type": "stream",
     "text": [
      "Running simulation for Tm concentration 0.15, power density 1000\n"
     ]
    },
    {
     "name": "stderr",
     "output_type": "stream",
     "text": [
      "100%|██████████| 3401/3401 [00:14<00:00, 229.85it/s]\n",
      "100%|██████████| 3401/3401 [00:15<00:00, 225.51it/s]\n",
      "100%|██████████| 3401/3401 [00:14<00:00, 227.26it/s]\n",
      "100%|██████████| 40000/40000 [05:49<00:00, 114.35it/s]\n",
      "100%|██████████| 20000/20000 [03:06<00:00, 107.44it/s]\n"
     ]
    },
    {
     "name": "stdout",
     "output_type": "stream",
     "text": [
      "Running simulation for Tm concentration 0.15, power density 3000\n"
     ]
    },
    {
     "name": "stderr",
     "output_type": "stream",
     "text": [
      "100%|██████████| 3401/3401 [00:14<00:00, 235.80it/s]\n",
      "100%|██████████| 3401/3401 [00:15<00:00, 222.75it/s]\n",
      "100%|██████████| 3401/3401 [00:14<00:00, 226.84it/s]\n",
      "100%|██████████| 40000/40000 [08:33<00:00, 77.85it/s]\n",
      "100%|██████████| 20000/20000 [04:25<00:00, 75.22it/s]\n"
     ]
    },
    {
     "name": "stdout",
     "output_type": "stream",
     "text": [
      "Running simulation for Tm concentration 0.15, power density 10000\n"
     ]
    },
    {
     "name": "stderr",
     "output_type": "stream",
     "text": [
      "100%|██████████| 3401/3401 [00:14<00:00, 232.60it/s]\n",
      "100%|██████████| 3401/3401 [00:14<00:00, 228.17it/s]\n",
      "100%|██████████| 3401/3401 [00:14<00:00, 228.09it/s]\n",
      "100%|██████████| 40000/40000 [14:21<00:00, 46.46it/s]\n",
      "100%|██████████| 20000/20000 [07:54<00:00, 42.18it/s]\n"
     ]
    },
    {
     "name": "stdout",
     "output_type": "stream",
     "text": [
      "Running simulation for Tm concentration 0.15, power density 30000\n"
     ]
    },
    {
     "name": "stderr",
     "output_type": "stream",
     "text": [
      "100%|██████████| 3401/3401 [00:14<00:00, 230.79it/s]\n",
      "100%|██████████| 3401/3401 [00:14<00:00, 228.08it/s]\n",
      "100%|██████████| 3401/3401 [00:15<00:00, 219.75it/s]\n",
      "100%|██████████| 40000/40000 [25:25<00:00, 26.21it/s]\n",
      "100%|██████████| 20000/20000 [13:06<00:00, 25.42it/s]\n"
     ]
    },
    {
     "name": "stdout",
     "output_type": "stream",
     "text": [
      "Running simulation for Tm concentration 0.15, power density 100000\n"
     ]
    },
    {
     "name": "stderr",
     "output_type": "stream",
     "text": [
      "100%|██████████| 3401/3401 [00:14<00:00, 231.75it/s]\n",
      "100%|██████████| 3401/3401 [00:15<00:00, 222.63it/s]\n",
      "100%|██████████| 3401/3401 [00:14<00:00, 233.02it/s]\n",
      "100%|██████████| 40000/40000 [41:06<00:00, 16.22it/s]\n",
      "100%|██████████| 20000/20000 [25:33<00:00, 13.04it/s]   \n"
     ]
    },
    {
     "name": "stdout",
     "output_type": "stream",
     "text": [
      "Running simulation for Tm concentration 0.15, power density 300000\n"
     ]
    },
    {
     "name": "stderr",
     "output_type": "stream",
     "text": [
      "100%|██████████| 3401/3401 [00:09<00:00, 348.23it/s]\n",
      "100%|██████████| 3401/3401 [00:09<00:00, 348.10it/s]\n",
      "100%|██████████| 3401/3401 [00:09<00:00, 353.43it/s]\n",
      "100%|██████████| 40000/40000 [51:14<00:00, 13.01it/s]  \n",
      "100%|██████████| 20000/20000 [28:21<00:00, 11.75it/s]\n"
     ]
    },
    {
     "name": "stdout",
     "output_type": "stream",
     "text": [
      "Running simulation for Tm concentration 0.2, power density 1000\n"
     ]
    },
    {
     "name": "stderr",
     "output_type": "stream",
     "text": [
      "100%|██████████| 3401/3401 [00:14<00:00, 241.95it/s]\n",
      "100%|██████████| 3401/3401 [00:14<00:00, 233.08it/s]\n",
      "100%|██████████| 3401/3401 [00:14<00:00, 235.50it/s]\n",
      "100%|██████████| 40000/40000 [05:57<00:00, 111.96it/s]\n",
      "100%|██████████| 20000/20000 [03:15<00:00, 102.23it/s]\n"
     ]
    },
    {
     "name": "stdout",
     "output_type": "stream",
     "text": [
      "Running simulation for Tm concentration 0.2, power density 3000\n"
     ]
    },
    {
     "name": "stderr",
     "output_type": "stream",
     "text": [
      "100%|██████████| 3401/3401 [00:14<00:00, 237.10it/s]\n",
      "100%|██████████| 3401/3401 [00:14<00:00, 231.62it/s]\n",
      "100%|██████████| 3401/3401 [00:14<00:00, 234.93it/s]\n",
      "100%|██████████| 40000/40000 [08:45<00:00, 76.17it/s]\n",
      "100%|██████████| 20000/20000 [04:47<00:00, 69.63it/s]\n"
     ]
    },
    {
     "name": "stdout",
     "output_type": "stream",
     "text": [
      "Running simulation for Tm concentration 0.2, power density 10000\n"
     ]
    },
    {
     "name": "stderr",
     "output_type": "stream",
     "text": [
      "100%|██████████| 3401/3401 [00:14<00:00, 236.77it/s]\n",
      "100%|██████████| 3401/3401 [00:14<00:00, 228.97it/s]\n",
      "100%|██████████| 3401/3401 [00:14<00:00, 235.85it/s]\n",
      "100%|██████████| 40000/40000 [14:33<00:00, 45.80it/s]\n",
      "100%|██████████| 20000/20000 [08:02<00:00, 41.47it/s]\n"
     ]
    },
    {
     "name": "stdout",
     "output_type": "stream",
     "text": [
      "Running simulation for Tm concentration 0.2, power density 30000\n"
     ]
    },
    {
     "name": "stderr",
     "output_type": "stream",
     "text": [
      "100%|██████████| 3401/3401 [00:14<00:00, 236.72it/s]\n",
      "100%|██████████| 3401/3401 [00:14<00:00, 229.40it/s]\n",
      "100%|██████████| 3401/3401 [00:14<00:00, 231.18it/s]\n",
      "100%|██████████| 40000/40000 [24:34<00:00, 27.12it/s]\n",
      "100%|██████████| 20000/20000 [13:13<00:00, 25.21it/s]\n"
     ]
    },
    {
     "name": "stdout",
     "output_type": "stream",
     "text": [
      "Running simulation for Tm concentration 0.2, power density 100000\n"
     ]
    },
    {
     "name": "stderr",
     "output_type": "stream",
     "text": [
      "100%|██████████| 3401/3401 [00:14<00:00, 237.50it/s]\n",
      "100%|██████████| 3401/3401 [00:14<00:00, 228.16it/s]\n",
      "100%|██████████| 3401/3401 [00:14<00:00, 233.76it/s]\n",
      "100%|██████████| 40000/40000 [40:28<00:00, 16.47it/s]\n",
      "100%|██████████| 20000/20000 [21:26<00:00, 15.54it/s]\n"
     ]
    },
    {
     "name": "stdout",
     "output_type": "stream",
     "text": [
      "Running simulation for Tm concentration 0.2, power density 300000\n"
     ]
    },
    {
     "name": "stderr",
     "output_type": "stream",
     "text": [
      "100%|██████████| 3401/3401 [00:14<00:00, 237.82it/s]\n",
      "100%|██████████| 3401/3401 [00:14<00:00, 231.85it/s]\n",
      "100%|██████████| 3401/3401 [00:14<00:00, 233.43it/s]\n",
      "100%|██████████| 40000/40000 [56:08<00:00, 11.88it/s]  \n",
      "100%|██████████| 20000/20000 [29:53<00:00, 11.15it/s]\n"
     ]
    },
    {
     "name": "stdout",
     "output_type": "stream",
     "text": [
      "\n",
      "All progress have been finished.\n"
     ]
    }
   ],
   "source": [
    "from utils import *\n",
    "from Point_Tm import Point\n",
    "from Lattice_Tm import Lattice\n",
    "from EnergyTransfer_Tm import *\n",
    "from Simulator_Tm import Simulator\n",
    "\n",
    "# [1, 5, 10, 20, 40, 80, 100, 200, 400, 800, 1000, 2000, 5000, 10000, 20000, 50000, 100000, 200000, 500000, 1000000, 2000000, 5000000, 10000000]\n",
    "\n",
    "# [0.02, 0.04, 0.08, 0.16], Yb = 0.2\n",
    "# [1, 5, 10, 20, 40, 80, 100, 200, 400, 800, 1000, 2000, 5000, 10000, 20000, 50000, 100000, 200000, 500000, 1000000, 2000000, 5000000, 10000000]\n",
    "\n",
    "\n",
    "# Er_conc=[0.02, 0.04, 0.06, 0.08, 0.1, 0.12, 0.15, 0.2, 0.25, 0.3, 0.35, 0.4, 0.45, 0.5, 0.55, 0.6]\n",
    "# Er_conc=[0.02, 0.04, 0.06, 0.08, 0.1, 0.12, 0.15, 0.2, 0.25, 0.3, 0.35, 0.4, 0.45, 0.5, 0.55, 0.6, 0.65, 0.7, 0.75, 0.8]\n",
    "# Er_conc=[0.02, 0.04, 0.06, 0.08, 0.1, 0.12, 0.15, 0.2, 0.25, 0.3, 0.35, 0.4, 0.45, 0.5]\n",
    "# Er_conc=[0.04, 0.06, 0.08, 0.1, 0.12, 0.15, 0.2]\n",
    "# Yb_conc=0.2\n",
    "# power_density =  [10, 20, 40, 80, 1*10**2, 2*10**2, 4*10**2, 8*10**2, 1*10**3, 2*10**3, 4*10**3, 8*10**3, 1*10**4, 2*10**4, 4*10**4, 8*10**4, 1*10**5, 2*10**5, 4*10**5, 8*10**5, 1*10**6, 2*10**6, 4*10**6, 8*10**6, 1*10**7]\n",
    "# power_density =  [1*10**3, 3*10**3, 1*10**4, 3*10**4, 1*10**5, 3*10**5]\n",
    "\n",
    "\n",
    "# nanoparticle diameter: 8 nm, critical distance: 1 nm\n",
    "# d=8\n",
    "# shell=0\n",
    "# r0=1\n",
    "Tm_conc = [0.04, 0.06, 0.08, 0.1, 0.12, 0.15, 0.2]\n",
    "power_density = [1*10**3, 3*10**3, 1*10**4, 3*10**4, 1*10**5, 3*10**5]\n",
    "\n",
    "\n",
    "dt = 10 ** (-7)\n",
    "t1 = 40000\n",
    "t2 = 60000\n",
    "\n",
    "# Simulate and track progress\n",
    "\n",
    "for i, c in enumerate(Tm_conc):\n",
    "\n",
    "    if c not in myC:\n",
    "        myC[c] = {}\n",
    "\n",
    "    for p in power_density:\n",
    "        if p not in myC[c]:\n",
    "            print(f\"Running simulation for Tm concentration {c}, power density {p}\")\n",
    "\n",
    "            # sigma from MC paper, SI \n",
    "            tag_default['laser'] = 0.058 * p\n",
    "            tag_default['laser_tm'] = 0.0084 * p \n",
    "            \n",
    "            my_lattice = Lattice(1-c, c, d, r0)  # shell\n",
    "            my_simulator = Simulator(my_lattice, tag=tag_default, dt = dt)\n",
    "            result = my_simulator.simulate(t1, t2)  # r is a dictionary from 'sim_stats'\n",
    "\n",
    "            # Store result and save progress\n",
    "            myC[c][p] = result\n",
    "            # store the current progress to the filepath\n",
    "            save_progress(progress_filepath, myC)\n",
    "\n",
    "            # Simulate time delay to represent real simulation time\n",
    "            sleep(1)\n",
    "\n",
    "print('\\nAll progress have been finished.')\n"
   ]
  },
  {
   "cell_type": "markdown",
   "metadata": {},
   "source": [
    "# Save all data from progress file"
   ]
  },
  {
   "cell_type": "code",
   "execution_count": 10,
   "metadata": {},
   "outputs": [],
   "source": [
    "# use pickle module to save the results as a pickle file and reload them later\n",
    "# The / character cannot be used in file names because it is reserved as a directory separator, replace / with underscores _ or using another safe delimiter.\n",
    "\n",
    "\n",
    "import pickle\n",
    "from datetime import datetime\n",
    "import os\n",
    "import plotly.graph_objects as go\n",
    "import nbformat as nbf\n",
    "\n",
    "\n",
    "class PickleSaver:\n",
    "\n",
    "    def __init__(self, base_name='Mydata', folder='Chuanyu_data_files'):\n",
    "     \n",
    "        self.base_name = base_name\n",
    "        self.folder = folder\n",
    "\n",
    "\n",
    "        if not os.path.exists(self.folder):\n",
    "            os.makedirs(self.folder)\n",
    "\n",
    "    def save_data(self, data):\n",
    "      \n",
    "\n",
    "        current_date = datetime.now().strftime('%m_%d_%Y')\n",
    "        base_filename = f'{self.base_name}_{current_date}'\n",
    "        \n",
    "        index = 1\n",
    "        filename = os.path.join(self.folder, f'{base_filename}_{index}.pkl')\n",
    "        while os.path.exists(filename):\n",
    "            index += 1\n",
    "            filename = os.path.join(self.folder, f'{base_filename}_{index}.pkl')\n",
    "\n",
    "\n",
    "        with open(filename, 'wb') as f:\n",
    "            pickle.dump(data, f)\n",
    "\n",
    "        print(f\"Data has been successfully saved to '{filename}'\")\n",
    "        print()\n",
    "\n",
    "\n",
    "    def load_all_data(self):\n",
    "        \n",
    "        if not os.path.exists(self.folder):\n",
    "            print(f\"Folder '{self.folder}' does not exist.\")\n",
    "            return {}\n",
    "\n",
    "        files = [f for f in os.listdir(self.folder) if f.endswith('.pkl')]\n",
    "        all_data = {}\n",
    "\n",
    "        for file in sorted(files):\n",
    "            filepath = os.path.join(self.folder, file)\n",
    "            with open(filepath, 'rb') as f:\n",
    "                data = pickle.load(f)\n",
    "                all_data[file] = data\n",
    "\n",
    "        print(f'Filename = {file}')\n",
    "\n",
    "        KEY1=[]\n",
    "        KEY2=[]\n",
    "\n",
    "        for key1, value1 in data.items():\n",
    "            KEY1.append(key1)\n",
    "        print(f'\\nAll percentages = {KEY1}')\n",
    "\n",
    "        for key1, value1 in data.items():\n",
    "            for key2, value2 in value1.items():\n",
    "                KEY2.append(key2)\n",
    "            break\n",
    "        print(f'\\nFor each percentage, all power densities = {KEY2}')\n",
    "\n",
    "        # use a set to keep track of unique third keys\n",
    "        unique_third_keys = set()\n",
    "\n",
    "        print('\\nFor each combination of Percentage+Power density, the accessible data: ')\n",
    "        print()\n",
    "        for key1, value1 in data.items():\n",
    "            for key2, value2 in value1.items():\n",
    "                for key3 in value2.keys():\n",
    "                    if key3 not in unique_third_keys:\n",
    "                        unique_third_keys.add(key3)\n",
    "                        print(f'key3 = {key3}, value3 = {value2[key3]}')\n"
   ]
  },
  {
   "cell_type": "code",
   "execution_count": 11,
   "metadata": {},
   "outputs": [
    {
     "name": "stdout",
     "output_type": "stream",
     "text": [
      "Data has been successfully saved to 'Yuxuan_data_files\\myC_10_03_2024_1.pkl'\n",
      "\n"
     ]
    }
   ],
   "source": [
    "# after all the progress are finished\n",
    "# The first time to run the code, the folder 'Yuxuan_data_files' will have a new file: 'myC_05_06_2024_1.pkl', which store all data\n",
    "# The second time to run the code, the folder 'Yuxuan_data_files' will have a new file: 'myC_05_06_2024_2.pkl', which store all data\n",
    "\n",
    "# from Tm_save_file import *\n",
    "\n",
    "saver = PickleSaver(base_name='myC', folder='Yuxuan_data_files')\n",
    "saver.save_data(myC)\n",
    "\n",
    "# # then, call the method with myC, to see the data structure\n",
    "# data_structure = saver.load_all_data()"
   ]
  },
  {
   "cell_type": "markdown",
   "metadata": {},
   "source": [
    "---\n",
    "### If you want to run the code again, firstly make sure you have run the code above to store the data:\n",
    "\n",
    "'''\n",
    "saver = PickleSaver(base_name='myC', folder='Chuanyu_data_files')\n",
    "saver.save_data(myC)b\n",
    "all_save_data = saver.load_all_data()\n",
    "'''\n",
    "#### In the same directory, there would be a new file: myC_05_08_2024_1, which save all data from this simulation\n",
    "#### Then you can detele the progress file and to run the code\n",
    "---"
   ]
  },
  {
   "cell_type": "code",
   "execution_count": null,
   "metadata": {},
   "outputs": [],
   "source": []
  }
 ],
 "metadata": {
  "kernelspec": {
   "display_name": "base",
   "language": "python",
   "name": "python3"
  },
  "language_info": {
   "codemirror_mode": {
    "name": "ipython",
    "version": 3
   },
   "file_extension": ".py",
   "mimetype": "text/x-python",
   "name": "python",
   "nbconvert_exporter": "python",
   "pygments_lexer": "ipython3",
   "version": "3.12.6"
  },
  "orig_nbformat": 4
 },
 "nbformat": 4,
 "nbformat_minor": 2
}
