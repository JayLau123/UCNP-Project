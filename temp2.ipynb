{
 "cells": [
  {
   "cell_type": "code",
   "execution_count": 5,
   "metadata": {},
   "outputs": [],
   "source": [
    "from point import Point\n",
    "from lattice import Lattice\n",
    "from simulator import Simulator\n",
    "from utils import *\n",
    "from EnergyTransfer import *\n",
    "import plotly.graph_objects as go\n",
    "import numpy as np"
   ]
  },
  {
   "cell_type": "code",
   "execution_count": 6,
   "metadata": {},
   "outputs": [
    {
     "name": "stderr",
     "output_type": "stream",
     "text": [
      "100%|██████████| 45/45 [00:00<?, ?it/s]\n"
     ]
    }
   ],
   "source": [
    "conc = 0.15\n",
    "lattice = Lattice(1-conc, conc, 2, 1)"
   ]
  },
  {
   "cell_type": "code",
   "execution_count": 24,
   "metadata": {},
   "outputs": [
    {
     "data": {
      "application/vnd.plotly.v1+json": {
       "config": {
        "plotlyServerURL": "https://plot.ly"
       },
       "data": [
        {
         "marker": {
          "color": "blue",
          "opacity": 0.8,
          "size": 6
         },
         "mode": "markers+text",
         "name": "Yb",
         "text": [
          "0",
          "0",
          "0",
          "0",
          "0",
          "0",
          "0",
          "0",
          "1",
          "0",
          "0",
          "0",
          "0",
          "0",
          "0",
          "0",
          "0",
          "1",
          "0",
          "0",
          "0",
          "1",
          "1",
          "0",
          "0",
          "1",
          "0",
          "1",
          "1",
          "0",
          "1",
          "0",
          "1",
          "0",
          "0",
          "0",
          "0",
          "0",
          "0"
         ],
         "textposition": "top center",
         "type": "scatter3d",
         "x": [
          -0.5960000000000001,
          -0.5960000000000001,
          -0.29800000000000004,
          -0.29800000000000004,
          -0.29800000000000004,
          -0.29800000000000004,
          -5.551115123125783e-17,
          -5.551115123125783e-17,
          -2.7755575615628914e-17,
          -2.7755575615628914e-17,
          -2.7755575615628914e-17,
          -2.7755575615628914e-17,
          -2.7755575615628914e-17,
          0.298,
          0.298,
          0.298,
          0.596,
          0.596,
          0.596,
          0.8939999999999999,
          -0.8939999999999999,
          -0.596,
          -0.596,
          -0.596,
          -0.596,
          -0.298,
          -0.298,
          -0.298,
          2.7755575615628914e-17,
          2.7755575615628914e-17,
          2.7755575615628914e-17,
          5.551115123125783e-17,
          5.551115123125783e-17,
          0.29800000000000004,
          0.29800000000000004,
          0.29800000000000004,
          0.29800000000000004,
          0.29800000000000004,
          0.5960000000000001
         ],
         "y": [
          -0.34410076043701693,
          -0.34410076043701693,
          0.17205038021850844,
          0.17205038021850844,
          0.17205038021850844,
          0.17205038021850844,
          0.6882015208740337,
          0.6882015208740337,
          -0.34410076043701693,
          -0.34410076043701693,
          -0.34410076043701693,
          -0.34410076043701693,
          -0.34410076043701693,
          0.17205038021850844,
          0.17205038021850844,
          0.17205038021850844,
          0.6882015208740337,
          -0.34410076043701693,
          -0.34410076043701693,
          0.17205038021850844,
          -0.17205038021850844,
          0.34410076043701693,
          0.34410076043701693,
          0.34410076043701693,
          -0.6882015208740337,
          -0.17205038021850844,
          -0.17205038021850844,
          -0.17205038021850844,
          0.34410076043701693,
          0.34410076043701693,
          0.34410076043701693,
          -0.6882015208740337,
          -0.6882015208740337,
          -0.17205038021850844,
          -0.17205038021850844,
          -0.17205038021850844,
          -0.17205038021850844,
          -0.17205038021850844,
          0.34410076043701693
         ],
         "z": [
          -0.1765,
          0.5295,
          -0.5295,
          -0.1765,
          0.1765,
          0.5295,
          -0.5295,
          0.1765,
          -0.5295,
          -0.1765,
          0.1765,
          0.5295,
          0.8825,
          -0.1765,
          0.1765,
          0.8825,
          0.1765,
          -0.1765,
          0.1765,
          -0.1765,
          0.1765,
          -0.1765,
          0.1765,
          0.5295,
          -0.1765,
          -0.1765,
          0.1765,
          0.8825,
          -0.5295,
          0.1765,
          0.5295,
          0.1765,
          0.5295,
          -0.5295,
          -0.1765,
          0.1765,
          0.5295,
          0.8825,
          -0.5295
         ]
        },
        {
         "marker": {
          "color": "pink",
          "opacity": 0.8,
          "size": 6
         },
         "mode": "markers+text",
         "name": "Er",
         "text": [
          "0",
          "0",
          "0",
          "0",
          "0",
          "0"
         ],
         "textposition": "top center",
         "type": "scatter3d",
         "x": [
          -0.29800000000000004,
          0.298,
          0.8939999999999999,
          -0.596,
          -0.596,
          2.7755575615628914e-17
         ],
         "y": [
          0.17205038021850844,
          0.17205038021850844,
          0.17205038021850844,
          0.34410076043701693,
          -0.6882015208740337,
          0.34410076043701693
         ],
         "z": [
          0.8825,
          -0.5295,
          0.1765,
          -0.5295,
          0.1765,
          -0.1765
         ]
        },
        {
         "marker": {
          "color": "red",
          "size": 10
         },
         "mode": "markers",
         "name": "Highlighted Point",
         "type": "scatter3d",
         "x": [
          -0.298
         ],
         "y": [
          -0.17205038021850844
         ],
         "z": [
          -0.1765
         ]
        }
       ],
       "layout": {
        "legend": {
         "title": {
          "text": "Legend"
         }
        },
        "margin": {
         "b": 0,
         "l": 0,
         "r": 0,
         "t": 0
        },
        "scene": {
         "camera": {
          "projection": {
           "type": "orthographic"
          }
         }
        },
        "template": {
         "data": {
          "bar": [
           {
            "error_x": {
             "color": "#2a3f5f"
            },
            "error_y": {
             "color": "#2a3f5f"
            },
            "marker": {
             "line": {
              "color": "#E5ECF6",
              "width": 0.5
             },
             "pattern": {
              "fillmode": "overlay",
              "size": 10,
              "solidity": 0.2
             }
            },
            "type": "bar"
           }
          ],
          "barpolar": [
           {
            "marker": {
             "line": {
              "color": "#E5ECF6",
              "width": 0.5
             },
             "pattern": {
              "fillmode": "overlay",
              "size": 10,
              "solidity": 0.2
             }
            },
            "type": "barpolar"
           }
          ],
          "carpet": [
           {
            "aaxis": {
             "endlinecolor": "#2a3f5f",
             "gridcolor": "white",
             "linecolor": "white",
             "minorgridcolor": "white",
             "startlinecolor": "#2a3f5f"
            },
            "baxis": {
             "endlinecolor": "#2a3f5f",
             "gridcolor": "white",
             "linecolor": "white",
             "minorgridcolor": "white",
             "startlinecolor": "#2a3f5f"
            },
            "type": "carpet"
           }
          ],
          "choropleth": [
           {
            "colorbar": {
             "outlinewidth": 0,
             "ticks": ""
            },
            "type": "choropleth"
           }
          ],
          "contour": [
           {
            "colorbar": {
             "outlinewidth": 0,
             "ticks": ""
            },
            "colorscale": [
             [
              0,
              "#0d0887"
             ],
             [
              0.1111111111111111,
              "#46039f"
             ],
             [
              0.2222222222222222,
              "#7201a8"
             ],
             [
              0.3333333333333333,
              "#9c179e"
             ],
             [
              0.4444444444444444,
              "#bd3786"
             ],
             [
              0.5555555555555556,
              "#d8576b"
             ],
             [
              0.6666666666666666,
              "#ed7953"
             ],
             [
              0.7777777777777778,
              "#fb9f3a"
             ],
             [
              0.8888888888888888,
              "#fdca26"
             ],
             [
              1,
              "#f0f921"
             ]
            ],
            "type": "contour"
           }
          ],
          "contourcarpet": [
           {
            "colorbar": {
             "outlinewidth": 0,
             "ticks": ""
            },
            "type": "contourcarpet"
           }
          ],
          "heatmap": [
           {
            "colorbar": {
             "outlinewidth": 0,
             "ticks": ""
            },
            "colorscale": [
             [
              0,
              "#0d0887"
             ],
             [
              0.1111111111111111,
              "#46039f"
             ],
             [
              0.2222222222222222,
              "#7201a8"
             ],
             [
              0.3333333333333333,
              "#9c179e"
             ],
             [
              0.4444444444444444,
              "#bd3786"
             ],
             [
              0.5555555555555556,
              "#d8576b"
             ],
             [
              0.6666666666666666,
              "#ed7953"
             ],
             [
              0.7777777777777778,
              "#fb9f3a"
             ],
             [
              0.8888888888888888,
              "#fdca26"
             ],
             [
              1,
              "#f0f921"
             ]
            ],
            "type": "heatmap"
           }
          ],
          "heatmapgl": [
           {
            "colorbar": {
             "outlinewidth": 0,
             "ticks": ""
            },
            "colorscale": [
             [
              0,
              "#0d0887"
             ],
             [
              0.1111111111111111,
              "#46039f"
             ],
             [
              0.2222222222222222,
              "#7201a8"
             ],
             [
              0.3333333333333333,
              "#9c179e"
             ],
             [
              0.4444444444444444,
              "#bd3786"
             ],
             [
              0.5555555555555556,
              "#d8576b"
             ],
             [
              0.6666666666666666,
              "#ed7953"
             ],
             [
              0.7777777777777778,
              "#fb9f3a"
             ],
             [
              0.8888888888888888,
              "#fdca26"
             ],
             [
              1,
              "#f0f921"
             ]
            ],
            "type": "heatmapgl"
           }
          ],
          "histogram": [
           {
            "marker": {
             "pattern": {
              "fillmode": "overlay",
              "size": 10,
              "solidity": 0.2
             }
            },
            "type": "histogram"
           }
          ],
          "histogram2d": [
           {
            "colorbar": {
             "outlinewidth": 0,
             "ticks": ""
            },
            "colorscale": [
             [
              0,
              "#0d0887"
             ],
             [
              0.1111111111111111,
              "#46039f"
             ],
             [
              0.2222222222222222,
              "#7201a8"
             ],
             [
              0.3333333333333333,
              "#9c179e"
             ],
             [
              0.4444444444444444,
              "#bd3786"
             ],
             [
              0.5555555555555556,
              "#d8576b"
             ],
             [
              0.6666666666666666,
              "#ed7953"
             ],
             [
              0.7777777777777778,
              "#fb9f3a"
             ],
             [
              0.8888888888888888,
              "#fdca26"
             ],
             [
              1,
              "#f0f921"
             ]
            ],
            "type": "histogram2d"
           }
          ],
          "histogram2dcontour": [
           {
            "colorbar": {
             "outlinewidth": 0,
             "ticks": ""
            },
            "colorscale": [
             [
              0,
              "#0d0887"
             ],
             [
              0.1111111111111111,
              "#46039f"
             ],
             [
              0.2222222222222222,
              "#7201a8"
             ],
             [
              0.3333333333333333,
              "#9c179e"
             ],
             [
              0.4444444444444444,
              "#bd3786"
             ],
             [
              0.5555555555555556,
              "#d8576b"
             ],
             [
              0.6666666666666666,
              "#ed7953"
             ],
             [
              0.7777777777777778,
              "#fb9f3a"
             ],
             [
              0.8888888888888888,
              "#fdca26"
             ],
             [
              1,
              "#f0f921"
             ]
            ],
            "type": "histogram2dcontour"
           }
          ],
          "mesh3d": [
           {
            "colorbar": {
             "outlinewidth": 0,
             "ticks": ""
            },
            "type": "mesh3d"
           }
          ],
          "parcoords": [
           {
            "line": {
             "colorbar": {
              "outlinewidth": 0,
              "ticks": ""
             }
            },
            "type": "parcoords"
           }
          ],
          "pie": [
           {
            "automargin": true,
            "type": "pie"
           }
          ],
          "scatter": [
           {
            "fillpattern": {
             "fillmode": "overlay",
             "size": 10,
             "solidity": 0.2
            },
            "type": "scatter"
           }
          ],
          "scatter3d": [
           {
            "line": {
             "colorbar": {
              "outlinewidth": 0,
              "ticks": ""
             }
            },
            "marker": {
             "colorbar": {
              "outlinewidth": 0,
              "ticks": ""
             }
            },
            "type": "scatter3d"
           }
          ],
          "scattercarpet": [
           {
            "marker": {
             "colorbar": {
              "outlinewidth": 0,
              "ticks": ""
             }
            },
            "type": "scattercarpet"
           }
          ],
          "scattergeo": [
           {
            "marker": {
             "colorbar": {
              "outlinewidth": 0,
              "ticks": ""
             }
            },
            "type": "scattergeo"
           }
          ],
          "scattergl": [
           {
            "marker": {
             "colorbar": {
              "outlinewidth": 0,
              "ticks": ""
             }
            },
            "type": "scattergl"
           }
          ],
          "scattermapbox": [
           {
            "marker": {
             "colorbar": {
              "outlinewidth": 0,
              "ticks": ""
             }
            },
            "type": "scattermapbox"
           }
          ],
          "scatterpolar": [
           {
            "marker": {
             "colorbar": {
              "outlinewidth": 0,
              "ticks": ""
             }
            },
            "type": "scatterpolar"
           }
          ],
          "scatterpolargl": [
           {
            "marker": {
             "colorbar": {
              "outlinewidth": 0,
              "ticks": ""
             }
            },
            "type": "scatterpolargl"
           }
          ],
          "scatterternary": [
           {
            "marker": {
             "colorbar": {
              "outlinewidth": 0,
              "ticks": ""
             }
            },
            "type": "scatterternary"
           }
          ],
          "surface": [
           {
            "colorbar": {
             "outlinewidth": 0,
             "ticks": ""
            },
            "colorscale": [
             [
              0,
              "#0d0887"
             ],
             [
              0.1111111111111111,
              "#46039f"
             ],
             [
              0.2222222222222222,
              "#7201a8"
             ],
             [
              0.3333333333333333,
              "#9c179e"
             ],
             [
              0.4444444444444444,
              "#bd3786"
             ],
             [
              0.5555555555555556,
              "#d8576b"
             ],
             [
              0.6666666666666666,
              "#ed7953"
             ],
             [
              0.7777777777777778,
              "#fb9f3a"
             ],
             [
              0.8888888888888888,
              "#fdca26"
             ],
             [
              1,
              "#f0f921"
             ]
            ],
            "type": "surface"
           }
          ],
          "table": [
           {
            "cells": {
             "fill": {
              "color": "#EBF0F8"
             },
             "line": {
              "color": "white"
             }
            },
            "header": {
             "fill": {
              "color": "#C8D4E3"
             },
             "line": {
              "color": "white"
             }
            },
            "type": "table"
           }
          ]
         },
         "layout": {
          "annotationdefaults": {
           "arrowcolor": "#2a3f5f",
           "arrowhead": 0,
           "arrowwidth": 1
          },
          "autotypenumbers": "strict",
          "coloraxis": {
           "colorbar": {
            "outlinewidth": 0,
            "ticks": ""
           }
          },
          "colorscale": {
           "diverging": [
            [
             0,
             "#8e0152"
            ],
            [
             0.1,
             "#c51b7d"
            ],
            [
             0.2,
             "#de77ae"
            ],
            [
             0.3,
             "#f1b6da"
            ],
            [
             0.4,
             "#fde0ef"
            ],
            [
             0.5,
             "#f7f7f7"
            ],
            [
             0.6,
             "#e6f5d0"
            ],
            [
             0.7,
             "#b8e186"
            ],
            [
             0.8,
             "#7fbc41"
            ],
            [
             0.9,
             "#4d9221"
            ],
            [
             1,
             "#276419"
            ]
           ],
           "sequential": [
            [
             0,
             "#0d0887"
            ],
            [
             0.1111111111111111,
             "#46039f"
            ],
            [
             0.2222222222222222,
             "#7201a8"
            ],
            [
             0.3333333333333333,
             "#9c179e"
            ],
            [
             0.4444444444444444,
             "#bd3786"
            ],
            [
             0.5555555555555556,
             "#d8576b"
            ],
            [
             0.6666666666666666,
             "#ed7953"
            ],
            [
             0.7777777777777778,
             "#fb9f3a"
            ],
            [
             0.8888888888888888,
             "#fdca26"
            ],
            [
             1,
             "#f0f921"
            ]
           ],
           "sequentialminus": [
            [
             0,
             "#0d0887"
            ],
            [
             0.1111111111111111,
             "#46039f"
            ],
            [
             0.2222222222222222,
             "#7201a8"
            ],
            [
             0.3333333333333333,
             "#9c179e"
            ],
            [
             0.4444444444444444,
             "#bd3786"
            ],
            [
             0.5555555555555556,
             "#d8576b"
            ],
            [
             0.6666666666666666,
             "#ed7953"
            ],
            [
             0.7777777777777778,
             "#fb9f3a"
            ],
            [
             0.8888888888888888,
             "#fdca26"
            ],
            [
             1,
             "#f0f921"
            ]
           ]
          },
          "colorway": [
           "#636efa",
           "#EF553B",
           "#00cc96",
           "#ab63fa",
           "#FFA15A",
           "#19d3f3",
           "#FF6692",
           "#B6E880",
           "#FF97FF",
           "#FECB52"
          ],
          "font": {
           "color": "#2a3f5f"
          },
          "geo": {
           "bgcolor": "white",
           "lakecolor": "white",
           "landcolor": "#E5ECF6",
           "showlakes": true,
           "showland": true,
           "subunitcolor": "white"
          },
          "hoverlabel": {
           "align": "left"
          },
          "hovermode": "closest",
          "mapbox": {
           "style": "light"
          },
          "paper_bgcolor": "white",
          "plot_bgcolor": "#E5ECF6",
          "polar": {
           "angularaxis": {
            "gridcolor": "white",
            "linecolor": "white",
            "ticks": ""
           },
           "bgcolor": "#E5ECF6",
           "radialaxis": {
            "gridcolor": "white",
            "linecolor": "white",
            "ticks": ""
           }
          },
          "scene": {
           "xaxis": {
            "backgroundcolor": "#E5ECF6",
            "gridcolor": "white",
            "gridwidth": 2,
            "linecolor": "white",
            "showbackground": true,
            "ticks": "",
            "zerolinecolor": "white"
           },
           "yaxis": {
            "backgroundcolor": "#E5ECF6",
            "gridcolor": "white",
            "gridwidth": 2,
            "linecolor": "white",
            "showbackground": true,
            "ticks": "",
            "zerolinecolor": "white"
           },
           "zaxis": {
            "backgroundcolor": "#E5ECF6",
            "gridcolor": "white",
            "gridwidth": 2,
            "linecolor": "white",
            "showbackground": true,
            "ticks": "",
            "zerolinecolor": "white"
           }
          },
          "shapedefaults": {
           "line": {
            "color": "#2a3f5f"
           }
          },
          "ternary": {
           "aaxis": {
            "gridcolor": "white",
            "linecolor": "white",
            "ticks": ""
           },
           "baxis": {
            "gridcolor": "white",
            "linecolor": "white",
            "ticks": ""
           },
           "bgcolor": "#E5ECF6",
           "caxis": {
            "gridcolor": "white",
            "linecolor": "white",
            "ticks": ""
           }
          },
          "title": {
           "x": 0.05
          },
          "xaxis": {
           "automargin": true,
           "gridcolor": "white",
           "linecolor": "white",
           "ticks": "",
           "title": {
            "standoff": 15
           },
           "zerolinecolor": "white",
           "zerolinewidth": 2
          },
          "yaxis": {
           "automargin": true,
           "gridcolor": "white",
           "linecolor": "white",
           "ticks": "",
           "title": {
            "standoff": 15
           },
           "zerolinecolor": "white",
           "zerolinewidth": 2
          }
         }
        }
       }
      }
     },
     "metadata": {},
     "output_type": "display_data"
    }
   ],
   "source": [
    "import plotly.graph_objs as go\n",
    "\n",
    "# Assuming you have a variable named 'highlighted_point_index' that indicates the index of the point you want to highlight\n",
    "highlighted_point_index = 25  # Change this to the index of the point you want to highlight\n",
    "\n",
    "points = lattice.points\n",
    "# Separate points based on their type (A or B)\n",
    "points_A = [point for point in points if point.type == 'Yb']\n",
    "points_B = [point for point in points if point.type == 'Er']\n",
    "\n",
    "# Extract coordinates and values for points of type A\n",
    "euclidean_coords_A = [(point.to_euclidean()) for point in points_A]\n",
    "x_A = [point[0] for point in euclidean_coords_A]\n",
    "y_A = [point[1] for point in euclidean_coords_A]\n",
    "z_A = [point[2] for point in euclidean_coords_A]\n",
    "values_A = [point.state for point in points_A]\n",
    "\n",
    "# Extract coordinates and values for points of type B\n",
    "euclidean_coords_B = [(point.to_euclidean()) for point in points_B]\n",
    "x_B = [point[0] for point in euclidean_coords_B]\n",
    "y_B = [point[1] for point in euclidean_coords_B]\n",
    "z_B = [point[2] for point in euclidean_coords_B]\n",
    "values_B = [point.state for point in points_B]\n",
    "\n",
    "# Create 3D scatter plots\n",
    "trace_A = go.Scatter3d(x=x_A, y=y_A, z=z_A, mode='markers+text',\n",
    "                       marker=dict(size=6, color='blue', opacity=0.8),\n",
    "                       text=values_A, textposition='top center',\n",
    "                       name='Yb')\n",
    "\n",
    "trace_B = go.Scatter3d(x=x_B, y=y_B, z=z_B, mode='markers+text',\n",
    "                       marker=dict(size=6, color='pink', opacity=0.8),\n",
    "                       text=values_B, textposition='top center',\n",
    "                       name='Er')\n",
    "\n",
    "# Create a trace for the highlighted point\n",
    "highlighted_point_trace = go.Scatter3d(x=[x_A[highlighted_point_index]],\n",
    "                                       y=[y_A[highlighted_point_index]],\n",
    "                                       z=[z_A[highlighted_point_index]],\n",
    "                                       mode='markers',\n",
    "                                       marker=dict(size=10, color='red'),  # Larger and red marker\n",
    "                                       name='Highlighted Point')\n",
    "\n",
    "# Combine plots and set layout\n",
    "data = [trace_A, trace_B, highlighted_point_trace]\n",
    "layout = go.Layout(margin=dict(l=0, r=0, b=0, t=0))\n",
    "fig = go.Figure(data=data, layout=layout)\n",
    "fig.update_layout(legend=dict(title='Legend'))\n",
    "fig.layout.scene.camera.projection.type = \"orthographic\"\n",
    "\n",
    "# Display the figure\n",
    "fig.show()\n",
    "    "
   ]
  },
  {
   "cell_type": "code",
   "execution_count": 21,
   "metadata": {},
   "outputs": [
    {
     "data": {
      "text/plain": [
       "[(-0.5960000000000001, -0.34410076043701693, -0.1765),\n",
       " (-0.5960000000000001, -0.34410076043701693, 0.5295),\n",
       " (-0.29800000000000004, 0.17205038021850844, -0.5295),\n",
       " (-0.29800000000000004, 0.17205038021850844, -0.1765),\n",
       " (-0.29800000000000004, 0.17205038021850844, 0.1765),\n",
       " (-0.29800000000000004, 0.17205038021850844, 0.5295),\n",
       " (-5.551115123125783e-17, 0.6882015208740337, -0.5295),\n",
       " (-5.551115123125783e-17, 0.6882015208740337, 0.1765),\n",
       " (-2.7755575615628914e-17, -0.34410076043701693, -0.5295),\n",
       " (-2.7755575615628914e-17, -0.34410076043701693, -0.1765)]"
      ]
     },
     "execution_count": 21,
     "metadata": {},
     "output_type": "execute_result"
    }
   ],
   "source": [
    "euclidean_coords_A[:10]"
   ]
  },
  {
   "cell_type": "code",
   "execution_count": 22,
   "metadata": {},
   "outputs": [
    {
     "data": {
      "text/plain": [
       "[(-2.7755575615628914e-17, -0.34410076043701693, 0.1765),\n",
       " (-2.7755575615628914e-17, -0.34410076043701693, 0.5295),\n",
       " (-2.7755575615628914e-17, -0.34410076043701693, 0.8825),\n",
       " (0.298, 0.17205038021850844, -0.1765),\n",
       " (0.298, 0.17205038021850844, 0.1765),\n",
       " (0.298, 0.17205038021850844, 0.8825),\n",
       " (0.596, 0.6882015208740337, 0.1765),\n",
       " (0.596, -0.34410076043701693, -0.1765),\n",
       " (0.596, -0.34410076043701693, 0.1765),\n",
       " (0.8939999999999999, 0.17205038021850844, -0.1765)]"
      ]
     },
     "execution_count": 22,
     "metadata": {},
     "output_type": "execute_result"
    }
   ],
   "source": [
    "euclidean_coords_A[10:20]"
   ]
  },
  {
   "cell_type": "code",
   "execution_count": 23,
   "metadata": {},
   "outputs": [
    {
     "data": {
      "text/plain": [
       "[(-0.8939999999999999, -0.17205038021850844, 0.1765),\n",
       " (-0.596, 0.34410076043701693, -0.1765),\n",
       " (-0.596, 0.34410076043701693, 0.1765),\n",
       " (-0.596, 0.34410076043701693, 0.5295),\n",
       " (-0.596, -0.6882015208740337, -0.1765),\n",
       " (-0.298, -0.17205038021850844, -0.1765),\n",
       " (-0.298, -0.17205038021850844, 0.1765),\n",
       " (-0.298, -0.17205038021850844, 0.8825),\n",
       " (2.7755575615628914e-17, 0.34410076043701693, -0.5295),\n",
       " (2.7755575615628914e-17, 0.34410076043701693, 0.1765)]"
      ]
     },
     "execution_count": 23,
     "metadata": {},
     "output_type": "execute_result"
    }
   ],
   "source": [
    "euclidean_coords_A[20:30]"
   ]
  },
  {
   "cell_type": "code",
   "execution_count": null,
   "metadata": {},
   "outputs": [],
   "source": []
  }
 ],
 "metadata": {
  "kernelspec": {
   "display_name": "Python 3",
   "language": "python",
   "name": "python3"
  },
  "language_info": {
   "codemirror_mode": {
    "name": "ipython",
    "version": 3
   },
   "file_extension": ".py",
   "mimetype": "text/x-python",
   "name": "python",
   "nbconvert_exporter": "python",
   "pygments_lexer": "ipython3",
   "version": "3.11.3"
  }
 },
 "nbformat": 4,
 "nbformat_minor": 2
}
