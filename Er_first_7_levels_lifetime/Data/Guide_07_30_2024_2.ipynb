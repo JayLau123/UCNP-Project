{
 "cells": [
  {
   "cell_type": "markdown",
   "id": "af023dc4",
   "metadata": {},
   "source": [
    "# Guide for Dataset - 07_30_2024_2\n",
    "\n",
    "MPR: all rates divided by 4"
   ]
  },
  {
   "cell_type": "code",
   "execution_count": 1,
   "id": "bedf6662",
   "metadata": {},
   "outputs": [
    {
     "name": "stdout",
     "output_type": "stream",
     "text": [
      "data loaded successfully\n"
     ]
    }
   ],
   "source": [
    "import pickle\n",
    "import os\n",
    "from datetime import datetime\n",
    "import plotly.graph_objects as go\n",
    "import nbformat as nbf\n",
    "                            \n",
    "\n",
    "\n",
    "# Load the data\n",
    "\n",
    "filepath = f'myC_07_30_2024_2.pkl'\n",
    "with open(filepath, 'rb') as f:\n",
    "    data = pickle.load(f)\n",
    "\n",
    "print(\"data loaded successfully\")\n",
    "\n"
   ]
  },
  {
   "cell_type": "code",
   "execution_count": 2,
   "id": "8dd91d54",
   "metadata": {},
   "outputs": [
    {
     "name": "stdout",
     "output_type": "stream",
     "text": [
      "Percentages: [0.02, 0.6]\n",
      "Power Densities: [10000, 100000, 1000000]\n"
     ]
    }
   ],
   "source": [
    "# check the percentages and power density\n",
    "\n",
    "percentages = sorted(data.keys())\n",
    "power_densities = sorted({k for subdict in data.values() for k in subdict.keys()})\n",
    "print('Percentages:', percentages)\n",
    "print('Power Densities:', sorted(power_densities))\n",
    "\n",
    "    "
   ]
  },
  {
   "cell_type": "code",
   "execution_count": 3,
   "id": "f51b2600",
   "metadata": {},
   "outputs": [
    {
     "data": {
      "text/plain": [
       "{(0.02, 10000): (0.0, 0.0, nan),\n",
       " (0.6, 10000): (0.0, 0.0, nan),\n",
       " (0.02, 100000): (0.0, 0.0, nan),\n",
       " (0.6, 100000): (0.0, 0.0, nan),\n",
       " (0.02, 1000000): (0.0, 0.0, nan),\n",
       " (0.6, 1000000): (0.0, 0.0, nan)}"
      ]
     },
     "execution_count": 3,
     "metadata": {},
     "output_type": "execute_result"
    }
   ],
   "source": [
    "ratio = {}\n",
    "\n",
    "for p in power_densities:\n",
    "    \n",
    "    ratio[(0.02,p)] = (data[0.02][p]['green_avg'], data[0.02][p]['red_avg'], data[0.02][p]['green_red_ratio'])\n",
    "    ratio[(0.6,p)] = (data[0.6][p]['green_avg'], data[0.6][p]['red_avg'], data[0.6][p]['green_red_ratio'])\n",
    "\n",
    "ratio"
   ]
  },
  {
   "cell_type": "code",
   "execution_count": 4,
   "id": "6f32c077",
   "metadata": {},
   "outputs": [
    {
     "data": {
      "text/plain": [
       "{(0.02, 10000): 1.9339958482274717,\n",
       " (0.6, 10000): 1.7223375566482866,\n",
       " (0.02, 100000): 1.986008956971395,\n",
       " (0.6, 100000): 1.9615791156473052,\n",
       " (0.02, 1000000): 2.1152511807407683,\n",
       " (0.6, 1000000): 1.5522009383133741}"
      ]
     },
     "execution_count": 4,
     "metadata": {},
     "output_type": "execute_result"
    }
   ],
   "source": [
    "\n",
    "ratio = {}\n",
    "\n",
    "# power_densities = [10**4, 10**5, 10**6]\n",
    "\n",
    "for p in power_densities:\n",
    "    ratio[(0.02, p)] = data[0.02][p]['green_5_0s_avg_pop']/data[0.02][p]['red_4_0s_avg_pop']\n",
    "    ratio[(0.6, p)] = data[0.6][p]['green_5_0s_avg_pop']/data[0.6][p]['red_4_0s_avg_pop']\n",
    "\n",
    "ratio"
   ]
  },
  {
   "cell_type": "code",
   "execution_count": null,
   "id": "feb39884",
   "metadata": {},
   "outputs": [],
   "source": [
    "\n",
    "\n",
    "# check the percentages and power density\n",
    "\n",
    "percentages = sorted(data.keys())\n",
    "power_densities = sorted({k for subdict in data.values() for k in subdict.keys()})\n",
    "print('Percentages:', percentages)\n",
    "print('Power Densities:', sorted(power_densities))\n",
    "\n",
    "    "
   ]
  },
  {
   "cell_type": "code",
   "execution_count": null,
   "id": "23969e09",
   "metadata": {},
   "outputs": [],
   "source": [
    "\n",
    "\n",
    "KEY1 = []\n",
    "KEY2 = []\n",
    "\n",
    "for key1 in data:\n",
    "    KEY1.append(key1)\n",
    "print(f'All percentages = {KEY1}')\n",
    "\n",
    "for value1 in data.values():\n",
    "    for key2 in value1:\n",
    "        KEY2.append(key2)\n",
    "    break \n",
    "print(f'For each percentage, all power densities = {KEY2}')\n",
    "\n",
    "unique_third_keys = set()\n",
    "print('For each combination of Percentage+Power density, the accessible data:')\n",
    "for value1 in data.values():\n",
    "    for value2 in value1.values():\n",
    "        for key3, value3 in value2.items():\n",
    "            if key3 not in unique_third_keys:\n",
    "                unique_third_keys.add(key3)\n",
    "                print(f'key3 = {key3}, value3 = {value3}')\n",
    "\n",
    "    "
   ]
  },
  {
   "cell_type": "code",
   "execution_count": null,
   "id": "f3de7ca5",
   "metadata": {},
   "outputs": [],
   "source": [
    "# Import the SaturationPlot class from the SaturationCurves module\n",
    "from OptimalPercentage_Er import SaturationPlot\n",
    "\n",
    "# Generate the saturation curves plot\n",
    "plot = SaturationPlot(data)\n",
    "plot.generate_plot(output_file='saturation_plot.html')\n"
   ]
  },
  {
   "cell_type": "code",
   "execution_count": null,
   "id": "6b41ba1b",
   "metadata": {},
   "outputs": [],
   "source": [
    "# Import the SinglePowerDensityPlot class from the OptimalPercentage module\n",
    "from PopulationEvolution_Er import SinglePowerDensityPlot\n",
    "\n",
    "\n",
    "# Provide a list of available power densities\n",
    "available_power_densities = sorted({k for subdict in data.values() for k in subdict.keys()})\n",
    "print(f'Available power densities: {available_power_densities}')\n",
    "\n",
    "# Prompt the user to select a power density\n",
    "selected_power_density = float(input(f'Input a power density from the above options: '))\n",
    "\n",
    "# Generate the single power density plot\n",
    "single_plot = SinglePowerDensityPlot(data, selected_power_density)\n",
    "single_plot.generate_plot(output_file='single_power_density_plot.html')\n"
   ]
  },
  {
   "cell_type": "code",
   "execution_count": null,
   "id": "5244d294",
   "metadata": {},
   "outputs": [],
   "source": [
    "# Import the PopulationEvolutionPlot class from the PopulationEvolution module\n",
    "from PopulationEvolution import PopulationEvolutionPlot\n",
    "\n",
    "# Provide a list of available percentages\n",
    "\n",
    "available_percentages = sorted(data.keys())\n",
    "print(f'Available percentages: {available_percentages}')\n",
    "# Prompt the user to select a percentage\n",
    "percentage = float(input(f'Input a percentage from the above options: '))\n",
    "\n",
    "available_power_densities = sorted({k for k in data[percentage].keys()})\n",
    "print(f'Available power densities for percentage {percentage}: {available_power_densities}')\n",
    "# Prompt the user to select a power density\n",
    "power_density = float(input(f'Input a power density from the above options: '))\n",
    "\n",
    "\n",
    "# Generate the population evolution plot\n",
    "pop_plot = PopulationEvolutionPlot(data, percentage, power_density)\n",
    "pop_plot.generate_plot(output_file='population_evolution_plot.html')\n"
   ]
  }
 ],
 "metadata": {
  "kernelspec": {
   "display_name": "base",
   "language": "python",
   "name": "python3"
  },
  "language_info": {
   "codemirror_mode": {
    "name": "ipython",
    "version": 3
   },
   "file_extension": ".py",
   "mimetype": "text/x-python",
   "name": "python",
   "nbconvert_exporter": "python",
   "pygments_lexer": "ipython3",
   "version": "3.11.4"
  }
 },
 "nbformat": 4,
 "nbformat_minor": 5
}
